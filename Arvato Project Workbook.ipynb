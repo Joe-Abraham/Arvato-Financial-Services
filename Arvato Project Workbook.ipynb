{
 "cells": [
  {
   "cell_type": "markdown",
   "metadata": {},
   "source": [
    "# Capstone Project: Create a Customer Segmentation Report for Arvato Financial Services\n",
    "\n",
    "In this project, you will analyze demographics data for customers of a mail-order sales company in Germany, comparing it against demographics information for the general population. You'll use unsupervised learning techniques to perform customer segmentation, identifying the parts of the population that best describe the core customer base of the company. Then, you'll apply what you've learned on a third dataset with demographics information for targets of a marketing campaign for the company, and use a model to predict which individuals are most likely to convert into becoming customers for the company. The data that you will use has been provided by our partners at Bertelsmann Arvato Analytics, and represents a real-life data science task.\n",
    "\n",
    "If you completed the first term of this program, you will be familiar with the first part of this project, from the unsupervised learning project. The versions of those two datasets used in this project will include many more features and has not been pre-cleaned. You are also free to choose whatever approach you'd like to analyzing the data rather than follow pre-determined steps. In your work on this project, make sure that you carefully document your steps and decisions, since your main deliverable for this project will be a blog post reporting your findings."
   ]
  },
  {
   "cell_type": "code",
   "execution_count": 61,
   "metadata": {},
   "outputs": [
    {
     "name": "stdout",
     "output_type": "stream",
     "text": [
      "Collecting scikit-learn\n",
      "  Downloading scikit_learn-0.23.2-cp38-cp38-macosx_10_9_x86_64.whl (7.2 MB)\n",
      "\u001b[K     |████████████████████████████████| 7.2 MB 2.3 MB/s eta 0:00:01\n",
      "\u001b[?25hRequirement already satisfied, skipping upgrade: threadpoolctl>=2.0.0 in /Library/Frameworks/Python.framework/Versions/3.8/lib/python3.8/site-packages (from scikit-learn) (2.1.0)\n",
      "Requirement already satisfied, skipping upgrade: scipy>=0.19.1 in /Library/Frameworks/Python.framework/Versions/3.8/lib/python3.8/site-packages (from scikit-learn) (1.4.1)\n",
      "Requirement already satisfied, skipping upgrade: numpy>=1.13.3 in /Library/Frameworks/Python.framework/Versions/3.8/lib/python3.8/site-packages (from scikit-learn) (1.18.4)\n",
      "Requirement already satisfied, skipping upgrade: joblib>=0.11 in /Library/Frameworks/Python.framework/Versions/3.8/lib/python3.8/site-packages (from scikit-learn) (0.15.1)\n",
      "Installing collected packages: scikit-learn\n",
      "  Attempting uninstall: scikit-learn\n",
      "    Found existing installation: scikit-learn 0.23.1\n",
      "    Uninstalling scikit-learn-0.23.1:\n",
      "      Successfully uninstalled scikit-learn-0.23.1\n",
      "Successfully installed scikit-learn-0.23.2\n"
     ]
    }
   ],
   "source": [
    "!pip install -U scikit-learn"
   ]
  },
  {
   "cell_type": "code",
   "execution_count": 62,
   "metadata": {},
   "outputs": [],
   "source": [
    "# import libraries here; add more as necessary\n",
    "import numpy as np\n",
    "import pandas as pd\n",
    "import matplotlib.pyplot as plt\n",
    "import seaborn as sns\n",
    "\n",
    "from sklearn.preprocessing import StandardScaler\n",
    "from sklearn.preprocessing import MinMaxScaler\n",
    "from sklearn.decomposition import PCA\n",
    "from sklearn.cluster import KMeans\n",
    "\n",
    "from sklearn.impute import SimpleImputer\n",
    "\n",
    "from sklearn.manifold import TSNE\n",
    "\n",
    "from scipy import stats\n",
    "\n",
    "import datetime\n",
    "\n",
    "# magic word for producing visualizations in notebook\n",
    "%matplotlib inline"
   ]
  },
  {
   "cell_type": "markdown",
   "metadata": {},
   "source": [
    "## Part 0: Get to Know the Data\n",
    "\n",
    "There are four data files associated with this project:\n",
    "\n",
    "- `Udacity_AZDIAS_052018.csv`: Demographics data for the general population of Germany; 891 211 persons (rows) x 366 features (columns).\n",
    "- `Udacity_CUSTOMERS_052018.csv`: Demographics data for customers of a mail-order company; 191 652 persons (rows) x 369 features (columns).\n",
    "- `Udacity_MAILOUT_052018_TRAIN.csv`: Demographics data for individuals who were targets of a marketing campaign; 42 982 persons (rows) x 367 (columns).\n",
    "- `Udacity_MAILOUT_052018_TEST.csv`: Demographics data for individuals who were targets of a marketing campaign; 42 833 persons (rows) x 366 (columns).\n",
    "\n",
    "Each row of the demographics files represents a single person, but also includes information outside of individuals, including information about their household, building, and neighborhood. Use the information from the first two files to figure out how customers (\"CUSTOMERS\") are similar to or differ from the general population at large (\"AZDIAS\"), then use your analysis to make predictions on the other two files (\"MAILOUT\"), predicting which recipients are most likely to become a customer for the mail-order company.\n",
    "\n",
    "The \"CUSTOMERS\" file contains three extra columns ('CUSTOMER_GROUP', 'ONLINE_PURCHASE', and 'PRODUCT_GROUP'), which provide broad information about the customers depicted in the file. The original \"MAILOUT\" file included one additional column, \"RESPONSE\", which indicated whether or not each recipient became a customer of the company. For the \"TRAIN\" subset, this column has been retained, but in the \"TEST\" subset it has been removed; it is against that withheld column that your final predictions will be assessed in the Kaggle competition.\n",
    "\n",
    "Otherwise, all of the remaining columns are the same between the three data files. For more information about the columns depicted in the files, you can refer to two Excel spreadsheets provided in the workspace. [One of them](./DIAS Information Levels - Attributes 2017.xlsx) is a top-level list of attributes and descriptions, organized by informational category. [The other](./DIAS Attributes - Values 2017.xlsx) is a detailed mapping of data values for each feature in alphabetical order.\n",
    "\n",
    "In the below cell, we've provided some initial code to load in the first two datasets. Note for all of the `.csv` data files in this project that they're semicolon (`;`) delimited, so an additional argument in the [`read_csv()`](https://pandas.pydata.org/pandas-docs/stable/generated/pandas.read_csv.html) call has been included to read in the data properly. Also, considering the size of the datasets, it may take some time for them to load completely.\n",
    "\n",
    "You'll notice when the data is loaded in that a warning message will immediately pop up. Before you really start digging into the modeling and analysis, you're going to need to perform some cleaning. Take some time to browse the structure of the data and look over the informational spreadsheets to understand the data values. Make some decisions on which features to keep, which features to drop, and if any revisions need to be made on data formats. It'll be a good idea to create a function with pre-processing steps, since you'll need to clean all of the datasets before you work with them."
   ]
  },
  {
   "cell_type": "code",
   "execution_count": 13,
   "metadata": {},
   "outputs": [],
   "source": [
    "# load in the data\n",
    "#azdias = pd.read_csv('../../data/Term2/capstone/arvato_data/Udacity_AZDIAS_052018.csv', sep=';')\n",
    "#customers = pd.read_csv('../../data/Term2/capstone/arvato_data/Udacity_CUSTOMERS_052018.csv', sep=';')"
   ]
  },
  {
   "cell_type": "markdown",
   "metadata": {},
   "source": [
    "First 5 rows of both datasets, its shape and count of missing values in each datasets"
   ]
  },
  {
   "cell_type": "code",
   "execution_count": 14,
   "metadata": {},
   "outputs": [],
   "source": [
    "#display(azdias.head())"
   ]
  },
  {
   "cell_type": "code",
   "execution_count": 15,
   "metadata": {},
   "outputs": [],
   "source": [
    "#print(azdias.shape)"
   ]
  },
  {
   "cell_type": "code",
   "execution_count": 5,
   "metadata": {},
   "outputs": [],
   "source": [
    "#display(customers.head())"
   ]
  },
  {
   "cell_type": "code",
   "execution_count": 6,
   "metadata": {},
   "outputs": [],
   "source": [
    "#print(customers.shape)"
   ]
  },
  {
   "cell_type": "code",
   "execution_count": 7,
   "metadata": {},
   "outputs": [],
   "source": [
    "#attribute_info.head()"
   ]
  },
  {
   "cell_type": "code",
   "execution_count": 8,
   "metadata": {},
   "outputs": [],
   "source": [
    "#more_info.head()"
   ]
  },
  {
   "cell_type": "markdown",
   "metadata": {},
   "source": [
    "## Part 1: Customer Segmentation Report\n",
    "\n",
    "The main bulk of your analysis will come in this part of the project. Here, you should use unsupervised learning techniques to describe the relationship between the demographics of the company's existing customers and the general population of Germany. By the end of this part, you should be able to describe parts of the general population that are more likely to be part of the mail-order company's main customer base, and which parts of the general population are less so."
   ]
  },
  {
   "cell_type": "code",
   "execution_count": 9,
   "metadata": {},
   "outputs": [
    {
     "name": "stderr",
     "output_type": "stream",
     "text": [
      "/Library/Frameworks/Python.framework/Versions/3.8/lib/python3.8/site-packages/IPython/core/interactiveshell.py:3062: DtypeWarning: Columns (19,20) have mixed types.Specify dtype option on import or set low_memory=False.\n",
      "  has_raised = await self.run_ast_nodes(code_ast.body, cell_name,\n"
     ]
    }
   ],
   "source": [
    "azdias = pd.read_csv('data/AZDIAS.csv', sep=',')\n",
    "customers = pd.read_csv('data/CUSTOMER.csv', sep=',')\n",
    "attribute_info = pd.read_excel('infos/DIAS Information Levels - Attributes 2017.xlsx',index_col=None, header=None ).drop(columns = 0, axis=1)\n",
    "more_info = pd.read_excel('infos/DIAS Attributes - Values 2017.xlsx',index_col=None, header=None)"
   ]
  },
  {
   "cell_type": "code",
   "execution_count": 16,
   "metadata": {},
   "outputs": [],
   "source": [
    "#data cleaning\n",
    "def str2float(x):\n",
    "    if type(x)==str:\n",
    "        return eval(x)\n",
    "    else:\n",
    "        return x"
   ]
  },
  {
   "cell_type": "code",
   "execution_count": 17,
   "metadata": {},
   "outputs": [],
   "source": [
    "def data_cleaning(df):\n",
    "    '''\n",
    "    Replace strings \n",
    "    Replace missing values to np.nan - data taken from the excel provided.\n",
    "    Replace na with mean\n",
    "    LNR set as index\n",
    "    Removal of outliers\n",
    "    Cleaning columns if it doesn't have enough data\n",
    "    '''\n",
    "    print(df.shape)\n",
    "        \n",
    "    for column in ['CAMEO_DEUG_2015', 'CAMEO_DEU_2015', 'CAMEO_INTL_2015']:\n",
    "        try:\n",
    "            df[column] = df[column].replace([\"X\",\"XX\"],np.nan)\n",
    "        except:\n",
    "            pass\n",
    "        \n",
    "    for column in ['CAMEO_DEUG_2015', 'CAMEO_INTL_2015']:\n",
    "        df[column]=df[column].apply(str2float)\n",
    "    \n",
    "    #change the catergory columns into numbertraining\n",
    "    for column in [\"CAMEO_DEU_2015\",\"D19_LETZTER_KAUF_BRANCHE\",\"OST_WEST_KZ\"]:\n",
    "        df[column] = pd.Categorical(df[column])\n",
    "        df[column] = df[column].cat.codes\n",
    "        \n",
    "    #extract the time,and keep the year   \n",
    "    df[\"EINGEFUEGT_AM\"]=pd.to_datetime(df[\"EINGEFUEGT_AM\"]).dt.year\n",
    "  \n",
    "    temp_col = [\"ALTERSKATEGORIE_GROB\",\"ANREDE_KZ\",\"GEBAEUDETYP\",\"GEOSCORE_KLS7\",\"HAUSHALTSSTRUKTUR\",\n",
    "            'HH_EINKOMMEN_SCORE',\"KBA05_BAUMAX\",\"KBA05_GBZ\",\"KKK\",\"NATIONALITAET_KZ\",\"PRAEGENDE_JUGENDJAHRE\",\n",
    "            \"REGIOTYP\",\"TITEL_KZ\",\"WOHNDAUER_2008\",\"WACHSTUMSGEBIET_NB\",\"W_KEIT_KIND_HH\"]\n",
    "    for column in temp_col:\n",
    "        try:\n",
    "            df[column] = df[column].replace([0,-1],np.nan)\n",
    "        except:\n",
    "            pass\n",
    "        \n",
    "    temp_col= ['KBA05_ALTER1','KBA05_ALTER2','KBA05_ALTER3','KBA05_ALTER4','KBA05_ANHANG','KBA05_AUTOQUOT',\n",
    "             'KBA05_CCM1','KBA05_CCM2','KBA05_CCM3','KBA05_CCM4','KBA05_DIESEL','KBA05_FRAU','KBA05_HERST1',\n",
    "             'KBA05_HERST2','KBA05_HERST3','KBA05_HERST4','KBA05_HERST5','KBA05_HERSTTEMP','KBA05_KRSAQUOT',\n",
    "             'KBA05_KRSHERST1','KBA05_KRSHERST2','KBA05_KRSHERST3','KBA05_KRSKLEIN','KBA05_KRSOBER','KBA05_KRSVAN',\n",
    "             'KBA05_KRSZUL','KBA05_KW1','KBA05_KW2','KBA05_KW3','KBA05_MAXAH','KBA05_MAXBJ','KBA05_MAXHERST',\n",
    "             'KBA05_MAXSEG','KBA05_MAXVORB','KBA05_MOD1','KBA05_MOD2','KBA05_MOD3','KBA05_MOD4','KBA05_MOD8',\n",
    "             'KBA05_MODTEMP','KBA05_MOTOR','KBA05_MOTRAD','KBA05_SEG1','KBA05_SEG10','KBA05_SEG2','KBA05_SEG3',\n",
    "             'KBA05_SEG4','KBA05_SEG5','KBA05_SEG6','KBA05_SEG7','KBA05_SEG8','KBA05_SEG9','KBA05_VORB0',\n",
    "             'KBA05_VORB1','KBA05_VORB2','KBA05_ZUL1','KBA05_ZUL2','KBA05_ZUL3','KBA05_ZUL4','RELAT_AB',\n",
    "             'SEMIO_DOM',\n",
    "             'SEMIO_ERL','SEMIO_FAM','SEMIO_KAEM','SEMIO_KRIT','SEMIO_KULT','SEMIO_LUST','SEMIO_MAT',\n",
    "             'SEMIO_PFLICHT',\n",
    "             'SEMIO_RAT','SEMIO_REL','SEMIO_SOZ','SEMIO_TRADV','SEMIO_VERT','ZABEOTYP']\n",
    "    for column in temp_col:\n",
    "        try:\n",
    "            df[column] = df[column].replace([9,-1],np.nan)\n",
    "        except:\n",
    "            pass\n",
    "\n",
    "    for column in df.columns.values:\n",
    "        try:\n",
    "            df[column] = df[column].replace([-1],np.nan)\n",
    "        except:\n",
    "            pass\n",
    "        \n",
    "    df['GEBURTSJAHR'] = df[\"GEBURTSJAHR\"].replace([0],np.nan)\n",
    "\n",
    "    #get rid of the rows which have the age is 0 which corresponds to NaN\n",
    "    df = df.drop(['Unnamed: 0'],axis = 1)\n",
    "    \n",
    "    corr_matrix = df.corr().abs()\n",
    "    limit = corr_matrix.where(np.triu(np.ones(corr_matrix.shape),k=1).astype(np.bool))\n",
    "    drop_col = [column for column in limit.columns if any(limit[column] > 0.7)]\n",
    "    df = df.drop(drop_col,axis =1)\n",
    "    \n",
    "    df = df.set_index('LNR')\n",
    "    \n",
    "    df_columns = list(df.columns.values)\n",
    "    \n",
    "    imputer = SimpleImputer(missing_values = np.nan , strategy = 'most_frequent')\n",
    "    df = imputer.fit_transform(df)\n",
    "    df = pd.DataFrame(df, columns = df_columns)\n",
    "    print(df.shape)\n",
    "    \n",
    "    return df"
   ]
  },
  {
   "cell_type": "code",
   "execution_count": 12,
   "metadata": {},
   "outputs": [
    {
     "name": "stdout",
     "output_type": "stream",
     "text": [
      "(191652, 370)\n",
      "(191652, 262)\n",
      "CPU times: user 2min 50s, sys: 15.1 s, total: 3min 5s\n",
      "Wall time: 3min 6s\n"
     ]
    }
   ],
   "source": [
    "%%time\n",
    "customers_cleaned = data_cleaning(customers)"
   ]
  },
  {
   "cell_type": "code",
   "execution_count": 13,
   "metadata": {},
   "outputs": [
    {
     "data": {
      "text/plain": [
       "['AGER_TYP: [2.0 1.0 0.0 3.0]',\n",
       " 'AKT_DAT_KL: [1.0 9.0 3.0 7.0 5.0 2.0 4.0 6.0 8.0]',\n",
       " 'ALTER_HH: [10.0 11.0 6.0 8.0 20.0 5.0 14.0 21.0 15.0 17.0 0.0 19.0 9.0 12.0 13.0\\n 18.0 7.0 16.0 4.0 2.0 3.0]',\n",
       " 'ALTER_KIND1: [18.0 8.0 12.0 9.0 7.0 13.0 17.0 14.0 11.0 16.0 6.0 10.0 15.0 5.0 3.0 4.0\\n 2.0]',\n",
       " 'ALTERSKATEGORIE_FEIN: [10.0 0.0 8.0 14.0 9.0 4.0 13.0 6.0 12.0 19.0 17.0 15.0 11.0 16.0 7.0 18.0\\n 21.0 25.0 20.0 24.0 5.0 2.0 22.0 3.0 23.0]',\n",
       " 'ANZ_HAUSHALTE_AKTIV: [1.0 0.0 7.0 74.0 9.0 17.0 12.0 29.0 2.0 45.0 10.0 14.0 15.0 55.0 6.0 5.0\\n 108.0 3.0 25.0 18.0 4.0 11.0 19.0 8.0 26.0 43.0 63.0 47.0 16.0 31.0 57.0\\n 37.0 13.0 22.0 20.0 23.0 27.0 305.0 52.0 21.0 34.0 46.0 24.0 33.0 51.0\\n 523.0 104.0 101.0 59.0 44.0 38.0 61.0 69.0 28.0 48.0 40.0 39.0 145.0\\n 107.0 32.0 76.0 117.0 87.0 84.0 41.0 286.0 92.0 222.0 119.0 71.0 36.0\\n 344.0 42.0 82.0 160.0 35.0 67.0 30.0 112.0 85.0 93.0 58.0 60.0 221.0 77.0\\n 102.0 140.0 79.0 53.0 290.0 243.0 105.0 75.0 50.0 70.0 54.0 165.0 86.0\\n 156.0 277.0 95.0 68.0 185.0 66.0 253.0 157.0 155.0 158.0 149.0 72.0 99.0\\n 379.0 89.0 103.0 209.0 223.0 170.0 111.0 56.0 124.0 81.0 113.0 98.0 154.0\\n 83.0 115.0 106.0 73.0 172.0 97.0 65.0 159.0 62.0 64.0 311.0 252.0 116.0\\n 304.0 100.0 94.0 78.0 229.0 110.0 246.0 49.0 181.0 147.0 137.0 163.0\\n 321.0 114.0 138.0 80.0 128.0 96.0 210.0 118.0 167.0 195.0 127.0 240.0\\n 141.0 265.0 366.0 90.0 109.0 88.0 189.0 161.0 142.0 122.0 267.0 230.0\\n 91.0 199.0 207.0 134.0 204.0 136.0 125.0 301.0 307.0 200.0 120.0 139.0\\n 171.0 331.0 179.0 133.0 146.0 258.0 202.0 135.0 274.0 121.0 238.0 395.0\\n 219.0 211.0 129.0 153.0 131.0 150.0 178.0 148.0 254.0 196.0 367.0 276.0\\n 123.0 190.0 186.0 143.0 348.0 259.0 126.0]',\n",
       " 'ANZ_HH_TITEL: [0.0 2.0 4.0 1.0 13.0 6.0 5.0 3.0 20.0 9.0 11.0 8.0 14.0 18.0 23.0 7.0\\n 12.0 17.0 15.0 10.0]',\n",
       " 'ANZ_KINDER: [0.0 1.0 3.0 2.0 4.0 5.0 6.0 8.0 7.0]',\n",
       " 'ANZ_PERSONEN: [2.0 3.0 1.0 0.0 4.0 5.0 6.0 8.0 7.0 9.0 12.0 11.0 10.0 14.0 16.0 15.0\\n 21.0 13.0]',\n",
       " 'ANZ_TITEL: [0.0 1.0 2.0 3.0 5.0]',\n",
       " 'ARBEIT: [1.0 3.0 2.0 4.0 5.0 9.0]',\n",
       " 'BALLRAUM: [3.0 6.0 7.0 5.0 2.0 1.0 4.0]',\n",
       " 'CAMEO_DEU_2015: [0.0 8.0 21.0 15.0 31.0 10.0 3.0 43.0 13.0 25.0 42.0 36.0 20.0 41.0 17.0\\n 26.0 37.0 35.0 19.0 40.0 12.0 5.0 11.0 23.0 30.0 4.0 7.0 32.0 18.0 6.0\\n 27.0 34.0 22.0 28.0 9.0 39.0 14.0 2.0 1.0 24.0 38.0 33.0 29.0 16.0]',\n",
       " 'CJT_GESAMTTYP: [5.0 6.0 2.0 4.0 1.0 3.0]',\n",
       " 'CJT_KATALOGNUTZER: [4.0 5.0 3.0 2.0 1.0]',\n",
       " 'CJT_TYP_1: [1.0 2.0 3.0 4.0 5.0]',\n",
       " 'CJT_TYP_3: [5.0 3.0 4.0 2.0 1.0]',\n",
       " 'CJT_TYP_6: [5.0 3.0 4.0 2.0 1.0]',\n",
       " 'D19_BANKEN_ANZ_12: [0 1 2 3 4 5 6]',\n",
       " 'D19_BANKEN_DIREKT: [0 5 7 3 6 1 4 2]',\n",
       " 'D19_BANKEN_GROSS: [0 5 3 6 4 2 1]',\n",
       " 'D19_BANKEN_LOKAL: [0 3 7 6 5 2 1 4]',\n",
       " 'D19_BANKEN_OFFLINE_DATUM: [10 8 5 9 2 6 3 1 4 7]',\n",
       " 'D19_BANKEN_REST: [0 6 5 3 7 2 4 1]',\n",
       " 'D19_BEKLEIDUNG_GEH: [0 6 5 2 3 4 7 1]',\n",
       " 'D19_BEKLEIDUNG_REST: [0 6 7 3 5 1 2 4]',\n",
       " 'D19_BILDUNG: [0 6 7 2 5 4 3 1]',\n",
       " 'D19_BIO_OEKO: [0 2 7 3 6 5 4 1]',\n",
       " 'D19_BUCH_CD: [6 0 2 5 3 1 7 4]',\n",
       " 'D19_DIGIT_SERV: [0 5 6 3 2 7 1 4]',\n",
       " 'D19_DROGERIEARTIKEL: [0 6 4 3 7 5 2 1]',\n",
       " 'D19_ENERGIE: [0 5 3 6 7 2 4 1]',\n",
       " 'D19_FREIZEIT: [0 6 3 7 5 2 1 4]',\n",
       " 'D19_GARTEN: [0 6 7 3 5 1 2 4]',\n",
       " 'D19_GESAMT_ANZ_12: [0 3 2 1 4 5 6]',\n",
       " 'D19_GESAMT_OFFLINE_DATUM: [9 10 6 8 5 4 3 7 1 2]',\n",
       " 'D19_HANDWERK: [0 6 7 5 3 2 4 1]',\n",
       " 'D19_HAUS_DEKO: [6 0 3 2 5 7 4 1]',\n",
       " 'D19_KINDERARTIKEL: [0 2 6 3 7 5 1 4]',\n",
       " 'D19_KONSUMTYP: [3.0 5.0 1.0 2.0 9.0 6.0 4.0]',\n",
       " 'D19_KOSMETIK: [0 7 6 3 4 5 2 1]',\n",
       " 'D19_LEBENSMITTEL: [6 0 5 2 3 7 4 1]',\n",
       " 'D19_LETZTER_KAUF_BRANCHE: [30.0 1.0 20.0 24.0 8.0 10.0 25.0 26.0 32.0 27.0 33.0 15.0 11.0 22.0 2.0\\n 31.0 5.0 12.0 4.0 28.0 23.0 0.0 16.0 3.0 18.0 13.0 14.0 21.0 9.0 7.0 6.0\\n 34.0 29.0 19.0 17.0]',\n",
       " 'D19_LOTTO: [0.0 7.0 6.0 5.0 3.0 2.0 4.0 1.0]',\n",
       " 'D19_NAHRUNGSERGAENZUNG: [0 5 3 6 7 4 2 1]',\n",
       " 'D19_RATGEBER: [0 6 5 2 7 3 4 1]',\n",
       " 'D19_REISEN: [0 6 7 5 3 2 1 4]',\n",
       " 'D19_SAMMELARTIKEL: [6 0 2 5 3 7 4 1]',\n",
       " 'D19_SCHUHE: [0 3 6 7 2 5 1 4]',\n",
       " 'D19_SONSTIGE: [6 0 3 7 5 4 1 2]',\n",
       " 'D19_SOZIALES: [1.0 0.0 5.0 4.0 3.0 2.0]',\n",
       " 'D19_TECHNIK: [6 0 7 2 4 3 5 1]',\n",
       " 'D19_TELKO_ANZ_12: [0 2 1 4 3 6 5]',\n",
       " 'D19_TELKO_MOBILE: [0 5 6 3 2 7 4 1]',\n",
       " 'D19_TELKO_OFFLINE_DATUM: [10 9 8 5 1 6 4 3 7 2]',\n",
       " 'D19_TELKO_ONLINE_DATUM: [10 9 5 8 6 7 4 2 1 3]',\n",
       " 'D19_TELKO_ONLINE_QUOTE_12: [0.0 10.0 5.0 3.0]',\n",
       " 'D19_TELKO_REST: [0 6 3 5 7 4 2 1]',\n",
       " 'D19_TIERARTIKEL: [0 6 7 5 3 2 4 1]',\n",
       " 'D19_VERSAND_REST: [0 3 6 5 2 7 4 1]',\n",
       " 'D19_VERSI_ANZ_12: [0 1 2 4 3 5 6]',\n",
       " 'D19_VERSI_OFFLINE_DATUM: [10 4 5 9 8 7 6 3 2 1]',\n",
       " 'D19_VERSI_ONLINE_DATUM: [10 5 6 8 9 4 7 2 1 3]',\n",
       " 'D19_VERSICHERUNGEN: [0 6 7 3 2 1 5 4]',\n",
       " 'D19_VOLLSORTIMENT: [0 6 3 7 2 4 5 1]',\n",
       " 'D19_WEIN_FEINKOST: [0 6 7 3 2 5 4 1]',\n",
       " 'DSL_FLAG: [1.0 0.0]',\n",
       " 'EINGEFUEGT_AM: [1992.0 2004.0 1997.0 1995.0 2007.0 2005.0 1996.0 2012.0 1994.0 2008.0\\n 2003.0 2006.0 1993.0 1998.0 2015.0 2011.0 2000.0 1999.0 2009.0 2010.0\\n 2002.0 2014.0 2001.0 2013.0 2016.0]',\n",
       " 'EINGEZOGENAM_HH_JAHR: [1994.0 2007.0 1996.0 1997.0 2015.0 2012.0 2002.0 2009.0 2005.0 2014.0\\n 2011.0 1998.0 2008.0 1999.0 2004.0 2001.0 2000.0 2003.0 2016.0 2013.0\\n 2006.0 1995.0 2010.0 1993.0 1989.0 1992.0 1990.0 1991.0 2018.0 1988.0\\n 2017.0 1987.0 1986.0]',\n",
       " 'EWDICHTE: [2.0 5.0 4.0 1.0 3.0 6.0]',\n",
       " 'EXTSEL992: [40.0 29.0 26.0 10.0 56.0 48.0 45.0 55.0 35.0 23.0 30.0 53.0 36.0 34.0\\n 50.0 41.0 54.0 6.0 14.0 52.0 37.0 33.0 24.0 51.0 49.0 27.0 43.0 17.0 46.0\\n 18.0 20.0 8.0 11.0 3.0 31.0 7.0 39.0 42.0 22.0 32.0 1.0 38.0 19.0 4.0\\n 47.0 44.0 5.0 21.0 15.0 16.0 9.0 2.0 25.0 28.0 12.0 13.0]',\n",
       " 'FINANZ_HAUSBAUER: [2 4 3 5 1]',\n",
       " 'FINANZ_MINIMALIST: [5 3 2 4 1]',\n",
       " 'FINANZTYP: [2 6 5 3 1 4]',\n",
       " 'FIRMENDICHTE: [4.0 2.0 3.0 1.0 5.0]',\n",
       " 'GEBAEUDETYP: [1.0 8.0 2.0 3.0 4.0 6.0]',\n",
       " 'GFK_URLAUBERTYP: [4.0 5.0 3.0 10.0 2.0 11.0 8.0 1.0 9.0 12.0 7.0 6.0]',\n",
       " 'GREEN_AVANTGARDE: [1 0]',\n",
       " 'HEALTH_TYP: [1.0 2.0 3.0]',\n",
       " 'HH_DELTA_FLAG: [0.0 1.0]',\n",
       " 'HH_EINKOMMEN_SCORE: [1.0 2.0 4.0 6.0 3.0 5.0]',\n",
       " 'INNENSTADT: [4.0 5.0 1.0 7.0 8.0 6.0 2.0 3.0]',\n",
       " 'KBA05_ALTER1: [2.0 1.0 0.0 3.0 4.0]',\n",
       " 'KBA05_ALTER2: [2.0 3.0 4.0 1.0 5.0]',\n",
       " 'KBA05_ALTER3: [4.0 3.0 2.0 1.0 5.0]',\n",
       " 'KBA05_ALTER4: [4.0 3.0 1.0 5.0 2.0 0.0]',\n",
       " 'KBA05_ANHANG: [1.0 3.0 0.0 2.0]',\n",
       " 'KBA05_ANTG1: [2.0 3.0 0.0 4.0 1.0]',\n",
       " 'KBA05_ANTG2: [2.0 0.0 3.0 1.0 4.0]',\n",
       " 'KBA05_ANTG3: [0.0 2.0 1.0 3.0]',\n",
       " 'KBA05_ANTG4: [0.0 2.0 1.0]',\n",
       " 'KBA05_AUTOQUOT: [5.0 4.0 3.0 1.0 2.0]',\n",
       " 'KBA05_CCM1: [3.0 2.0 5.0 4.0 1.0]',\n",
       " 'KBA05_CCM2: [3.0 2.0 4.0 5.0 1.0]',\n",
       " 'KBA05_CCM3: [3.0 5.0 2.0 4.0 1.0]',\n",
       " 'KBA05_CCM4: [1.0 2.0 0.0 4.0 3.0]',\n",
       " 'KBA05_DIESEL: [1.0 2.0 4.0 3.0 0.0]',\n",
       " 'KBA05_FRAU: [4.0 3.0 2.0 5.0 1.0]',\n",
       " 'KBA05_HERST1: [4.0 2.0 3.0 1.0 5.0 0.0]',\n",
       " 'KBA05_HERST2: [3.0 4.0 1.0 2.0 5.0]',\n",
       " 'KBA05_HERST3: [3.0 1.0 2.0 0.0 4.0 5.0]',\n",
       " 'KBA05_HERST4: [2.0 3.0 5.0 1.0 4.0 0.0]',\n",
       " 'KBA05_HERST5: [2.0 3.0 1.0 0.0 4.0 5.0]',\n",
       " 'KBA05_HERSTTEMP: [2.0 3.0 1.0 4.0 5.0]',\n",
       " 'KBA05_KRSKLEIN: [2.0 1.0 3.0]',\n",
       " 'KBA05_KRSOBER: [3.0 2.0 1.0]',\n",
       " 'KBA05_KRSVAN: [3.0 2.0 1.0]',\n",
       " 'KBA05_KRSZUL: [2.0 3.0 1.0]',\n",
       " 'KBA05_KW1: [3.0 2.0 5.0 4.0 1.0]',\n",
       " 'KBA05_KW2: [3.0 4.0 2.0 1.0 5.0]',\n",
       " 'KBA05_MAXAH: [5.0 3.0 4.0 2.0 1.0]',\n",
       " 'KBA05_MAXBJ: [2.0 4.0 1.0 3.0]',\n",
       " 'KBA05_MAXHERST: [2.0 4.0 3.0 1.0 5.0]',\n",
       " 'KBA05_MAXSEG: [3.0 2.0 1.0 4.0]',\n",
       " 'KBA05_MAXVORB: [2.0 1.0 3.0]',\n",
       " 'KBA05_MOD1: [2.0 0.0 1.0 4.0 3.0]',\n",
       " 'KBA05_MOD2: [4.0 3.0 5.0 2.0 1.0]',\n",
       " 'KBA05_MOD3: [3.0 4.0 5.0 1.0 2.0]',\n",
       " 'KBA05_MOD4: [4.0 3.0 0.0 1.0 2.0 5.0]',\n",
       " 'KBA05_MOD8: [2.0 1.0 0.0 3.0]',\n",
       " 'KBA05_MOTOR: [4.0 3.0 2.0 1.0]',\n",
       " 'KBA05_MOTRAD: [1.0 0.0 2.0 3.0]',\n",
       " 'KBA05_SEG1: [1.0 3.0 0.0 2.0]',\n",
       " 'KBA05_SEG10: [2.0 4.0 1.0 3.0 0.0]',\n",
       " 'KBA05_SEG3: [2.0 3.0 4.0 5.0 1.0]',\n",
       " 'KBA05_SEG4: [3.0 4.0 2.0 5.0 1.0]',\n",
       " 'KBA05_SEG6: [1.0 0.0]',\n",
       " 'KBA05_SEG7: [0.0 3.0 1.0 2.0]',\n",
       " 'KBA05_SEG8: [1.0 0.0 2.0 3.0]',\n",
       " 'KBA05_VORB0: [4.0 3.0 2.0 5.0 1.0]',\n",
       " 'KBA05_VORB1: [3.0 4.0 1.0 2.0 5.0]',\n",
       " 'KBA05_VORB2: [2.0 3.0 1.0 0.0 4.0 5.0]',\n",
       " 'KBA05_ZUL1: [3.0 2.0 1.0 4.0 5.0]',\n",
       " 'KBA05_ZUL2: [4.0 3.0 5.0 2.0 1.0]',\n",
       " 'KBA05_ZUL3: [2.0 3.0 4.0 5.0 0.0 1.0]',\n",
       " 'KBA13_ALTERHALTER_30: [1.0 3.0 2.0 4.0 5.0]',\n",
       " 'KBA13_ALTERHALTER_45: [2.0 3.0 4.0 5.0 1.0]',\n",
       " 'KBA13_ALTERHALTER_60: [5.0 3.0 2.0 1.0 4.0]',\n",
       " 'KBA13_ALTERHALTER_61: [3.0 4.0 2.0 1.0 5.0]',\n",
       " 'KBA13_ANTG1: [3.0 2.0 1.0 4.0 0.0]',\n",
       " 'KBA13_ANTG2: [3.0 4.0 2.0 1.0 0.0]',\n",
       " 'KBA13_ANTG4: [0.0 1.0 2.0]',\n",
       " 'KBA13_ANZAHL_PKW: [1201.0 1400.0 433.0 ... 77.0 13.0 34.0]',\n",
       " 'KBA13_AUDI: [4.0 3.0 2.0 1.0 5.0]',\n",
       " 'KBA13_AUTOQUOTE: [4.0 3.0 2.0 1.0 5.0]',\n",
       " 'KBA13_BAUMAX: [1.0 3.0 2.0 5.0 4.0]',\n",
       " 'KBA13_BJ_1999: [3.0 4.0 1.0 2.0 5.0]',\n",
       " 'KBA13_BJ_2004: [3.0 1.0 2.0 4.0 5.0]',\n",
       " 'KBA13_BJ_2006: [3.0 2.0 4.0 1.0 5.0]',\n",
       " 'KBA13_BJ_2008: [4.0 3.0 0.0 5.0 2.0 1.0]',\n",
       " 'KBA13_BJ_2009: [3.0 5.0 2.0 1.0 4.0 0.0]',\n",
       " 'KBA13_BMW: [5.0 3.0 4.0 2.0 1.0]',\n",
       " 'KBA13_CCM_0_1400: [2.0 3.0 4.0 0.0 5.0 1.0]',\n",
       " 'KBA13_CCM_1000: [3.0 5.0 2.0 0.0 1.0 4.0]',\n",
       " 'KBA13_CCM_1200: [2.0 3.0 0.0 4.0 5.0 1.0]',\n",
       " 'KBA13_CCM_1400: [3.0 4.0 2.0 1.0 5.0]',\n",
       " 'KBA13_CCM_1401_2500: [4.0 3.0 1.0 2.0 5.0]',\n",
       " 'KBA13_CCM_1500: [4.0 1.0 3.0 2.0 5.0]',\n",
       " 'KBA13_CCM_1600: [2.0 3.0 4.0 5.0 1.0]',\n",
       " 'KBA13_CCM_1800: [3.0 2.0 0.0 1.0 4.0 5.0]',\n",
       " 'KBA13_CCM_2000: [4.0 3.0 2.0 5.0 1.0]',\n",
       " 'KBA13_CCM_2500: [4.0 3.0 2.0 0.0 5.0 1.0]',\n",
       " 'KBA13_CCM_2501: [0.0 3.0 4.0 5.0 2.0 1.0]',\n",
       " 'KBA13_CCM_3000: [3.0 5.0 4.0 2.0 0.0 1.0]',\n",
       " 'KBA13_CCM_3001: [3.0 1.0 4.0 5.0 2.0]',\n",
       " 'KBA13_FAB_ASIEN: [2.0 3.0 4.0 1.0 5.0]',\n",
       " 'KBA13_FAB_SONSTIGE: [3.0 2.0 5.0 4.0 1.0]',\n",
       " 'KBA13_FIAT: [3.0 1.0 2.0 4.0 5.0]',\n",
       " 'KBA13_FORD: [3.0 4.0 2.0 5.0 1.0]',\n",
       " 'KBA13_HALTER_20: [1.0 3.0 4.0 2.0 5.0]',\n",
       " 'KBA13_HALTER_45: [2.0 3.0 4.0 5.0 1.0]',\n",
       " 'KBA13_HALTER_60: [5.0 3.0 2.0 1.0 4.0]',\n",
       " 'KBA13_HALTER_65: [4.0 3.0 1.0 2.0 5.0]',\n",
       " 'KBA13_HERST_ASIEN: [2.0 3.0 4.0 1.0 5.0]',\n",
       " 'KBA13_HERST_AUDI_VW: [4.0 3.0 1.0 2.0 5.0]',\n",
       " 'KBA13_HERST_BMW_BENZ: [4.0 3.0 5.0 2.0 1.0]',\n",
       " 'KBA13_HERST_EUROPA: [2.0 3.0 4.0 5.0 1.0]',\n",
       " 'KBA13_HERST_FORD_OPEL: [3.0 2.0 4.0 1.0 5.0]',\n",
       " 'KBA13_KMH_0_140: [3.0 4.0 1.0 0.0 2.0 5.0]',\n",
       " 'KBA13_KMH_110: [2.0 1.0 3.0]',\n",
       " 'KBA13_KMH_140_210: [3.0 2.0 1.0 4.0 5.0]',\n",
       " 'KBA13_KMH_180: [2.0 3.0 4.0 1.0 5.0]',\n",
       " 'KBA13_KMH_210: [4.0 3.0 2.0 5.0 1.0]',\n",
       " 'KBA13_KMH_251: [1.0 3.0 2.0]',\n",
       " 'KBA13_KRSAQUOT: [3.0 4.0 5.0 2.0 1.0]',\n",
       " 'KBA13_KRSHERST_AUDI_VW: [4.0 3.0 2.0 5.0 1.0]',\n",
       " 'KBA13_KRSHERST_BMW_BENZ: [3.0 5.0 2.0 4.0 1.0]',\n",
       " 'KBA13_KRSSEG_KLEIN: [2.0 1.0 3.0]',\n",
       " 'KBA13_KRSSEG_OBER: [2.0 1.0 3.0 0.0]',\n",
       " 'KBA13_KRSSEG_VAN: [2.0 1.0 3.0 0.0]',\n",
       " 'KBA13_KRSZUL_NEU: [3.0 2.0 1.0 0.0]',\n",
       " 'KBA13_KW_110: [4.0 3.0 2.0 0.0 1.0 5.0]',\n",
       " 'KBA13_KW_120: [3.0 1.0 5.0 4.0 0.0 2.0]',\n",
       " 'KBA13_KW_121: [3.0 4.0 5.0 0.0 1.0 2.0]',\n",
       " 'KBA13_KW_40: [3.0 2.0 1.0 0.0 4.0 5.0]',\n",
       " 'KBA13_KW_50: [2.0 3.0 4.0 0.0 5.0 1.0]',\n",
       " 'KBA13_KW_60: [3.0 4.0 2.0 0.0 1.0 5.0]',\n",
       " 'KBA13_KW_61_120: [3.0 1.0 4.0 5.0 2.0]',\n",
       " 'KBA13_KW_70: [3.0 2.0 0.0 4.0 5.0 1.0]',\n",
       " 'KBA13_KW_80: [2.0 3.0 1.0 5.0 0.0 4.0]',\n",
       " 'KBA13_KW_90: [3.0 0.0 2.0 4.0 5.0 1.0]',\n",
       " 'KBA13_MAZDA: [3.0 5.0 2.0 4.0 1.0]',\n",
       " 'KBA13_MOTOR: [4.0 3.0 1.0 2.0]',\n",
       " 'KBA13_NISSAN: [3.0 2.0 4.0 1.0 5.0]',\n",
       " 'KBA13_PEUGEOT: [2.0 3.0 5.0 4.0 1.0]',\n",
       " 'KBA13_RENAULT: [2.0 3.0 4.0 1.0 5.0]',\n",
       " 'KBA13_SEG_GELAENDEWAGEN: [3.0 4.0 5.0 2.0 1.0]',\n",
       " 'KBA13_SEG_GROSSRAUMVANS: [5.0 3.0 4.0 2.0 1.0]',\n",
       " 'KBA13_SEG_KLEINST: [2.0 3.0 4.0 1.0 5.0]',\n",
       " 'KBA13_SEG_KOMPAKTKLASSE: [3.0 1.0 2.0 5.0 4.0]',\n",
       " 'KBA13_SEG_MINIVANS: [3.0 2.0 4.0 5.0 1.0]',\n",
       " 'KBA13_SEG_MINIWAGEN: [1.0 3.0 5.0 2.0 4.0]',\n",
       " 'KBA13_SEG_MITTELKLASSE: [3.0 2.0 4.0 1.0 5.0]',\n",
       " 'KBA13_SEG_OBEREMITTELKLASSE: [4.0 3.0 2.0 5.0 1.0]',\n",
       " 'KBA13_SEG_OBERKLASSE: [3.0 1.0 0.0 5.0 4.0 2.0]',\n",
       " 'KBA13_SEG_SONSTIGE: [4.0 3.0 5.0 2.0 1.0]',\n",
       " 'KBA13_SEG_SPORTWAGEN: [4.0 3.0 5.0 1.0 0.0 2.0]',\n",
       " 'KBA13_SEG_UTILITIES: [4.0 3.0 5.0 2.0 1.0]',\n",
       " 'KBA13_SEG_WOHNMOBILE: [4.0 3.0 5.0 2.0 0.0 1.0]',\n",
       " 'KBA13_SITZE_4: [3.0 4.0 5.0 2.0 1.0]',\n",
       " 'KBA13_SITZE_6: [5.0 3.0 4.0 2.0 1.0]',\n",
       " 'KBA13_TOYOTA: [2.0 3.0 5.0 4.0 1.0]',\n",
       " 'KBA13_VORB_0: [4.0 3.0 5.0 2.0 1.0]',\n",
       " 'KBA13_VORB_1_2: [3.0 2.0 4.0 1.0 5.0]',\n",
       " 'KBA13_VORB_3: [1.0 3.0 4.0 0.0 2.0 5.0]',\n",
       " 'KKK: [1.0 3.0 4.0 2.0]',\n",
       " 'KONSUMNAEHE: [5.0 1.0 2.0 4.0 3.0 6.0 7.0]',\n",
       " 'MOBI_RASTER: [3.0 1.0 2.0 4.0 5.0 6.0]',\n",
       " 'NATIONALITAET_KZ: [1.0 2.0 3.0]',\n",
       " 'OST_WEST_KZ: [1.0 0.0]',\n",
       " 'RELAT_AB: [1.0 3.0 5.0 2.0 4.0]',\n",
       " 'RETOURTYP_BK_S: [5.0 3.0 2.0 4.0 1.0]',\n",
       " 'RT_KEIN_ANREIZ: [1.0 4.0 3.0 2.0 5.0]',\n",
       " 'RT_SCHNAEPPCHEN: [5.0 3.0 2.0 1.0 4.0]',\n",
       " 'RT_UEBERGROESSE: [3.0 2.0 1.0 5.0 4.0 0.0]',\n",
       " 'SEMIO_DOM: [1 3 5 6 2 4 7]',\n",
       " 'SEMIO_ERL: [3 7 4 6 2 5 1]',\n",
       " 'SEMIO_FAM: [5 6 2 4 3 1 7]',\n",
       " 'SEMIO_LUST: [7 5 6 4 2 1 3]',\n",
       " 'SEMIO_MAT: [6 3 4 1 2 5 7]',\n",
       " 'SEMIO_PFLICHT: [2 4 3 5 1 7 6]',\n",
       " 'SEMIO_RAT: [1 2 3 5 4 6 7]',\n",
       " 'SEMIO_SOZ: [6 3 2 4 5 7 1]',\n",
       " 'SEMIO_TRADV: [1 4 3 2 5 6 7]',\n",
       " 'SHOPPER_TYP: [3.0 1.0 0.0 2.0]',\n",
       " 'SOHO_KZ: [0.0 1.0]',\n",
       " 'TITEL_KZ: [1.0 4.0 3.0 5.0]',\n",
       " 'UMFELD_ALT: [4.0 3.0 1.0 2.0 5.0]',\n",
       " 'UMFELD_JUNG: [4.0 5.0 3.0 2.0 1.0]',\n",
       " 'UNGLEICHENN_FLAG: [0.0 1.0]',\n",
       " 'VERDICHTUNGSRAUM: [8.0 0.0 1.0 24.0 4.0 6.0 31.0 18.0 19.0 3.0 42.0 38.0 5.0 27.0 26.0 7.0\\n 34.0 25.0 45.0 20.0 32.0 2.0 12.0 16.0 44.0 11.0 36.0 17.0 13.0 43.0 30.0\\n 35.0 10.0 21.0 29.0 40.0 33.0 28.0 22.0 15.0 23.0 9.0 39.0 14.0 37.0 41.0]',\n",
       " 'VERS_TYP: [1.0 2.0]',\n",
       " 'VHA: [0.0 5.0 1.0 4.0 2.0 3.0]',\n",
       " 'VHN: [3.0 2.0 4.0 1.0 0.0]',\n",
       " 'VK_DHT4A: [5.0 6.0 10.0 3.0 1.0 8.0 4.0 2.0 9.0 7.0 11.0]',\n",
       " 'W_KEIT_KIND_HH: [6.0 2.0 4.0 1.0 5.0 3.0]',\n",
       " 'WOHNDAUER_2008: [9.0 3.0 7.0 8.0 5.0 6.0 4.0 2.0 1.0]',\n",
       " 'WOHNLAGE: [7.0 3.0 2.0 1.0 4.0 5.0 8.0 0.0]',\n",
       " 'ZABEOTYP: [3 1 2 4 6 5]',\n",
       " \"PRODUCT_GROUP: ['COSMETIC_AND_FOOD' 'FOOD' 'COSMETIC']\",\n",
       " \"CUSTOMER_GROUP: ['MULTI_BUYER' 'SINGLE_BUYER']\",\n",
       " 'ONLINE_PURCHASE: [0 1]']"
      ]
     },
     "metadata": {},
     "output_type": "display_data"
    }
   ],
   "source": [
    "# Check out unique values of ordinal features\n",
    "display([\"{}: {}\".format(col_name, customers_cleaned[col_name].unique()) for col_name in customers_cleaned.columns])"
   ]
  },
  {
   "cell_type": "code",
   "execution_count": 14,
   "metadata": {},
   "outputs": [
    {
     "name": "stdout",
     "output_type": "stream",
     "text": [
      "  AGER_TYP AKT_DAT_KL ALTER_HH ALTER_KIND1 ALTERSKATEGORIE_FEIN  \\\n",
      "0        2          1       10          18                   10   \n",
      "1        2          9       11          18                   10   \n",
      "2        2          1        6          18                    0   \n",
      "3        1          1        8          18                    8   \n",
      "4        2          1       20          18                   14   \n",
      "\n",
      "  ANZ_HAUSHALTE_AKTIV ANZ_HH_TITEL ANZ_KINDER ANZ_PERSONEN ANZ_TITEL  ... VHA  \\\n",
      "0                   1            0          0            2         0  ...   0   \n",
      "1                   1            0          0            3         0  ...   0   \n",
      "2                   1            0          0            1         0  ...   0   \n",
      "3                   0            0          0            0         0  ...   0   \n",
      "4                   7            0          0            4         0  ...   0   \n",
      "\n",
      "  VHN VK_DHT4A W_KEIT_KIND_HH WOHNDAUER_2008 WOHNLAGE ZABEOTYP  \\\n",
      "0   3        5              6              9        7        3   \n",
      "1   2        6              6              9        3        3   \n",
      "2   4       10              6              9        2        3   \n",
      "3   2        6              6              9        7        1   \n",
      "4   4        3              2              9        3        1   \n",
      "\n",
      "       PRODUCT_GROUP CUSTOMER_GROUP ONLINE_PURCHASE  \n",
      "0  COSMETIC_AND_FOOD    MULTI_BUYER               0  \n",
      "1               FOOD   SINGLE_BUYER               0  \n",
      "2  COSMETIC_AND_FOOD    MULTI_BUYER               0  \n",
      "3           COSMETIC    MULTI_BUYER               0  \n",
      "4               FOOD    MULTI_BUYER               0  \n",
      "\n",
      "[5 rows x 262 columns]\n"
     ]
    }
   ],
   "source": [
    "print(customers_cleaned.head())"
   ]
  },
  {
   "cell_type": "code",
   "execution_count": 15,
   "metadata": {
    "scrolled": true
   },
   "outputs": [
    {
     "name": "stdout",
     "output_type": "stream",
     "text": [
      "(891221, 367)\n",
      "(891221, 254)\n",
      "CPU times: user 6min 19s, sys: 35.7 s, total: 6min 54s\n",
      "Wall time: 7min 8s\n"
     ]
    }
   ],
   "source": [
    "%%time\n",
    "azdias_cleaned = data_cleaning(azdias)"
   ]
  },
  {
   "cell_type": "code",
   "execution_count": 16,
   "metadata": {},
   "outputs": [
    {
     "name": "stdout",
     "output_type": "stream",
     "text": [
      "   AGER_TYP  AKT_DAT_KL  ALTER_HH  ALTER_KIND1  ALTERSKATEGORIE_FEIN  \\\n",
      "0       2.0         1.0       0.0         18.0                  15.0   \n",
      "1       2.0         9.0       0.0         18.0                  21.0   \n",
      "2       2.0         9.0      17.0         18.0                  17.0   \n",
      "3       2.0         1.0      13.0         18.0                  13.0   \n",
      "4       2.0         1.0      20.0         18.0                  14.0   \n",
      "\n",
      "   ANZ_HAUSHALTE_AKTIV  ANZ_HH_TITEL  ANZ_KINDER  ANZ_PERSONEN  ANZ_TITEL  \\\n",
      "0                  1.0           0.0         0.0           1.0        0.0   \n",
      "1                 11.0           0.0         0.0           2.0        0.0   \n",
      "2                 10.0           0.0         0.0           1.0        0.0   \n",
      "3                  1.0           0.0         0.0           0.0        0.0   \n",
      "4                  3.0           0.0         0.0           4.0        0.0   \n",
      "\n",
      "   ...  UMFELD_ALT  UMFELD_JUNG  UNGLEICHENN_FLAG  VERDICHTUNGSRAUM  VERS_TYP  \\\n",
      "0  ...         4.0          5.0               0.0               0.0       2.0   \n",
      "1  ...         3.0          3.0               1.0               0.0       2.0   \n",
      "2  ...         2.0          5.0               0.0               1.0       1.0   \n",
      "3  ...         4.0          5.0               0.0               0.0       1.0   \n",
      "4  ...         4.0          3.0               0.0               1.0       2.0   \n",
      "\n",
      "   VHA  VHN  W_KEIT_KIND_HH  WOHNLAGE  ZABEOTYP  \n",
      "0  0.0  2.0             6.0       3.0       3.0  \n",
      "1  0.0  4.0             3.0       4.0       5.0  \n",
      "2  0.0  2.0             3.0       2.0       5.0  \n",
      "3  1.0  0.0             6.0       7.0       3.0  \n",
      "4  0.0  2.0             2.0       3.0       4.0  \n",
      "\n",
      "[5 rows x 254 columns]\n"
     ]
    }
   ],
   "source": [
    "print(azdias_cleaned.head())"
   ]
  },
  {
   "cell_type": "code",
   "execution_count": 17,
   "metadata": {
    "scrolled": false
   },
   "outputs": [
    {
     "data": {
      "text/plain": [
       "['AGER_TYP: [2. 3. 0. 1.]',\n",
       " 'AKT_DAT_KL: [1. 9. 5. 8. 7. 6. 4. 3. 2.]',\n",
       " 'ALTER_HH: [ 0. 17. 13. 20. 10. 14. 16. 21. 11. 19. 15.  9. 18.  8.  7. 12.  4.  3.\\n  6.  5.  2.  1.]',\n",
       " 'ALTER_KIND1: [18. 17. 10. 13. 16. 11.  6.  8.  9. 15. 14.  7. 12.  4.  3.  5.  2.]',\n",
       " 'ALTERSKATEGORIE_FEIN: [15. 21. 17. 13. 14. 10. 16. 20. 11. 19. 18.  9. 22. 12.  0.  8.  7. 23.\\n  4. 24.  6.  3.  2.  5. 25.  1.]',\n",
       " 'ANZ_HAUSHALTE_AKTIV: [  1.  11.  10.   3.   5.   4.   6.   2.   9.   0.  14.  13.   8.   7.\\n  44.  25.  36.  16. 272.  33.  15.  12.  22.  21.  20.  67.  23.  18.\\n  27.  24.  31.  39.  19.  30.  17.  29.  61.  54.  88.  49.  60.  38.\\n  34.  48.  35.  62.  26.  45.  42.  28.  77.  47.  50. 236. 137.  43.\\n  52.  41.  76.  63.  32.  40.  37.  59.  53.  57. 118.  66.  95.  78.\\n  70.  46. 185.  73. 154.  80. 102.  92. 126.  94.  71.  68.  81.  69.\\n 121. 258.  58.  86. 124.  85.  90. 128.  51.  72.  64.  56.  83. 150.\\n 259.  91. 160. 134. 169. 246.  82. 114. 183. 116.  74. 143.  99. 216.\\n  98. 125. 112. 123.  55. 120.  75. 141. 103.  87.  89. 223.  93. 179.\\n 135. 149.  97. 101. 110.  79. 111. 109.  65.  84. 367. 162. 195. 107.\\n 119. 331. 122. 161. 157. 175. 177. 136. 104. 316. 127. 100. 180. 155.\\n 133. 178. 176. 108. 353. 131. 130.  96. 256. 117. 146. 211. 199. 140.\\n 200. 106. 285. 263. 314. 253. 163. 377. 171. 148. 191. 243. 153. 145.\\n 174. 172. 190. 142. 317. 244. 189. 286. 105. 170. 215. 321. 113. 115.\\n 156. 129. 242. 132. 280. 159. 138. 158. 267. 151. 164. 187. 206. 266.\\n 265. 209. 196. 139. 193. 184. 210. 260. 366. 194. 318. 344. 277. 595.\\n 197. 247. 165. 283. 326. 181. 186. 438. 222. 144. 378. 237. 152. 208.\\n 274. 430. 202. 214. 231. 219. 225. 230. 198. 224. 333. 168. 221. 523.\\n 254. 305. 166. 252. 445. 147. 301. 213. 536. 220. 249. 290. 515. 276.\\n 241. 204. 250. 218. 226. 201. 240. 404. 348. 328. 228. 304. 167. 346.\\n 205. 207. 293. 255. 307. 414. 311. 347. 379. 395. 229. 232.]',\n",
       " 'ANZ_HH_TITEL: [ 0.  1.  5.  2.  3.  7.  4.  6.  9. 15. 14.  8. 11. 10. 12. 13. 20. 16.\\n 17. 23. 18.]',\n",
       " 'ANZ_KINDER: [ 0.  1.  2.  3.  4.  5.  6.  9.  7. 11.  8.]',\n",
       " 'ANZ_PERSONEN: [ 1.  2.  0.  4.  3.  5.  7.  6.  8. 12.  9. 21. 10. 13. 11. 14. 45. 20.\\n 31. 29. 37. 16. 22. 15. 23. 18. 35. 17. 40. 38.]',\n",
       " 'ANZ_TITEL: [0. 1. 2. 4. 3. 6.]',\n",
       " 'ARBEIT: [4. 3. 2. 1. 5. 9.]',\n",
       " 'BALLRAUM: [6. 2. 4. 3. 7. 1. 5.]',\n",
       " 'CAMEO_DEU_2015: [25. 35. 15.  5. 37. 13.  8.  0.  4. 42. 20. 36. 30. 21. 43. 40.  1. 12.\\n 17. 14. 11. 18. 31. 39. 27. 28.  7. 32. 41. 33. 22.  3. 38. 26. 24. 19.\\n 16.  9.  6. 34. 10. 29. 23.  2.]',\n",
       " 'CJT_GESAMTTYP: [2. 5. 3. 4. 1. 6.]',\n",
       " 'CJT_KATALOGNUTZER: [5. 1. 2. 3. 4.]',\n",
       " 'CJT_TYP_1: [1. 5. 4. 2. 3.]',\n",
       " 'CJT_TYP_3: [5. 2. 1. 4. 3.]',\n",
       " 'CJT_TYP_6: [5. 1. 2. 3. 4.]',\n",
       " 'D19_BANKEN_ANZ_12: [0. 3. 1. 2. 4. 5. 6.]',\n",
       " 'D19_BANKEN_DIREKT: [0. 1. 6. 5. 4. 3. 7. 2.]',\n",
       " 'D19_BANKEN_GROSS: [0. 2. 6. 3. 5. 1. 4.]',\n",
       " 'D19_BANKEN_LOKAL: [0. 7. 3. 6. 5. 2. 1. 4.]',\n",
       " 'D19_BANKEN_OFFLINE_DATUM: [10.  9.  8.  2.  5.  4.  1.  6.  7.  3.]',\n",
       " 'D19_BANKEN_REST: [0. 6. 5. 4. 3. 7. 2. 1.]',\n",
       " 'D19_BEKLEIDUNG_GEH: [0. 6. 5. 7. 3. 2. 4. 1.]',\n",
       " 'D19_BEKLEIDUNG_REST: [0. 1. 6. 7. 5. 3. 4. 2.]',\n",
       " 'D19_BILDUNG: [0. 6. 3. 7. 2. 4. 5. 1.]',\n",
       " 'D19_BIO_OEKO: [0. 6. 7. 3. 5. 2. 4. 1.]',\n",
       " 'D19_BUCH_CD: [0. 6. 5. 3. 1. 7. 4. 2.]',\n",
       " 'D19_DIGIT_SERV: [0. 6. 7. 3. 5. 2. 4. 1.]',\n",
       " 'D19_DROGERIEARTIKEL: [0. 1. 6. 3. 7. 4. 5. 2.]',\n",
       " 'D19_ENERGIE: [0. 5. 3. 6. 7. 2. 1. 4.]',\n",
       " 'D19_FREIZEIT: [0. 7. 3. 6. 5. 4. 1. 2.]',\n",
       " 'D19_GARTEN: [0. 3. 6. 7. 5. 4. 2. 1.]',\n",
       " 'D19_GESAMT_ANZ_12: [0. 6. 1. 2. 3. 4. 5.]',\n",
       " 'D19_GESAMT_OFFLINE_DATUM: [10.  6.  8.  9.  5.  2.  4.  1.  7.  3.]',\n",
       " 'D19_HANDWERK: [0. 6. 3. 5. 7. 4. 2. 1.]',\n",
       " 'D19_HAUS_DEKO: [0. 5. 6. 7. 1. 3. 4. 2.]',\n",
       " 'D19_KINDERARTIKEL: [0. 6. 7. 3. 5. 2. 1. 4.]',\n",
       " 'D19_KOSMETIK: [0. 6. 3. 5. 7. 2. 4. 1.]',\n",
       " 'D19_LEBENSMITTEL: [0. 6. 7. 5. 3. 4. 1. 2.]',\n",
       " 'D19_LETZTER_KAUF_BRANCHE: [30. 24. 11. 17. 33. 25.  1. 10. 14.  8. 32. 31. 28.  0.  3. 12. 18. 15.\\n  5. 23. 27. 22.  4. 26. 20.  9. 19. 21. 29. 16.  7. 34. 13.  6.  2.]',\n",
       " 'D19_LOTTO: [0. 6. 7. 5. 3. 4. 2. 1.]',\n",
       " 'D19_NAHRUNGSERGAENZUNG: [0. 5. 6. 7. 4. 1. 2. 3.]',\n",
       " 'D19_RATGEBER: [0. 7. 6. 3. 5. 2. 4. 1.]',\n",
       " 'D19_REISEN: [0. 6. 7. 3. 5. 2. 4. 1.]',\n",
       " 'D19_SAMMELARTIKEL: [0. 6. 1. 7. 5. 3. 2. 4.]',\n",
       " 'D19_SCHUHE: [0. 1. 3. 5. 6. 2. 7. 4.]',\n",
       " 'D19_SONSTIGE: [0. 6. 4. 7. 5. 3. 2. 1.]',\n",
       " 'D19_SOZIALES: [0. 4. 5. 3. 1. 2.]',\n",
       " 'D19_TECHNIK: [0. 6. 5. 7. 3. 1. 4. 2.]',\n",
       " 'D19_TELKO_ANZ_12: [0. 1. 2. 6. 3. 4. 5.]',\n",
       " 'D19_TELKO_MOBILE: [0. 6. 3. 7. 4. 5. 2. 1.]',\n",
       " 'D19_TELKO_OFFLINE_DATUM: [10.  8.  9.  5.  6.  7.  4.  2.  3.  1.]',\n",
       " 'D19_TELKO_ONLINE_DATUM: [10.  9.  7.  8.  6.  5.  4.  1.  2.  3.]',\n",
       " 'D19_TELKO_REST: [0. 5. 6. 4. 3. 7. 2. 1.]',\n",
       " 'D19_TIERARTIKEL: [0. 6. 5. 3. 4. 7. 2. 1.]',\n",
       " 'D19_VERSAND_REST: [0. 2. 6. 5. 3. 1. 4. 7.]',\n",
       " 'D19_VERSI_ANZ_12: [0. 1. 2. 3. 4. 5. 6.]',\n",
       " 'D19_VERSI_OFFLINE_DATUM: [10.  7.  9.  6.  4.  8.  5.  2.  3.  1.]',\n",
       " 'D19_VERSI_ONLINE_DATUM: [10.  8.  9.  5.  6.  7.  4.  1.  2.  3.]',\n",
       " 'D19_VERSICHERUNGEN: [0. 3. 6. 4. 5. 7. 2. 1.]',\n",
       " 'D19_VOLLSORTIMENT: [0. 7. 6. 3. 2. 5. 4. 1.]',\n",
       " 'D19_WEIN_FEINKOST: [0. 6. 7. 5. 3. 2. 4. 1.]',\n",
       " 'DSL_FLAG: [1. 0.]',\n",
       " 'EINGEFUEGT_AM: [1992. 1997. 2005. 2009. 1995. 1996. 2002. 2015. 2004. 2000. 2008. 1994.\\n 1993. 2003. 2014. 2016. 2007. 1999. 2010. 2001. 1998. 2006. 2013. 2012.\\n 2011. 1991.]',\n",
       " 'EINGEZOGENAM_HH_JAHR: [1994. 2004. 2000. 1998. 2005. 2007. 2009. 2016. 2014. 2015. 2013. 2008.\\n 2010. 2001. 2002. 1997. 2012. 1992. 1999. 1996. 1995. 2011. 2003. 2006.\\n 1991. 2017. 1993. 2018. 1989. 1990. 1987. 1986. 1988. 1900. 1904. 1971.\\n 1984.]',\n",
       " 'EWDICHTE: [6. 3. 4. 2. 5. 1.]',\n",
       " 'EXTSEL992: [56. 14. 31. 20. 53. 27. 54.  6. 25. 48. 55. 36. 34. 35. 18. 38. 32. 29.\\n 41. 43. 22. 19. 24. 23.  8. 21. 37.  7.  3. 39. 12. 15. 17.  4.  9. 44.\\n 50. 13. 33. 42. 49.  1. 30. 10. 45. 26. 16. 28. 47.  2. 46. 11. 40. 51.\\n 52.  5.]',\n",
       " 'FINANZ_ANLEGER: [5. 2. 1. 4. 3.]',\n",
       " 'FINANZ_HAUSBAUER: [3. 5. 2. 4. 1.]',\n",
       " 'FINANZ_MINIMALIST: [3. 1. 4. 2. 5.]',\n",
       " 'FINANZTYP: [4. 1. 6. 5. 2. 3.]',\n",
       " 'FIRMENDICHTE: [4. 2. 5. 3. 1.]',\n",
       " 'GEBAEUDETYP: [1. 8. 3. 2. 6. 4. 5.]',\n",
       " 'GFK_URLAUBERTYP: [10.  1.  5. 12.  9.  3.  8. 11.  4.  2.  7.  6.]',\n",
       " 'GREEN_AVANTGARDE: [0. 1.]',\n",
       " 'HEALTH_TYP: [3. 2. 1.]',\n",
       " 'HH_DELTA_FLAG: [0. 1.]',\n",
       " 'HH_EINKOMMEN_SCORE: [2. 6. 4. 1. 5. 3.]',\n",
       " 'KBA05_ALTER1: [2. 3. 0. 1. 4.]',\n",
       " 'KBA05_ALTER2: [3. 4. 5. 2. 1.]',\n",
       " 'KBA05_ALTER3: [3. 1. 4. 2. 5.]',\n",
       " 'KBA05_ALTER4: [3. 4. 0. 5. 2. 1.]',\n",
       " 'KBA05_ANHANG: [1. 0. 2. 3.]',\n",
       " 'KBA05_ANTG1: [0. 1. 4. 2. 3.]',\n",
       " 'KBA05_ANTG2: [0. 3. 1. 4. 2.]',\n",
       " 'KBA05_ANTG3: [0. 1. 2. 3.]',\n",
       " 'KBA05_ANTG4: [0. 2. 1.]',\n",
       " 'KBA05_AUTOQUOT: [3. 1. 4. 2. 5.]',\n",
       " 'KBA05_CCM1: [3. 1. 5. 2. 4.]',\n",
       " 'KBA05_CCM2: [3. 5. 2. 1. 4.]',\n",
       " 'KBA05_CCM3: [3. 1. 5. 4. 2.]',\n",
       " 'KBA05_CCM4: [0. 4. 1. 2. 3.]',\n",
       " 'KBA05_DIESEL: [2. 0. 3. 1. 4.]',\n",
       " 'KBA05_FRAU: [3. 4. 5. 2. 1.]',\n",
       " 'KBA05_HERST1: [2. 5. 4. 3. 0. 1.]',\n",
       " 'KBA05_HERST2: [3. 5. 2. 4. 1.]',\n",
       " 'KBA05_HERST3: [3. 2. 4. 1. 0. 5.]',\n",
       " 'KBA05_HERST4: [3. 2. 1. 4. 0. 5.]',\n",
       " 'KBA05_HERST5: [3. 0. 5. 4. 2. 1.]',\n",
       " 'KBA05_HERSTTEMP: [3. 4. 1. 2. 5.]',\n",
       " 'KBA05_KRSKLEIN: [2. 1. 3.]',\n",
       " 'KBA05_KRSOBER: [2. 1. 3.]',\n",
       " 'KBA05_KRSVAN: [2. 1. 3.]',\n",
       " 'KBA05_KRSZUL: [2. 3. 1.]',\n",
       " 'KBA05_KW1: [3. 1. 4. 2. 5.]',\n",
       " 'KBA05_KW3: [1. 4. 2. 3. 0.]',\n",
       " 'KBA05_MAXAH: [3. 2. 5. 1. 4.]',\n",
       " 'KBA05_MAXBJ: [1. 4. 2. 3.]',\n",
       " 'KBA05_MAXHERST: [2. 5. 3. 1. 4.]',\n",
       " 'KBA05_MAXSEG: [2. 4. 1. 3.]',\n",
       " 'KBA05_MAXVORB: [2. 3. 1.]',\n",
       " 'KBA05_MOD1: [0. 3. 2. 1. 4.]',\n",
       " 'KBA05_MOD2: [3. 2. 4. 1. 5.]',\n",
       " 'KBA05_MOD3: [3. 2. 5. 4. 1.]',\n",
       " 'KBA05_MOD4: [3. 0. 1. 2. 4. 5.]',\n",
       " 'KBA05_MOD8: [0. 1. 2. 3.]',\n",
       " 'KBA05_MODTEMP: [3. 1. 4. 5. 2. 6.]',\n",
       " 'KBA05_MOTOR: [3. 1. 4. 2.]',\n",
       " 'KBA05_MOTRAD: [1. 0. 3. 2.]',\n",
       " 'KBA05_SEG1: [1. 0. 2. 3.]',\n",
       " 'KBA05_SEG10: [2. 4. 1. 3. 0.]',\n",
       " 'KBA05_SEG3: [3. 2. 5. 1. 4.]',\n",
       " 'KBA05_SEG4: [3. 2. 4. 1. 5.]',\n",
       " 'KBA05_SEG6: [0. 1.]',\n",
       " 'KBA05_SEG7: [0. 3. 1. 2.]',\n",
       " 'KBA05_SEG8: [0. 3. 1. 2.]',\n",
       " 'KBA05_VORB0: [3. 1. 4. 2. 5.]',\n",
       " 'KBA05_VORB1: [3. 1. 2. 5. 4.]',\n",
       " 'KBA05_VORB2: [3. 5. 1. 4. 2. 0.]',\n",
       " 'KBA05_ZUL1: [3. 5. 2. 4. 1.]',\n",
       " 'KBA05_ZUL2: [3. 1. 4. 2. 5.]',\n",
       " 'KBA05_ZUL3: [3. 0. 4. 2. 1. 5.]',\n",
       " 'KBA13_ALTERHALTER_30: [3. 2. 1. 4. 5.]',\n",
       " 'KBA13_ALTERHALTER_45: [3. 2. 4. 1. 5.]',\n",
       " 'KBA13_ALTERHALTER_60: [3. 5. 2. 4. 1.]',\n",
       " 'KBA13_ALTERHALTER_61: [3. 4. 2. 5. 1.]',\n",
       " 'KBA13_ANTG1: [2. 1. 4. 3. 0.]',\n",
       " 'KBA13_ANTG2: [3. 4. 2. 1. 0.]',\n",
       " 'KBA13_ANZAHL_PKW: [1400.  963.  712. ...    2.   30.    7.]',\n",
       " 'KBA13_AUDI: [3. 4. 5. 2. 1.]',\n",
       " 'KBA13_AUTOQUOTE: [3. 2. 4. 5. 1. 0.]',\n",
       " 'KBA13_BJ_1999: [3. 2. 4. 1. 5.]',\n",
       " 'KBA13_BJ_2004: [3. 4. 2. 1. 5.]',\n",
       " 'KBA13_BJ_2008: [3. 4. 0. 2. 5. 1.]',\n",
       " 'KBA13_BJ_2009: [3. 2. 1. 5. 0. 4.]',\n",
       " 'KBA13_BMW: [3. 4. 2. 5. 1.]',\n",
       " 'KBA13_CCM_0_1400: [3. 2. 1. 5. 0. 4.]',\n",
       " 'KBA13_CCM_1000: [3. 0. 1. 4. 5. 2.]',\n",
       " 'KBA13_CCM_1200: [3. 0. 2. 1. 4. 5.]',\n",
       " 'KBA13_CCM_1400: [3. 4. 2. 1. 5.]',\n",
       " 'KBA13_CCM_1401_2500: [3. 2. 1. 4. 5.]',\n",
       " 'KBA13_CCM_1500: [1. 4. 3. 5. 2.]',\n",
       " 'KBA13_CCM_1600: [3. 2. 1. 4. 5.]',\n",
       " 'KBA13_CCM_1800: [3. 2. 4. 5. 1. 0.]',\n",
       " 'KBA13_CCM_2000: [3. 5. 4. 2. 1.]',\n",
       " 'KBA13_CCM_2500: [3. 4. 0. 5. 2. 1.]',\n",
       " 'KBA13_CCM_2501: [3. 4. 5. 0. 2. 1.]',\n",
       " 'KBA13_CCM_3000: [3. 0. 5. 2. 1. 4.]',\n",
       " 'KBA13_CCM_3001: [1. 5. 4. 3. 2.]',\n",
       " 'KBA13_FAB_ASIEN: [3. 2. 4. 1. 5.]',\n",
       " 'KBA13_FAB_SONSTIGE: [3. 2. 1. 4. 5.]',\n",
       " 'KBA13_FIAT: [3. 4. 5. 2. 1.]',\n",
       " 'KBA13_FORD: [3. 2. 4. 1. 5.]',\n",
       " 'KBA13_HALTER_20: [3. 2. 4. 5. 1.]',\n",
       " 'KBA13_HALTER_45: [3. 2. 5. 1. 4.]',\n",
       " 'KBA13_HALTER_60: [3. 4. 2. 5. 1.]',\n",
       " 'KBA13_HALTER_65: [3. 4. 5. 2. 1.]',\n",
       " 'KBA13_HERST_ASIEN: [3. 1. 4. 2. 5.]',\n",
       " 'KBA13_HERST_AUDI_VW: [3. 4. 2. 5. 1.]',\n",
       " 'KBA13_HERST_EUROPA: [3. 4. 2. 5. 1.]',\n",
       " 'KBA13_HERST_FORD_OPEL: [3. 2. 1. 4. 5.]',\n",
       " 'KBA13_KMH_0_140: [3. 1. 5. 0. 4. 2.]',\n",
       " 'KBA13_KMH_110: [1. 2. 3.]',\n",
       " 'KBA13_KMH_140_210: [3. 2. 1. 4. 5.]',\n",
       " 'KBA13_KMH_180: [3. 2. 1. 4. 5.]',\n",
       " 'KBA13_KMH_210: [3. 4. 2. 5. 1.]',\n",
       " 'KBA13_KMH_251: [1. 3. 2.]',\n",
       " 'KBA13_KRSAQUOT: [3. 2. 4. 1. 5. 0.]',\n",
       " 'KBA13_KRSHERST_AUDI_VW: [3. 4. 2. 1. 5. 0.]',\n",
       " 'KBA13_KRSHERST_BMW_BENZ: [3. 4. 5. 2. 1. 0.]',\n",
       " 'KBA13_KRSSEG_KLEIN: [2. 3. 1. 0.]',\n",
       " 'KBA13_KRSSEG_OBER: [2. 3. 1. 0.]',\n",
       " 'KBA13_KRSSEG_VAN: [2. 1. 3. 0.]',\n",
       " 'KBA13_KRSZUL_NEU: [2. 1. 3. 0.]',\n",
       " 'KBA13_KW_0_60: [3. 1. 2. 4. 5.]',\n",
       " 'KBA13_KW_110: [3. 4. 1. 5. 0. 2.]',\n",
       " 'KBA13_KW_120: [3. 4. 1. 5. 0. 2.]',\n",
       " 'KBA13_KW_121: [3. 4. 5. 2. 0. 1.]',\n",
       " 'KBA13_KW_40: [3. 2. 1. 4. 5. 0.]',\n",
       " 'KBA13_KW_50: [3. 4. 2. 0. 1. 5.]',\n",
       " 'KBA13_KW_60: [3. 0. 1. 2. 4. 5.]',\n",
       " 'KBA13_KW_70: [3. 1. 4. 2. 0. 5.]',\n",
       " 'KBA13_KW_80: [3. 2. 4. 1. 0. 5.]',\n",
       " 'KBA13_KW_90: [3. 2. 0. 4. 1. 5.]',\n",
       " 'KBA13_MAZDA: [3. 2. 4. 5. 1.]',\n",
       " 'KBA13_MOTOR: [3. 4. 2. 1.]',\n",
       " 'KBA13_NISSAN: [3. 2. 5. 4. 1.]',\n",
       " 'KBA13_PEUGEOT: [3. 4. 2. 1. 5.]',\n",
       " 'KBA13_RENAULT: [3. 2. 4. 5. 1.]',\n",
       " 'KBA13_SEG_GELAENDEWAGEN: [3. 2. 5. 4. 1.]',\n",
       " 'KBA13_SEG_GROSSRAUMVANS: [3. 4. 1. 5. 2.]',\n",
       " 'KBA13_SEG_KLEINST: [3. 2. 5. 4. 1.]',\n",
       " 'KBA13_SEG_KOMPAKTKLASSE: [3. 5. 1. 4. 2.]',\n",
       " 'KBA13_SEG_MINIWAGEN: [3. 2. 5. 4. 1.]',\n",
       " 'KBA13_SEG_MITTELKLASSE: [3. 2. 4. 5. 1.]',\n",
       " 'KBA13_SEG_OBEREMITTELKLASSE: [3. 4. 5. 2. 1.]',\n",
       " 'KBA13_SEG_OBERKLASSE: [3. 1. 4. 5. 0. 2.]',\n",
       " 'KBA13_SEG_SONSTIGE: [3. 2. 5. 4. 1.]',\n",
       " 'KBA13_SEG_SPORTWAGEN: [3. 4. 5. 1. 2. 0.]',\n",
       " 'KBA13_SEG_UTILITIES: [3. 5. 2. 4. 1.]',\n",
       " 'KBA13_SEG_WOHNMOBILE: [3. 2. 5. 4. 0. 1.]',\n",
       " 'KBA13_SITZE_4: [3. 4. 5. 2. 1.]',\n",
       " 'KBA13_SITZE_6: [3. 4. 2. 5. 1.]',\n",
       " 'KBA13_TOYOTA: [3. 2. 4. 5. 1.]',\n",
       " 'KBA13_VORB_0: [3. 4. 5. 2. 1.]',\n",
       " 'KBA13_VORB_1_2: [3. 4. 2. 1. 5.]',\n",
       " 'KBA13_VORB_3: [3. 2. 4. 0. 1. 5.]',\n",
       " 'KKK: [3. 2. 4. 1.]',\n",
       " 'KONSUMNAEHE: [1. 5. 4. 3. 2. 6. 7.]',\n",
       " 'LP_STATUS_FEIN: [ 1.  2.  3.  9.  4. 10.  5.  8.  6.  7.]',\n",
       " 'MOBI_RASTER: [1. 2. 4. 3. 5. 6.]',\n",
       " 'NATIONALITAET_KZ: [1. 3. 2.]',\n",
       " 'RELAT_AB: [3. 4. 2. 5. 1.]',\n",
       " 'RETOURTYP_BK_S: [5. 1. 3. 2. 4.]',\n",
       " 'RT_KEIN_ANREIZ: [1. 5. 3. 4. 2.]',\n",
       " 'RT_SCHNAEPPCHEN: [4. 3. 2. 5. 1.]',\n",
       " 'RT_UEBERGROESSE: [1. 5. 3. 4. 2. 0.]',\n",
       " 'SEMIO_DOM: [6. 7. 4. 2. 1. 5. 3.]',\n",
       " 'SEMIO_ERL: [3. 2. 6. 7. 4. 5. 1.]',\n",
       " 'SEMIO_FAM: [6. 4. 1. 5. 7. 2. 3.]',\n",
       " 'SEMIO_KRIT: [7. 4. 3. 1. 5. 6. 2.]',\n",
       " 'SEMIO_KULT: [3. 4. 6. 5. 7. 1. 2.]',\n",
       " 'SEMIO_LUST: [5. 2. 4. 6. 7. 3. 1.]',\n",
       " 'SEMIO_MAT: [5. 3. 1. 2. 4. 7. 6.]',\n",
       " 'SEMIO_PFLICHT: [5. 7. 3. 4. 1. 6. 2.]',\n",
       " 'SEMIO_RAT: [4. 6. 3. 2. 7. 5. 1.]',\n",
       " 'SEMIO_REL: [7. 4. 3. 2. 5. 1. 6.]',\n",
       " 'SEMIO_SOZ: [2. 5. 4. 6. 7. 3. 1.]',\n",
       " 'SEMIO_TRADV: [3. 6. 4. 2. 7. 5. 1.]',\n",
       " 'SHOPPER_TYP: [1. 3. 2. 0.]',\n",
       " 'SOHO_KZ: [0. 1.]',\n",
       " 'TITEL_KZ: [1. 4. 3. 5. 2.]',\n",
       " 'UMFELD_ALT: [4. 3. 2. 5. 1.]',\n",
       " 'UMFELD_JUNG: [5. 3. 4. 2. 1.]',\n",
       " 'UNGLEICHENN_FLAG: [0. 1.]',\n",
       " 'VERDICHTUNGSRAUM: [ 0.  1. 35.  3.  7. 23.  4.  8. 13. 16. 25.  5. 21.  6. 15. 32. 42. 31.\\n 11. 33. 22. 30. 18. 12. 27.  2.  9. 28. 10. 14. 20. 17. 43. 19. 24. 34.\\n 40. 39. 29. 26. 44. 45. 37. 36. 41. 38.]',\n",
       " 'VERS_TYP: [2. 1.]',\n",
       " 'VHA: [0. 1. 5. 2. 4. 3.]',\n",
       " 'VHN: [2. 4. 0. 1. 3.]',\n",
       " 'W_KEIT_KIND_HH: [6. 3. 2. 5. 4. 1.]',\n",
       " 'WOHNLAGE: [3. 4. 2. 7. 5. 1. 8. 0.]',\n",
       " 'ZABEOTYP: [3. 5. 4. 1. 6. 2.]']"
      ]
     },
     "metadata": {},
     "output_type": "display_data"
    }
   ],
   "source": [
    "# Check out unique values of ordinal features\n",
    "display([\"{}: {}\".format(col_name, azdias_cleaned[col_name].unique()) for col_name in azdias_cleaned.columns])"
   ]
  },
  {
   "cell_type": "code",
   "execution_count": 18,
   "metadata": {},
   "outputs": [],
   "source": [
    "#Difference between customer and azdias dataset\n",
    "diff = np.setdiff1d(customers_cleaned.columns, azdias_cleaned.columns)\n",
    "customers_cleaned.drop(columns=diff, inplace=True, axis = 1)"
   ]
  },
  {
   "cell_type": "code",
   "execution_count": 19,
   "metadata": {},
   "outputs": [],
   "source": [
    "diff = np.setdiff1d(azdias_cleaned.columns, customers_cleaned.columns)\n",
    "azdias_cleaned.drop(columns=diff, inplace=True, axis = 1)"
   ]
  },
  {
   "cell_type": "code",
   "execution_count": 20,
   "metadata": {},
   "outputs": [],
   "source": [
    "scaler = StandardScaler()"
   ]
  },
  {
   "cell_type": "code",
   "execution_count": 21,
   "metadata": {},
   "outputs": [
    {
     "data": {
      "text/plain": [
       "(191652, 246)"
      ]
     },
     "execution_count": 21,
     "metadata": {},
     "output_type": "execute_result"
    }
   ],
   "source": [
    "customers_cleaned.shape"
   ]
  },
  {
   "cell_type": "code",
   "execution_count": 22,
   "metadata": {},
   "outputs": [
    {
     "data": {
      "text/plain": [
       "(891221, 246)"
      ]
     },
     "execution_count": 22,
     "metadata": {},
     "output_type": "execute_result"
    }
   ],
   "source": [
    "azdias_cleaned.shape"
   ]
  },
  {
   "cell_type": "code",
   "execution_count": 23,
   "metadata": {},
   "outputs": [],
   "source": [
    "import scipy\n",
    "def remove_outliers(df):\n",
    "    z_score = stats.zscore(df,axis =1)\n",
    "    print(z_score)\n",
    "    abs_z_score = np.abs(z_score)\n",
    "    filtered_entries = (abs_z_score < 6).all(axis =1)\n",
    "    new_df = df[filtered_entries]\n",
    "    return new_df"
   ]
  },
  {
   "cell_type": "code",
   "execution_count": 24,
   "metadata": {},
   "outputs": [],
   "source": [
    "#azdias = remove_outliers(azdias)\n",
    "#customers = remove_outliers(customers)"
   ]
  },
  {
   "cell_type": "code",
   "execution_count": 25,
   "metadata": {},
   "outputs": [],
   "source": [
    "customers_cleaned=pd.DataFrame(scaler.fit_transform(customers_cleaned.astype(float)),columns=customers_cleaned.columns)\n",
    "azdias_cleaned=pd.DataFrame(scaler.fit_transform(azdias_cleaned.astype(float)),columns=azdias_cleaned.columns)"
   ]
  },
  {
   "cell_type": "code",
   "execution_count": 26,
   "metadata": {},
   "outputs": [],
   "source": [
    "#Fitting the PCA algorithm with our Data\n",
    "pca = PCA().fit(azdias_cleaned)"
   ]
  },
  {
   "cell_type": "code",
   "execution_count": 27,
   "metadata": {},
   "outputs": [
    {
     "data": {
      "image/png": "[encoded data removed]",
      "text/plain": [
       "<Figure size 432x288 with 1 Axes>"
      ]
     },
     "metadata": {
      "needs_background": "light"
     },
     "output_type": "display_data"
    }
   ],
   "source": [
    "#Plotting the Cumulative Summation of the Explained Variance\n",
    "plt.figure()\n",
    "plt.plot(np.cumsum(pca.explained_variance_ratio_))\n",
    "plt.xlabel('Number of Components')\n",
    "plt.ylabel('Variance (%)') #for each component\n",
    "plt.title('Cumulative Variance')\n",
    "plt.grid()\n",
    "plt.show()"
   ]
  },
  {
   "cell_type": "code",
   "execution_count": 28,
   "metadata": {},
   "outputs": [
    {
     "data": {
      "image/png": "[encoded data removed]",
      "text/plain": [
       "<Figure size 432x288 with 1 Axes>"
      ]
     },
     "metadata": {
      "needs_background": "light"
     },
     "output_type": "display_data"
    }
   ],
   "source": [
    "#Plotting the Variance\n",
    "plt.figure()\n",
    "plt.plot(pca.explained_variance_ratio_)\n",
    "plt.xlabel('Number of Components')\n",
    "plt.ylabel('Variance (%)') #for each component\n",
    "plt.title('Variance')\n",
    "plt.grid()\n",
    "plt.show()"
   ]
  },
  {
   "cell_type": "code",
   "execution_count": 29,
   "metadata": {},
   "outputs": [],
   "source": [
    "azdias_cleaned['real_class']= 0\n",
    "customers_cleaned['real_class'] = 1\n",
    "\n",
    "#merge two dataset together\n",
    "merge_data=pd.concat([azdias_cleaned, customers_cleaned])"
   ]
  },
  {
   "cell_type": "code",
   "execution_count": 31,
   "metadata": {},
   "outputs": [],
   "source": [
    "pca = PCA().fit(azdias_cleaned)\n",
    "azdiaz_pca = pca.transform(azdias_cleaned)\n",
    "pca = PCA().fit(customers_cleaned)\n",
    "customers_pca = pca.transform(customers_cleaned)"
   ]
  },
  {
   "cell_type": "code",
   "execution_count": 32,
   "metadata": {},
   "outputs": [],
   "source": [
    "del customers\n",
    "del azdias"
   ]
  },
  {
   "cell_type": "code",
   "execution_count": 33,
   "metadata": {},
   "outputs": [],
   "source": [
    "#K-Means Clustering\n",
    "\n",
    "def clustering(df,center):\n",
    "    print(center) #for monitoring purpose\n",
    "    kmeans = KMeans(center)\n",
    "    model = kmeans.fit(df)\n",
    "    score = np.abs(model.score(df))\n",
    "    return score"
   ]
  },
  {
   "cell_type": "code",
   "execution_count": 34,
   "metadata": {},
   "outputs": [
    {
     "name": "stdout",
     "output_type": "stream",
     "text": [
      "10\n",
      "11\n",
      "12\n",
      "13\n",
      "14\n",
      "15\n",
      "16\n",
      "17\n",
      "18\n",
      "19\n",
      "CPU times: user 3h 28min 37s, sys: 3min 8s, total: 3h 31min 45s\n",
      "Wall time: 1h 8min 11s\n"
     ]
    }
   ],
   "source": [
    "%%time\n",
    "pca_scores = []\n",
    "centeriods = [2,5,8,9,11,13,15,17]\n",
    "\n",
    "for center in centeriods:\n",
    "    pca_scores.append(clustering(azdias_cleaned,center))"
   ]
  },
  {
   "cell_type": "code",
   "execution_count": 35,
   "metadata": {},
   "outputs": [
    {
     "name": "stdout",
     "output_type": "stream",
     "text": [
      "   centeroids         score\n",
      "0          19  2.224757e+08\n",
      "1          18  2.232564e+08\n",
      "2          17  2.240371e+08\n",
      "3          16  2.247883e+08\n",
      "4          15  2.257058e+08\n",
      "5          14  2.266378e+08\n",
      "6          13  2.275830e+08\n",
      "7          12  2.285258e+08\n",
      "8          11  2.296271e+08\n",
      "9          10  2.308057e+08\n"
     ]
    }
   ],
   "source": [
    "print(pd.DataFrame(sorted(zip(centeriods, pca_scores),key = lambda x:x[1]), columns = ['centeroids','score']))"
   ]
  },
  {
   "cell_type": "code",
   "execution_count": 36,
   "metadata": {},
   "outputs": [
    {
     "data": {
      "text/plain": [
       "[<matplotlib.lines.Line2D at 0x7ffd7100b460>]"
      ]
     },
     "execution_count": 36,
     "metadata": {},
     "output_type": "execute_result"
    },
    {
     "data": {
      "image/png": "[encoded data removed]",
      "text/plain": [
       "<Figure size 2160x432 with 1 Axes>"
      ]
     },
     "metadata": {
      "needs_background": "light"
     },
     "output_type": "display_data"
    }
   ],
   "source": [
    "plt.figure(figsize=(30,6))\n",
    "plt.plot(centeriods,pca_scores,marker='o')"
   ]
  },
  {
   "cell_type": "code",
   "execution_count": null,
   "metadata": {},
   "outputs": [],
   "source": [
    "kmeans = KMeans(10,random_state=123)\n",
    "pop_cluster = kmeans.fit_predict(azdias_pca)\n",
    "cus_cluster = kmeans.predict(customers_pca)"
   ]
  },
  {
   "cell_type": "markdown",
   "metadata": {},
   "source": [
    "## Final Conclusion"
   ]
  },
  {
   "cell_type": "code",
   "execution_count": null,
   "metadata": {},
   "outputs": [],
   "source": [
    "fig = plt.figure()\n",
    "ax = fig.add_axes([0,0,2,1], title = 'General Population V/S Customer Distribution')\n",
    "sns.distplot(cus, label = \"Customer\",ax=ax)\n",
    "sns.distplot(azd, label = \"General Population\",ax=ax)\n",
    "ax.legend()"
   ]
  },
  {
   "cell_type": "markdown",
   "metadata": {},
   "source": [
    "## Part 2: Supervised Learning Model\n",
    "\n",
    "Now that you've found which parts of the population are more likely to be customers of the mail-order company, it's time to build a prediction model. Each of the rows in the \"MAILOUT\" data files represents an individual that was targeted for a mailout campaign. Ideally, we should be able to use the demographic information from each individual to decide whether or not it will be worth it to include that person in the campaign.\n",
    "\n",
    "The \"MAILOUT\" data has been split into two approximately equal parts, each with almost 43 000 data rows. In this part, you can verify your model with the \"TRAIN\" partition, which includes a column, \"RESPONSE\", that states whether or not a person became a customer of the company following the campaign. In the next part, you'll need to create predictions on the \"TEST\" partition, where the \"RESPONSE\" column has been withheld."
   ]
  },
  {
   "cell_type": "code",
   "execution_count": 59,
   "metadata": {},
   "outputs": [
    {
     "name": "stdout",
     "output_type": "stream",
     "text": [
      "Requirement already satisfied: xgboost in /Library/Frameworks/Python.framework/Versions/3.8/lib/python3.8/site-packages (1.2.0)\r\n",
      "Requirement already satisfied: numpy in /Library/Frameworks/Python.framework/Versions/3.8/lib/python3.8/site-packages (from xgboost) (1.18.4)\r\n",
      "Requirement already satisfied: scipy in /Library/Frameworks/Python.framework/Versions/3.8/lib/python3.8/site-packages (from xgboost) (1.4.1)\r\n"
     ]
    }
   ],
   "source": [
    "!pip install xgboost"
   ]
  },
  {
   "cell_type": "code",
   "execution_count": 30,
   "metadata": {},
   "outputs": [
    {
     "name": "stdout",
     "output_type": "stream",
     "text": [
      "\u001b[31mERROR: Could not find a version that satisfies the requirement plot_learning_curve (from versions: none)\u001b[0m\r\n",
      "\u001b[31mERROR: No matching distribution found for plot_learning_curve\u001b[0m\r\n"
     ]
    }
   ],
   "source": []
  },
  {
   "cell_type": "code",
   "execution_count": 35,
   "metadata": {},
   "outputs": [],
   "source": [
    "from sklearn.ensemble import RandomForestClassifier\n",
    "from sklearn.ensemble import AdaBoostClassifier\n",
    "from sklearn.tree import DecisionTreeClassifier\n",
    "from sklearn.model_selection import cross_val_score, StratifiedKFold\n",
    "import sklearn\n",
    "\n",
    "#from xgboost import XGBClassifier\n",
    "\n",
    "#import warnings"
   ]
  },
  {
   "cell_type": "code",
   "execution_count": 36,
   "metadata": {},
   "outputs": [],
   "source": [
    "#mailout_train = pd.read_csv('../../data/Term2/capstone/arvato_data/Udacity_MAILOUT_052018_TRAIN.csv', sep=';')"
   ]
  },
  {
   "cell_type": "code",
   "execution_count": 37,
   "metadata": {},
   "outputs": [
    {
     "name": "stderr",
     "output_type": "stream",
     "text": [
      "/Library/Frameworks/Python.framework/Versions/3.8/lib/python3.8/site-packages/IPython/core/interactiveshell.py:3062: DtypeWarning: Columns (19,20) have mixed types.Specify dtype option on import or set low_memory=False.\n",
      "  has_raised = await self.run_ast_nodes(code_ast.body, cell_name,\n"
     ]
    }
   ],
   "source": [
    "mailout_train = pd.read_csv('data/mailout_train.csv', sep=',')"
   ]
  },
  {
   "cell_type": "code",
   "execution_count": 38,
   "metadata": {},
   "outputs": [],
   "source": [
    "X = mailout_train.drop('RESPONSE',axis =1)\n",
    "y = mailout_train['RESPONSE']"
   ]
  },
  {
   "cell_type": "code",
   "execution_count": 39,
   "metadata": {},
   "outputs": [
    {
     "name": "stdout",
     "output_type": "stream",
     "text": [
      "(42962, 368)\n",
      "(42962, 259)\n"
     ]
    }
   ],
   "source": [
    "mailout_train_cleaned = data_cleaning(mailout_train)"
   ]
  },
  {
   "cell_type": "code",
   "execution_count": 40,
   "metadata": {},
   "outputs": [
    {
     "name": "stdout",
     "output_type": "stream",
     "text": [
      "(42962, 259)\n",
      "(42962,)\n"
     ]
    }
   ],
   "source": [
    "print(mailout_train_cleaned.shape)\n",
    "print(y.shape)"
   ]
  },
  {
   "cell_type": "code",
   "execution_count": null,
   "metadata": {},
   "outputs": [],
   "source": [
    "#mailout_train_cleaned.head(5), y.head(5)"
   ]
  },
  {
   "cell_type": "code",
   "execution_count": 48,
   "metadata": {},
   "outputs": [],
   "source": [
    "import numpy as np\n",
    "import matplotlib.pyplot as plt\n",
    "from sklearn.naive_bayes import GaussianNB\n",
    "from sklearn.svm import SVC\n",
    "from sklearn.datasets import load_digits\n",
    "from sklearn.model_selection import learning_curve\n",
    "from sklearn.model_selection import ShuffleSplit\n",
    "\n",
    "\n",
    "def plot_learning_curve(estimator, title, X, y, axes=None, ylim=None, cv=None,\n",
    "                        n_jobs=None, train_sizes=np.linspace(.1, 1.0, 5)):\n",
    "    \"\"\"\n",
    "    Generate 3 plots: the test and training learning curve, the training\n",
    "    samples vs fit times curve, the fit times vs score curve.\n",
    "    Parameters\n",
    "    ----------\n",
    "    estimator : estimator instance\n",
    "        An estimator instance implementing `fit` and `predict` methods which\n",
    "        will be cloned for each validation.\n",
    "    title : str\n",
    "        Title for the chart.\n",
    "    X : array-like of shape (n_samples, n_features)\n",
    "        Training vector, where ``n_samples`` is the number of samples and\n",
    "        ``n_features`` is the number of features.\n",
    "    y : array-like of shape (n_samples) or (n_samples, n_features)\n",
    "        Target relative to ``X`` for classification or regression;\n",
    "        None for unsupervised learning.\n",
    "    axes : array-like of shape (3,), default=None\n",
    "        Axes to use for plotting the curves.\n",
    "    ylim : tuple of shape (2,), default=None\n",
    "        Defines minimum and maximum y-values plotted, e.g. (ymin, ymax).\n",
    "    cv : int, cross-validation generator or an iterable, default=None\n",
    "        Determines the cross-validation splitting strategy.\n",
    "        Possible inputs for cv are:\n",
    "          - None, to use the default 5-fold cross-validation,\n",
    "          - integer, to specify the number of folds.\n",
    "          - :term:`CV splitter`,\n",
    "          - An iterable yielding (train, test) splits as arrays of indices.\n",
    "        For integer/None inputs, if ``y`` is binary or multiclass,\n",
    "        :class:`StratifiedKFold` used. If the estimator is not a classifier\n",
    "        or if ``y`` is neither binary nor multiclass, :class:`KFold` is used.\n",
    "        Refer :ref:`User Guide <cross_validation>` for the various\n",
    "        cross-validators that can be used here.\n",
    "    n_jobs : int or None, default=None\n",
    "        Number of jobs to run in parallel.\n",
    "        ``None`` means 1 unless in a :obj:`joblib.parallel_backend` context.\n",
    "        ``-1`` means using all processors. See :term:`Glossary <n_jobs>`\n",
    "        for more details.\n",
    "    train_sizes : array-like of shape (n_ticks,), dtype={int, float}\n",
    "        Relative or absolute numbers of training examples that will be used to\n",
    "        generate the learning curve. If the ``dtype`` is float, it is regarded\n",
    "        as a fraction of the maximum size of the training set (that is\n",
    "        determined by the selected validation method), i.e. it has to be within\n",
    "        (0, 1]. Otherwise it is interpreted as absolute sizes of the training\n",
    "        sets. Note that for classification the number of samples usually have\n",
    "        to be big enough to contain at least one sample from each class.\n",
    "        (default: np.linspace(0.1, 1.0, 5))\n",
    "    \"\"\"\n",
    "    if axes is None:\n",
    "        _, axes = plt.subplots(1, 3, figsize=(20, 5))\n",
    "\n",
    "    axes[0].set_title(title)\n",
    "    if ylim is not None:\n",
    "        axes[0].set_ylim(*ylim)\n",
    "    axes[0].set_xlabel(\"Training examples\")\n",
    "    axes[0].set_ylabel(\"Score\")\n",
    "\n",
    "    train_sizes, train_scores, test_scores, fit_times, _ = \\\n",
    "        learning_curve(estimator, X, y, cv=cv, n_jobs=n_jobs,\n",
    "                       train_sizes=train_sizes,\n",
    "                       return_times=True)\n",
    "    train_scores_mean = np.mean(train_scores, axis=1)\n",
    "    train_scores_std = np.std(train_scores, axis=1)\n",
    "    test_scores_mean = np.mean(test_scores, axis=1)\n",
    "    test_scores_std = np.std(test_scores, axis=1)\n",
    "    fit_times_mean = np.mean(fit_times, axis=1)\n",
    "    fit_times_std = np.std(fit_times, axis=1)\n",
    "\n",
    "    # Plot learning curve\n",
    "    axes[0].grid()\n",
    "    axes[0].fill_between(train_sizes, train_scores_mean - train_scores_std,\n",
    "                         train_scores_mean + train_scores_std, alpha=0.1,\n",
    "                         color=\"r\")\n",
    "    axes[0].fill_between(train_sizes, test_scores_mean - test_scores_std,\n",
    "                         test_scores_mean + test_scores_std, alpha=0.1,\n",
    "                         color=\"g\")\n",
    "    axes[0].plot(train_sizes, train_scores_mean, 'o-', color=\"r\",\n",
    "                 label=\"Training score\")\n",
    "    axes[0].plot(train_sizes, test_scores_mean, 'o-', color=\"g\",\n",
    "                 label=\"Cross-validation score\")\n",
    "    axes[0].legend(loc=\"best\")\n",
    "\n",
    "    # Plot n_samples vs fit_times\n",
    "    axes[1].grid()\n",
    "    axes[1].plot(train_sizes, fit_times_mean, 'o-')\n",
    "    axes[1].fill_between(train_sizes, fit_times_mean - fit_times_std,\n",
    "                         fit_times_mean + fit_times_std, alpha=0.1)\n",
    "    axes[1].set_xlabel(\"Training examples\")\n",
    "    axes[1].set_ylabel(\"fit_times\")\n",
    "    axes[1].set_title(\"Scalability of the model\")\n",
    "\n",
    "    # Plot fit_time vs score\n",
    "    axes[2].grid()\n",
    "    axes[2].plot(fit_times_mean, test_scores_mean, 'o-')\n",
    "    axes[2].fill_between(fit_times_mean, test_scores_mean - test_scores_std,\n",
    "                         test_scores_mean + test_scores_std, alpha=0.1)\n",
    "    axes[2].set_xlabel(\"fit_times\")\n",
    "    axes[2].set_ylabel(\"Score\")\n",
    "    axes[2].set_title(\"Performance of the model\")\n",
    "\n",
    "    return plt"
   ]
  },
  {
   "cell_type": "code",
   "execution_count": 49,
   "metadata": {},
   "outputs": [],
   "source": [
    "#initialise \n",
    "#classifier_1_XGB = XGBClassifier(objective = 'binary:logistic',random_state= 123)\n",
    "classifier_2_RF = RandomForestClassifier(random_state=123)\n",
    "classifier_3_Ada = AdaBoostClassifier(random_state=123)\n",
    "classifier_4_DT = DecisionTreeClassifier(random_state=123)"
   ]
  },
  {
   "cell_type": "code",
   "execution_count": 50,
   "metadata": {},
   "outputs": [],
   "source": [
    "import sklearn\n",
    "#test train split\n",
    "#X_train,X_test,y_train,y_test = sklearn.model_selection.train_test_split(mailout_train_cleaned,y,test_size =0.3, random_state =123)"
   ]
  },
  {
   "cell_type": "code",
   "execution_count": 58,
   "metadata": {},
   "outputs": [],
   "source": [
    "cv = StratifiedKFold(n_splits=4)"
   ]
  },
  {
   "cell_type": "code",
   "execution_count": 60,
   "metadata": {},
   "outputs": [
    {
     "data": {
      "text/plain": [
       "<Figure size 720x720 with 0 Axes>"
      ]
     },
     "metadata": {},
     "output_type": "display_data"
    },
    {
     "data": {
      "image/png": "[encoded data removed]",
      "text/plain": [
       "<Figure size 1440x360 with 3 Axes>"
      ]
     },
     "metadata": {
      "needs_background": "light"
     },
     "output_type": "display_data"
    },
    {
     "data": {
      "image/png": "[encoded data removed]",
      "text/plain": [
       "<Figure size 1440x360 with 3 Axes>"
      ]
     },
     "metadata": {
      "needs_background": "light"
     },
     "output_type": "display_data"
    },
    {
     "data": {
      "text/plain": [
       "<module 'matplotlib.pyplot' from '/Library/Frameworks/Python.framework/Versions/3.8/lib/python3.8/site-packages/matplotlib/pyplot.py'>"
      ]
     },
     "execution_count": 60,
     "metadata": {},
     "output_type": "execute_result"
    },
    {
     "data": {
      "image/png": "[encoded data removed]",
      "text/plain": [
       "<Figure size 1440x360 with 3 Axes>"
      ]
     },
     "metadata": {
      "needs_background": "light"
     },
     "output_type": "display_data"
    }
   ],
   "source": [
    "plt.figure(figsize=(10,10))\n",
    "#plt.subplot(2,2,1)\n",
    "#plot_learning_curve(classifier_1_XGB,\"XGBoost\",X_train.values,y_train.values,cv=cv,ylim(0.4,1),n_jobs =2)\n",
    "plt.show()\n",
    "plot_learning_curve(classifier_2_RF,\"XGBoost\",X,y,cv=cv,ylim=None,n_jobs =2)\n",
    "plt.show()\n",
    "plot_learning_curve(classifier_3_Ada,\"AdaBoostClassifier\",X,y,cv=cv,ylim=None,n_jobs =2)\n",
    "plt.show()\n",
    "plot_learning_curve(classifier_4_DT,\"DecisionTreeClassifier\",X,y,cv=cv,ylim=None,n_jobs =2)"
   ]
  },
  {
   "cell_type": "markdown",
   "metadata": {},
   "source": [
    "\n",
    "\n",
    "## Part 3: Kaggle Competition\n",
    "\n",
    "Now that you've created a model to predict which individuals are most likely to respond to a mailout campaign, it's time to test that model in competition through Kaggle. If you click on the link [here](http://www.kaggle.com/t/21e6d45d4c574c7fa2d868f0e8c83140), you'll be taken to the competition page where, if you have a Kaggle account, you can enter. If you're one of the top performers, you may have the chance to be contacted by a hiring manager from Arvato or Bertelsmann for an interview!\n",
    "\n",
    "Your entry to the competition should be a CSV file with two columns. The first column should be a copy of \"LNR\", which acts as an ID number for each individual in the \"TEST\" partition. The second column, \"RESPONSE\", should be some measure of how likely each individual became a customer – this might not be a straightforward probability. As you should have found in Part 2, there is a large output class imbalance, where most individuals did not respond to the mailout. Thus, predicting individual classes and using accuracy does not seem to be an appropriate performance evaluation method. Instead, the competition will be using AUC to evaluate performance. The exact values of the \"RESPONSE\" column do not matter as much: only that the higher values try to capture as many of the actual customers as possible, early in the ROC curve sweep."
   ]
  },
  {
   "cell_type": "code",
   "execution_count": null,
   "metadata": {},
   "outputs": [],
   "source": [
    "#mailout_test = pd.read_csv('../../data/Term2/capstone/arvato_data/Udacity_MAILOUT_052018_TEST.csv', sep=';')"
   ]
  },
  {
   "cell_type": "code",
   "execution_count": null,
   "metadata": {},
   "outputs": [],
   "source": [
    "mailout_test = pd.read_csv('data/mailout_test.csv', sep=',')"
   ]
  },
  {
   "cell_type": "code",
   "execution_count": null,
   "metadata": {},
   "outputs": [],
   "source": []
  }
 ],
 "metadata": {
  "kernelspec": {
   "display_name": "Python 3.8.1 64-bit",
   "language": "python",
   "name": "python38164bitdc48a3fabbd448ce9ad6d15b8bcbde38"
  },
  "language_info": {
   "codemirror_mode": {
    "name": "ipython",
    "version": 3
   },
   "file_extension": ".py",
   "mimetype": "text/x-python",
   "name": "python",
   "nbconvert_exporter": "python",
   "pygments_lexer": "ipython3",
   "version": "3.8.3"
  }
 },
 "nbformat": 4,
 "nbformat_minor": 2
}
