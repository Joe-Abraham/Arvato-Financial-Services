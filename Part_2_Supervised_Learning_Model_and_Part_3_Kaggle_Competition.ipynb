{
  "nbformat": 4,
  "nbformat_minor": 0,
  "metadata": {
    "kernelspec": {
      "display_name": "Python 3.8.1 64-bit",
      "language": "python",
      "name": "python38164bitdc48a3fabbd448ce9ad6d15b8bcbde38"
    },
    "language_info": {
      "codemirror_mode": {
        "name": "ipython",
        "version": 3
      },
      "file_extension": ".py",
      "mimetype": "text/x-python",
      "name": "python",
      "nbconvert_exporter": "python",
      "pygments_lexer": "ipython3",
      "version": "3.8.3"
    },
    "colab": {
      "name": "Part 2: Supervised Learning Model and Part 3: Kaggle Competition.ipynb",
      "provenance": [],
      "collapsed_sections": [
        "MJrto_LrFPhc"
      ]
    }
  },
  "cells": [
    {
      "cell_type": "markdown",
      "metadata": {
        "id": "HKmEEi_zfJN-"
      },
      "source": [
        "# Capstone Project: Create a Customer Segmentation Report for Arvato Financial Services\n",
        "\n"
      ]
    },
    {
      "cell_type": "markdown",
      "metadata": {
        "id": "MnrycLVVPRk-"
      },
      "source": [
        "In this project, you will analyze demographics data for customers of a mail-order sales company in Germany, comparing it against demographics information for the general population. You'll use unsupervised learning techniques to perform customer segmentation, identifying the parts of the population that best describe the core customer base of the company. Then, you'll apply what you've learned on a third dataset with demographics information for targets of a marketing campaign for the company, and use a model to predict which individuals are most likely to convert into becoming customers for the company. The data that you will use has been provided by our partners at Bertelsmann Arvato Analytics, and represents a real-life data science task.\n",
        "\n",
        "If you completed the first term of this program, you will be familiar with the first part of this project, from the unsupervised learning project. The versions of those two datasets used in this project will include many more features and has not been pre-cleaned. You are also free to choose whatever approach you'd like to analyzing the data rather than follow pre-determined steps. In your work on this project, make sure that you carefully document your steps and decisions, since your main deliverable for this project will be a blog post reporting your findings."
      ]
    },
    {
      "cell_type": "code",
      "metadata": {
        "id": "4Kiw5SytfJOC",
        "outputId": "cd12eefa-1dbf-478c-fa3b-6c07927683bb",
        "colab": {
          "base_uri": "https://localhost:8080/",
          "height": 102
        }
      },
      "source": [
        "!pip install -U scikit-learn"
      ],
      "execution_count": 2,
      "outputs": [
        {
          "output_type": "stream",
          "text": [
            "Requirement already up-to-date: scikit-learn in /usr/local/lib/python3.6/dist-packages (0.23.2)\n",
            "Requirement already satisfied, skipping upgrade: numpy>=1.13.3 in /usr/local/lib/python3.6/dist-packages (from scikit-learn) (1.18.5)\n",
            "Requirement already satisfied, skipping upgrade: joblib>=0.11 in /usr/local/lib/python3.6/dist-packages (from scikit-learn) (0.16.0)\n",
            "Requirement already satisfied, skipping upgrade: threadpoolctl>=2.0.0 in /usr/local/lib/python3.6/dist-packages (from scikit-learn) (2.1.0)\n",
            "Requirement already satisfied, skipping upgrade: scipy>=0.19.1 in /usr/local/lib/python3.6/dist-packages (from scikit-learn) (1.4.1)\n"
          ],
          "name": "stdout"
        }
      ]
    },
    {
      "cell_type": "markdown",
      "metadata": {
        "id": "NDK3FX6uFr-h"
      },
      "source": [
        "### Inclusion of all the necessary libraries"
      ]
    },
    {
      "cell_type": "code",
      "metadata": {
        "id": "oCV3vjCsfJOX",
        "outputId": "df8e4173-0746-4f8d-a899-9114da956712",
        "colab": {
          "base_uri": "https://localhost:8080/",
          "height": 51
        }
      },
      "source": [
        "# import libraries here; add more as necessary\n",
        "import numpy as np\n",
        "import pandas as pd\n",
        "import matplotlib.pyplot as plt\n",
        "import seaborn as sns\n",
        "\n",
        "from sklearn.preprocessing import StandardScaler\n",
        "from sklearn.preprocessing import MinMaxScaler\n",
        "from sklearn.decomposition import PCA\n",
        "from sklearn.cluster import KMeans\n",
        "from sklearn.ensemble import RandomForestClassifier\n",
        "from sklearn.ensemble import AdaBoostClassifier\n",
        "from sklearn.tree import DecisionTreeClassifier\n",
        "from sklearn.model_selection import cross_val_score, StratifiedKFold\n",
        "from sklearn.naive_bayes import GaussianNB\n",
        "from sklearn.svm import SVC\n",
        "from sklearn.datasets import load_digits\n",
        "from sklearn.model_selection import learning_curve\n",
        "from sklearn.model_selection import ShuffleSplit\n",
        "from sklearn.metrics import accuracy_score, roc_auc_score\n",
        "from sklearn.model_selection import GridSearchCV\n",
        "from sklearn.manifold import TSNE\n",
        "from sklearn import metrics\n",
        "import sklearn\n",
        "from sklearn.linear_model import LogisticRegression\n",
        "from sklearn.model_selection import train_test_split\n",
        "\n",
        "\n",
        "from xgboost import XGBClassifier\n",
        "import xgboost as xgb\n",
        "from sklearn.impute import SimpleImputer\n",
        "from scipy import stats\n",
        "from hyperopt import STATUS_OK, Trials, fmin, hp, tpe\n",
        "\n",
        "import datetime\n",
        "\n",
        "# magic word for producing visualizations in notebook\n",
        "%matplotlib inline"
      ],
      "execution_count": 3,
      "outputs": [
        {
          "output_type": "stream",
          "text": [
            "/usr/local/lib/python3.6/dist-packages/statsmodels/tools/_testing.py:19: FutureWarning: pandas.util.testing is deprecated. Use the functions in the public API at pandas.testing instead.\n",
            "  import pandas.util.testing as tm\n"
          ],
          "name": "stderr"
        }
      ]
    },
    {
      "cell_type": "markdown",
      "metadata": {
        "id": "MJrto_LrFPhc"
      },
      "source": [
        "### Cleaning functions\n",
        "\n"
      ]
    },
    {
      "cell_type": "code",
      "metadata": {
        "id": "LtYmkLFOfJP0"
      },
      "source": [
        "#data cleaning\n",
        "def str2float(x):\n",
        "    if type(x)==str:\n",
        "        return eval(x)\n",
        "    else:\n",
        "        return x"
      ],
      "execution_count": 4,
      "outputs": []
    },
    {
      "cell_type": "code",
      "metadata": {
        "id": "KIluOT4xfJP3"
      },
      "source": [
        "def data_cleaning(df,clustering=False):\n",
        "    '''\n",
        "    Replace strings \n",
        "    Replace missing values to np.nan - data taken from the excel provided.\n",
        "    Replace na with mean\n",
        "    LNR set as index\n",
        "    Removal of outliers\n",
        "    Cleaning columns if it doesn't have enough data\n",
        "    '''\n",
        "    print(df.shape)\n",
        "        \n",
        "    for column in ['CAMEO_DEUG_2015', 'CAMEO_DEU_2015', 'CAMEO_INTL_2015']:\n",
        "        try:\n",
        "            df[column] = df[column].replace([\"X\",\"XX\"],np.nan)\n",
        "        except:\n",
        "            pass\n",
        "        \n",
        "    for column in ['CAMEO_DEUG_2015', 'CAMEO_INTL_2015']:\n",
        "        df[column]=df[column].apply(str2float)\n",
        "    \n",
        "    #change the catergory columns into numbertraining\n",
        "    for column in [\"CAMEO_DEU_2015\",\"D19_LETZTER_KAUF_BRANCHE\",\"OST_WEST_KZ\"]:\n",
        "        df[column] = pd.Categorical(df[column])\n",
        "        df[column] = df[column].cat.codes\n",
        "        \n",
        "    #extract the time,and keep the year   \n",
        "    df[\"EINGEFUEGT_AM\"]=pd.to_datetime(df[\"EINGEFUEGT_AM\"]).dt.year\n",
        "  \n",
        "    temp_col = [\"ALTERSKATEGORIE_GROB\",\"ANREDE_KZ\",\"GEBAEUDETYP\",\"GEOSCORE_KLS7\",\"HAUSHALTSSTRUKTUR\",\n",
        "            'HH_EINKOMMEN_SCORE',\"KBA05_BAUMAX\",\"KBA05_GBZ\",\"KKK\",\"NATIONALITAET_KZ\",\"PRAEGENDE_JUGENDJAHRE\",\n",
        "            \"REGIOTYP\",\"TITEL_KZ\",\"WOHNDAUER_2008\",\"WACHSTUMSGEBIET_NB\",\"W_KEIT_KIND_HH\"]\n",
        "    for column in temp_col:\n",
        "        try:\n",
        "            df[column] = df[column].replace([0,-1],np.nan)\n",
        "        except:\n",
        "            pass\n",
        "        \n",
        "    temp_col= ['KBA05_ALTER1','KBA05_ALTER2','KBA05_ALTER3','KBA05_ALTER4','KBA05_ANHANG','KBA05_AUTOQUOT',\n",
        "             'KBA05_CCM1','KBA05_CCM2','KBA05_CCM3','KBA05_CCM4','KBA05_DIESEL','KBA05_FRAU','KBA05_HERST1',\n",
        "             'KBA05_HERST2','KBA05_HERST3','KBA05_HERST4','KBA05_HERST5','KBA05_HERSTTEMP','KBA05_KRSAQUOT',\n",
        "             'KBA05_KRSHERST1','KBA05_KRSHERST2','KBA05_KRSHERST3','KBA05_KRSKLEIN','KBA05_KRSOBER','KBA05_KRSVAN',\n",
        "             'KBA05_KRSZUL','KBA05_KW1','KBA05_KW2','KBA05_KW3','KBA05_MAXAH','KBA05_MAXBJ','KBA05_MAXHERST',\n",
        "             'KBA05_MAXSEG','KBA05_MAXVORB','KBA05_MOD1','KBA05_MOD2','KBA05_MOD3','KBA05_MOD4','KBA05_MOD8',\n",
        "             'KBA05_MODTEMP','KBA05_MOTOR','KBA05_MOTRAD','KBA05_SEG1','KBA05_SEG10','KBA05_SEG2','KBA05_SEG3',\n",
        "             'KBA05_SEG4','KBA05_SEG5','KBA05_SEG6','KBA05_SEG7','KBA05_SEG8','KBA05_SEG9','KBA05_VORB0',\n",
        "             'KBA05_VORB1','KBA05_VORB2','KBA05_ZUL1','KBA05_ZUL2','KBA05_ZUL3','KBA05_ZUL4','RELAT_AB',\n",
        "             'SEMIO_DOM',\n",
        "             'SEMIO_ERL','SEMIO_FAM','SEMIO_KAEM','SEMIO_KRIT','SEMIO_KULT','SEMIO_LUST','SEMIO_MAT',\n",
        "             'SEMIO_PFLICHT',\n",
        "             'SEMIO_RAT','SEMIO_REL','SEMIO_SOZ','SEMIO_TRADV','SEMIO_VERT','ZABEOTYP']\n",
        "    for column in temp_col:\n",
        "        try:\n",
        "            df[column] = df[column].replace([9,-1],np.nan)\n",
        "        except:\n",
        "            pass\n",
        "\n",
        "    for column in df.columns.values:\n",
        "        try:\n",
        "            df[column] = df[column].replace([-1],np.nan)\n",
        "        except:\n",
        "            pass\n",
        "        \n",
        "    df['GEBURTSJAHR'] = df[\"GEBURTSJAHR\"].replace([0],np.nan)\n",
        "\n",
        "    #get rid of the rows which have the age is 0 which corresponds to NaN\n",
        "    df = df.drop(['Unnamed: 0'],axis = 1)\n",
        "    if clustering:\n",
        "      corr_matrix = df.corr().abs()\n",
        "      limit = corr_matrix.where(np.triu(np.ones(corr_matrix.shape),k=1).astype(np.bool))\n",
        "      drop_col = [column for column in limit.columns if any(limit[column] > 0.7)]\n",
        "      df = df.drop(drop_col,axis =1)\n",
        "    \n",
        "    df = df.set_index('LNR')\n",
        "    \n",
        "    df_columns = list(df.columns.values)\n",
        "    \n",
        "    imputer = SimpleImputer(missing_values = np.nan , strategy = 'most_frequent')\n",
        "    df = imputer.fit_transform(df)\n",
        "    df = pd.DataFrame(df, columns = df_columns)\n",
        "    print(df.shape)\n",
        "    \n",
        "    return df"
      ],
      "execution_count": 5,
      "outputs": []
    },
    {
      "cell_type": "markdown",
      "metadata": {
        "id": "AcVWETh1fJRw"
      },
      "source": [
        "## Part 2: Supervised Learning Model\n"
      ]
    },
    {
      "cell_type": "markdown",
      "metadata": {
        "id": "E8V07UUR2LuY"
      },
      "source": [
        "Now that you've found which parts of the population are more likely to be customers of the mail-order company, it's time to build a prediction model. Each of the rows in the \"MAILOUT\" data files represents an individual that was targeted for a mailout campaign. Ideally, we should be able to use the demographic information from each individual to decide whether or not it will be worth it to include that person in the campaign.\n",
        "\n",
        "The \"MAILOUT\" data has been split into two approximately equal parts, each with almost 43 000 data rows. In this part, you can verify your model with the \"TRAIN\" partition, which includes a column, \"RESPONSE\", that states whether or not a person became a customer of the company following the campaign. In the next part, you'll need to create predictions on the \"TEST\" partition, where the \"RESPONSE\" column has been withheld."
      ]
    },
    {
      "cell_type": "markdown",
      "metadata": {
        "id": "BPoWEKrM2QGO"
      },
      "source": [
        "**Loading and Cleaning Dataset**"
      ]
    },
    {
      "cell_type": "code",
      "metadata": {
        "id": "7M_mUwP1fJR6",
        "outputId": "fdfc9825-5280-4518-da39-881489dce558",
        "colab": {
          "base_uri": "https://localhost:8080/",
          "height": 51
        }
      },
      "source": [
        "#mailout_train = pd.read_csv('../../data/Term2/capstone/arvato_data/Udacity_MAILOUT_052018_TRAIN.csv', sep=';')\n",
        "mailout_train = pd.read_csv('/content/drive/My Drive/zzzz_Capstone/mailout_train.csv', sep=',')"
      ],
      "execution_count": 6,
      "outputs": [
        {
          "output_type": "stream",
          "text": [
            "/usr/local/lib/python3.6/dist-packages/IPython/core/interactiveshell.py:2718: DtypeWarning: Columns (19,20) have mixed types.Specify dtype option on import or set low_memory=False.\n",
            "  interactivity=interactivity, compiler=compiler, result=result)\n"
          ],
          "name": "stderr"
        }
      ]
    },
    {
      "cell_type": "code",
      "metadata": {
        "id": "RWOhIIbUfJSH",
        "outputId": "2dd9be9e-6df9-418f-d356-5743988545ee",
        "colab": {
          "base_uri": "https://localhost:8080/",
          "height": 51
        }
      },
      "source": [
        "mailout_train_cleaned = data_cleaning(mailout_train,False)"
      ],
      "execution_count": 7,
      "outputs": [
        {
          "output_type": "stream",
          "text": [
            "(42962, 368)\n",
            "(42962, 366)\n"
          ],
          "name": "stdout"
        }
      ]
    },
    {
      "cell_type": "code",
      "metadata": {
        "id": "q93iohJyfJSB"
      },
      "source": [
        "X = mailout_train_cleaned.drop('RESPONSE',axis =1)\n",
        "y = mailout_train_cleaned['RESPONSE']"
      ],
      "execution_count": 8,
      "outputs": []
    },
    {
      "cell_type": "code",
      "metadata": {
        "id": "QTim_8ZyfJSJ",
        "outputId": "3a368641-e91c-422e-b192-b8b16f2b51bd",
        "colab": {
          "base_uri": "https://localhost:8080/",
          "height": 51
        }
      },
      "source": [
        "print(mailout_train_cleaned.shape)\n",
        "print(y.shape)"
      ],
      "execution_count": 9,
      "outputs": [
        {
          "output_type": "stream",
          "text": [
            "(42962, 366)\n",
            "(42962,)\n"
          ],
          "name": "stdout"
        }
      ]
    },
    {
      "cell_type": "code",
      "metadata": {
        "id": "uyw4NNVFfJSL",
        "outputId": "1705338e-99a9-4002-d40d-52d0ac974abb",
        "colab": {
          "base_uri": "https://localhost:8080/",
          "height": 238
        }
      },
      "source": [
        "mailout_train_cleaned.head(5), y.head(5)"
      ],
      "execution_count": 10,
      "outputs": [
        {
          "output_type": "execute_result",
          "data": {
            "text/plain": [
              "(   AGER_TYP  AKT_DAT_KL  ALTER_HH  ...  RESPONSE  ANREDE_KZ  ALTERSKATEGORIE_GROB\n",
              " 0       2.0         1.0       8.0  ...       0.0        2.0                   4.0\n",
              " 1       1.0         4.0      13.0  ...       0.0        2.0                   3.0\n",
              " 2       1.0         1.0       9.0  ...       0.0        1.0                   4.0\n",
              " 3       2.0         1.0       6.0  ...       0.0        2.0                   4.0\n",
              " 4       2.0         1.0       9.0  ...       0.0        1.0                   3.0\n",
              " \n",
              " [5 rows x 366 columns], 0    0.0\n",
              " 1    0.0\n",
              " 2    0.0\n",
              " 3    0.0\n",
              " 4    0.0\n",
              " Name: RESPONSE, dtype: float64)"
            ]
          },
          "metadata": {
            "tags": []
          },
          "execution_count": 10
        }
      ]
    },
    {
      "cell_type": "code",
      "metadata": {
        "id": "m4Qkuuhkqabj"
      },
      "source": [
        "X_train, X_test, y_train, y_test = train_test_split(X, y, test_size=0.33, random_state=42)"
      ],
      "execution_count": 98,
      "outputs": []
    },
    {
      "cell_type": "code",
      "metadata": {
        "id": "VJXa2sa6qC7b",
        "outputId": "75a53140-42f9-4d31-f31d-6e2ddcac76f5",
        "colab": {
          "base_uri": "https://localhost:8080/",
          "height": 153
        }
      },
      "source": [
        "reg = LogisticRegression().fit(X_train, y_train)"
      ],
      "execution_count": 12,
      "outputs": [
        {
          "output_type": "stream",
          "text": [
            "/usr/local/lib/python3.6/dist-packages/sklearn/linear_model/_logistic.py:764: ConvergenceWarning: lbfgs failed to converge (status=1):\n",
            "STOP: TOTAL NO. of ITERATIONS REACHED LIMIT.\n",
            "\n",
            "Increase the number of iterations (max_iter) or scale the data as shown in:\n",
            "    https://scikit-learn.org/stable/modules/preprocessing.html\n",
            "Please also refer to the documentation for alternative solver options:\n",
            "    https://scikit-learn.org/stable/modules/linear_model.html#logistic-regression\n",
            "  extra_warning_msg=_LOGISTIC_SOLVER_CONVERGENCE_MSG)\n"
          ],
          "name": "stderr"
        }
      ]
    },
    {
      "cell_type": "code",
      "metadata": {
        "id": "_ZESOKuQrg2h"
      },
      "source": [
        "y_pred = reg.predict(X_test)"
      ],
      "execution_count": 13,
      "outputs": []
    },
    {
      "cell_type": "code",
      "metadata": {
        "id": "djQhKh_breJ2",
        "outputId": "ee1163e8-5a8c-4e98-c8e7-1e7427d7a080",
        "colab": {
          "base_uri": "https://localhost:8080/",
          "height": 34
        }
      },
      "source": [
        "roc_auc_score(y_test, y_pred)"
      ],
      "execution_count": 14,
      "outputs": [
        {
          "output_type": "execute_result",
          "data": {
            "text/plain": [
              "0.5"
            ]
          },
          "metadata": {
            "tags": []
          },
          "execution_count": 14
        }
      ]
    },
    {
      "cell_type": "code",
      "metadata": {
        "id": "eZQX8npfrB-_",
        "outputId": "59c40fde-0123-4db0-c4fb-cd47dfee8257",
        "colab": {
          "base_uri": "https://localhost:8080/",
          "height": 296
        }
      },
      "source": [
        "metrics.plot_roc_curve(reg, X_test, y_test) "
      ],
      "execution_count": 15,
      "outputs": [
        {
          "output_type": "execute_result",
          "data": {
            "text/plain": [
              "<sklearn.metrics._plot.roc_curve.RocCurveDisplay at 0x7f60e5b0a6a0>"
            ]
          },
          "metadata": {
            "tags": []
          },
          "execution_count": 15
        },
        {
          "output_type": "display_data",
          "data": {
            "image/png": "[encoded data removed]",
            "text/plain": [
              "<Figure size 432x288 with 1 Axes>"
            ]
          },
          "metadata": {
            "tags": [],
            "needs_background": "light"
          }
        }
      ]
    },
    {
      "cell_type": "markdown",
      "metadata": {
        "id": "z10zEGMe2jWs"
      },
      "source": [
        "**Function for plotting learning curve** - taken from sklearn site\n"
      ]
    },
    {
      "cell_type": "code",
      "metadata": {
        "id": "bCqFa6MZfJSN"
      },
      "source": [
        "def plot_learning_curve(estimator, title, X, y, axes=None, ylim=None, cv=None,\n",
        "                        n_jobs=None, train_sizes=np.linspace(.1, 1.0, 5)):\n",
        "    \"\"\"\n",
        "    Generate 3 plots: the test and training learning curve, the training\n",
        "    samples vs fit times curve, the fit times vs score curve.\n",
        "    Parameters\n",
        "    ----------\n",
        "    estimator : estimator instance\n",
        "        An estimator instance implementing `fit` and `predict` methods which\n",
        "        will be cloned for each validation.\n",
        "    title : str\n",
        "        Title for the chart.\n",
        "    X : array-like of shape (n_samples, n_features)\n",
        "        Training vector, where ``n_samples`` is the number of samples and\n",
        "        ``n_features`` is the number of features.\n",
        "    y : array-like of shape (n_samples) or (n_samples, n_features)\n",
        "        Target relative to ``X`` for classification or regression;\n",
        "        None for unsupervised learning.\n",
        "    axes : array-like of shape (3,), default=None\n",
        "        Axes to use for plotting the curves.\n",
        "    ylim : tuple of shape (2,), default=None\n",
        "        Defines minimum and maximum y-values plotted, e.g. (ymin, ymax).\n",
        "    cv : int, cross-validation generator or an iterable, default=None\n",
        "        Determines the cross-validation splitting strategy.\n",
        "        Possible inputs for cv are:\n",
        "          - None, to use the default 5-fold cross-validation,\n",
        "          - integer, to specify the number of folds.\n",
        "          - :term:`CV splitter`,\n",
        "          - An iterable yielding (train, test) splits as arrays of indices.\n",
        "        For integer/None inputs, if ``y`` is binary or multiclass,\n",
        "        :class:`StratifiedKFold` used. If the estimator is not a classifier\n",
        "        or if ``y`` is neither binary nor multiclass, :class:`KFold` is used.\n",
        "        Refer :ref:`User Guide <cross_validation>` for the various\n",
        "        cross-validators that can be used here.\n",
        "    n_jobs : int or None, default=None\n",
        "        Number of jobs to run in parallel.\n",
        "        ``None`` means 1 unless in a :obj:`joblib.parallel_backend` context.\n",
        "        ``-1`` means using all processors. See :term:`Glossary <n_jobs>`\n",
        "        for more details.\n",
        "    train_sizes : array-like of shape (n_ticks,), dtype={int, float}\n",
        "        Relative or absolute numbers of training examples that will be used to\n",
        "        generate the learning curve. If the ``dtype`` is float, it is regarded\n",
        "        as a fraction of the maximum size of the training set (that is\n",
        "        determined by the selected validation method), i.e. it has to be within\n",
        "        (0, 1]. Otherwise it is interpreted as absolute sizes of the training\n",
        "        sets. Note that for classification the number of samples usually have\n",
        "        to be big enough to contain at least one sample from each class.\n",
        "        (default: np.linspace(0.1, 1.0, 5))\n",
        "    \"\"\"\n",
        "    if axes is None:\n",
        "        _, axes = plt.subplots(1, 3, figsize=(20, 5))\n",
        "\n",
        "    axes[0].set_title(title)\n",
        "    if ylim is not None:\n",
        "        axes[0].set_ylim(*ylim)\n",
        "    axes[0].set_xlabel(\"Training examples\")\n",
        "    axes[0].set_ylabel(\"Score\")\n",
        "\n",
        "    train_sizes, train_scores, test_scores, fit_times, _ = \\\n",
        "        learning_curve(estimator, X, y, cv=cv, n_jobs=n_jobs,\n",
        "                       train_sizes=train_sizes,\n",
        "                       return_times=True)\n",
        "    train_scores_mean = np.mean(train_scores, axis=1)\n",
        "    train_scores_std = np.std(train_scores, axis=1)\n",
        "    test_scores_mean = np.mean(test_scores, axis=1)\n",
        "    test_scores_std = np.std(test_scores, axis=1)\n",
        "    fit_times_mean = np.mean(fit_times, axis=1)\n",
        "    fit_times_std = np.std(fit_times, axis=1)\n",
        "\n",
        "    # Plot learning curve\n",
        "    axes[0].grid()\n",
        "    axes[0].fill_between(train_sizes, train_scores_mean - train_scores_std,\n",
        "                         train_scores_mean + train_scores_std, alpha=0.1,\n",
        "                         color=\"r\")\n",
        "    axes[0].fill_between(train_sizes, test_scores_mean - test_scores_std,\n",
        "                         test_scores_mean + test_scores_std, alpha=0.1,\n",
        "                         color=\"g\")\n",
        "    axes[0].plot(train_sizes, train_scores_mean, 'o-', color=\"r\",\n",
        "                 label=\"Training score\")\n",
        "    axes[0].plot(train_sizes, test_scores_mean, 'o-', color=\"g\",\n",
        "                 label=\"Cross-validation score\")\n",
        "    axes[0].legend(loc=\"best\")\n",
        "\n",
        "    # Plot n_samples vs fit_times\n",
        "    axes[1].grid()\n",
        "    axes[1].plot(train_sizes, fit_times_mean, 'o-')\n",
        "    axes[1].fill_between(train_sizes, fit_times_mean - fit_times_std,\n",
        "                         fit_times_mean + fit_times_std, alpha=0.1)\n",
        "    axes[1].set_xlabel(\"Training examples\")\n",
        "    axes[1].set_ylabel(\"fit_times\")\n",
        "    axes[1].set_title(\"Scalability of the model\")\n",
        "\n",
        "    # Plot fit_time vs score\n",
        "    axes[2].grid()\n",
        "    axes[2].plot(fit_times_mean, test_scores_mean, 'o-')\n",
        "    axes[2].fill_between(fit_times_mean, test_scores_mean - test_scores_std,\n",
        "                         test_scores_mean + test_scores_std, alpha=0.1)\n",
        "    axes[2].set_xlabel(\"fit_times\")\n",
        "    axes[2].set_ylabel(\"Score\")\n",
        "    axes[2].set_title(\"Performance of the model\")\n",
        "\n",
        "    return plt"
      ],
      "execution_count": 16,
      "outputs": []
    },
    {
      "cell_type": "code",
      "metadata": {
        "id": "T3RR3QNDfJSQ"
      },
      "source": [
        "#initialise \n",
        "classifier_1_XGB = XGBClassifier(objective = 'binary:logistic',random_state= 123)\n",
        "classifier_2_RF = RandomForestClassifier(random_state=123)\n",
        "classifier_3_Ada = AdaBoostClassifier(random_state=123)\n",
        "classifier_4_DT = DecisionTreeClassifier(random_state=123)"
      ],
      "execution_count": 17,
      "outputs": []
    },
    {
      "cell_type": "code",
      "metadata": {
        "id": "SmRWmsJ-fJSV"
      },
      "source": [
        "cv = StratifiedKFold(n_splits=4)"
      ],
      "execution_count": 18,
      "outputs": []
    },
    {
      "cell_type": "code",
      "metadata": {
        "id": "otKxNr-sfJSY",
        "outputId": "bddaa39e-acb8-4520-8db2-0af015e79f31",
        "colab": {
          "base_uri": "https://localhost:8080/",
          "height": 422
        }
      },
      "source": [
        "plot_learning_curve(classifier_1_XGB,\"XGBoost\",X_train.values,y_train.values,cv=cv,ylim=None,n_jobs =2)"
      ],
      "execution_count": 19,
      "outputs": [
        {
          "output_type": "stream",
          "text": [
            "/usr/local/lib/python3.6/dist-packages/joblib/externals/loky/process_executor.py:691: UserWarning: A worker stopped while some jobs were given to the executor. This can be caused by a too short worker timeout or by a memory leak.\n",
            "  \"timeout or by a memory leak.\", UserWarning\n"
          ],
          "name": "stderr"
        },
        {
          "output_type": "execute_result",
          "data": {
            "text/plain": [
              "<module 'matplotlib.pyplot' from '/usr/local/lib/python3.6/dist-packages/matplotlib/pyplot.py'>"
            ]
          },
          "metadata": {
            "tags": []
          },
          "execution_count": 19
        },
        {
          "output_type": "display_data",
          "data": {
            "image/png": "[encoded data removed]",
            "text/plain": [
              "<Figure size 1440x360 with 3 Axes>"
            ]
          },
          "metadata": {
            "tags": [],
            "needs_background": "light"
          }
        }
      ]
    },
    {
      "cell_type": "code",
      "metadata": {
        "id": "u8U7Bo2AEvPm",
        "outputId": "884aa499-fa94-4eea-bfd1-f9a953d55f1c",
        "colab": {
          "base_uri": "https://localhost:8080/",
          "height": 368
        }
      },
      "source": [
        "plot_learning_curve(classifier_2_RF,\"RandomForest\",X_train,y_train,cv=cv,ylim=None,n_jobs =2)"
      ],
      "execution_count": 20,
      "outputs": [
        {
          "output_type": "execute_result",
          "data": {
            "text/plain": [
              "<module 'matplotlib.pyplot' from '/usr/local/lib/python3.6/dist-packages/matplotlib/pyplot.py'>"
            ]
          },
          "metadata": {
            "tags": []
          },
          "execution_count": 20
        },
        {
          "output_type": "display_data",
          "data": {
            "image/png": "[encoded data removed]",
            "text/plain": [
              "<Figure size 1440x360 with 3 Axes>"
            ]
          },
          "metadata": {
            "tags": [],
            "needs_background": "light"
          }
        }
      ]
    },
    {
      "cell_type": "code",
      "metadata": {
        "id": "_cr1dc34Erul",
        "outputId": "b81181c5-f3a1-4d72-ad43-7c4f215b2f75",
        "colab": {
          "base_uri": "https://localhost:8080/",
          "height": 368
        }
      },
      "source": [
        "plot_learning_curve(classifier_3_Ada,\"AdaBoostClassifier\",X_train,y_train,cv=cv,ylim=None,n_jobs =2)"
      ],
      "execution_count": 21,
      "outputs": [
        {
          "output_type": "execute_result",
          "data": {
            "text/plain": [
              "<module 'matplotlib.pyplot' from '/usr/local/lib/python3.6/dist-packages/matplotlib/pyplot.py'>"
            ]
          },
          "metadata": {
            "tags": []
          },
          "execution_count": 21
        },
        {
          "output_type": "display_data",
          "data": {
            "image/png": "[encoded data removed]",
            "text/plain": [
              "<Figure size 1440x360 with 3 Axes>"
            ]
          },
          "metadata": {
            "tags": [],
            "needs_background": "light"
          }
        }
      ]
    },
    {
      "cell_type": "code",
      "metadata": {
        "id": "GnqJ1AXmEqrz",
        "outputId": "0b1e651c-fc54-4ea7-f2a9-0af000b82a0c",
        "colab": {
          "base_uri": "https://localhost:8080/",
          "height": 247
        }
      },
      "source": [
        "plot_learning_curve(classifier_4_DT,\"DecisionTreeClassifier\",X_train,y_train,cv=cv,ylim=None,n_jobs =2)"
      ],
      "execution_count": 22,
      "outputs": [
        {
          "output_type": "execute_result",
          "data": {
            "text/plain": [
              "<module 'matplotlib.pyplot' from '/usr/local/lib/python3.6/dist-packages/matplotlib/pyplot.py'>"
            ]
          },
          "metadata": {
            "tags": []
          },
          "execution_count": 22
        },
        {
          "output_type": "display_data",
          "data": {
            "image/png": "[encoded data removed]",
            "text/plain": [
              "<Figure size 1440x360 with 3 Axes>"
            ]
          },
          "metadata": {
            "tags": [],
            "needs_background": "light"
          }
        }
      ]
    },
    {
      "cell_type": "code",
      "metadata": {
        "id": "vKDpkLZTJOor",
        "outputId": "e0a93ede-d116-4f29-a11c-2b96fc8144fd",
        "colab": {
          "base_uri": "https://localhost:8080/",
          "height": 34
        }
      },
      "source": [
        "from sklearn.metrics import mean_absolute_error\n",
        "\n",
        "mean_train = np.mean(y_train)\n",
        "# Get predictions on the test set\n",
        "baseline_predictions = np.ones(y_test.shape) * mean_train\n",
        "# Compute MAE\n",
        "mae_baseline = mean_absolute_error(y_test, baseline_predictions)\n",
        "print(\"Baseline MAE is {:.2f}\".format(mae_baseline))"
      ],
      "execution_count": 23,
      "outputs": [
        {
          "output_type": "stream",
          "text": [
            "Baseline MAE is 0.02\n"
          ],
          "name": "stdout"
        }
      ]
    },
    {
      "cell_type": "markdown",
      "metadata": {
        "id": "vJhzq8FWujA6"
      },
      "source": [
        "**Hyperparameter Tuning**"
      ]
    },
    {
      "cell_type": "code",
      "metadata": {
        "id": "NYax2N5Vr9eY"
      },
      "source": [
        "params = {\n",
        "    # Parameters that we are going to tune.\n",
        "    'max_depth':6,\n",
        "    'min_child_weight': 1,\n",
        "    'eta':.3,\n",
        "    'subsample': 1,\n",
        "    'colsample_bytree': 1,\n",
        "    # Other parameters\n",
        "    'objective':'binary:logistic',\n",
        "}"
      ],
      "execution_count": 32,
      "outputs": []
    },
    {
      "cell_type": "code",
      "metadata": {
        "id": "OH5d1R0PJm-J"
      },
      "source": [
        ""
      ],
      "execution_count": 32,
      "outputs": []
    },
    {
      "cell_type": "markdown",
      "metadata": {
        "id": "fZgOgAaKJnjC"
      },
      "source": [
        "Parameters num_boost_round and early_stopping_rounds"
      ]
    },
    {
      "cell_type": "code",
      "metadata": {
        "id": "euWjAcK5J4_d"
      },
      "source": [
        "import xgboost as xgb\n",
        "dtrain = xgb.DMatrix(X_train, label=y_train)\n",
        "dtest = xgb.DMatrix(X_test, label=y_test)"
      ],
      "execution_count": 33,
      "outputs": []
    },
    {
      "cell_type": "code",
      "metadata": {
        "id": "ycjlr_G1JsYE"
      },
      "source": [
        "params['eval_metric'] = \"mae\"\n",
        "num_boost_round = 999"
      ],
      "execution_count": 34,
      "outputs": []
    },
    {
      "cell_type": "code",
      "metadata": {
        "id": "y61JzlItJxNT",
        "outputId": "440f7b62-dd93-4a81-ece6-6be814c63c4f",
        "colab": {
          "base_uri": "https://localhost:8080/",
          "height": 1000
        }
      },
      "source": [
        "%%time\n",
        "model = xgb.train(\n",
        "    params,\n",
        "    dtrain,\n",
        "    num_boost_round=num_boost_round,\n",
        "    evals=[(dtest, \"Test\")],\n",
        "    early_stopping_rounds=3\n",
        ")"
      ],
      "execution_count": 35,
      "outputs": [
        {
          "output_type": "stream",
          "text": [
            "[0]\tTest-mae:0.361326\n",
            "Will train until Test-mae hasn't improved in 3 rounds.\n",
            "[1]\tTest-mae:0.267861\n",
            "[2]\tTest-mae:0.201874\n",
            "[3]\tTest-mae:0.154189\n",
            "[4]\tTest-mae:0.119607\n",
            "[5]\tTest-mae:0.09425\n",
            "[6]\tTest-mae:0.075662\n",
            "[7]\tTest-mae:0.062032\n",
            "[8]\tTest-mae:0.051983\n",
            "[9]\tTest-mae:0.04461\n",
            "[10]\tTest-mae:0.039182\n",
            "[11]\tTest-mae:0.035291\n",
            "[12]\tTest-mae:0.032369\n",
            "[13]\tTest-mae:0.030213\n",
            "[14]\tTest-mae:0.0286\n",
            "[15]\tTest-mae:0.027393\n",
            "[16]\tTest-mae:0.026422\n",
            "[17]\tTest-mae:0.025765\n",
            "[18]\tTest-mae:0.025223\n",
            "[19]\tTest-mae:0.024766\n",
            "[20]\tTest-mae:0.024418\n",
            "[21]\tTest-mae:0.024188\n",
            "[22]\tTest-mae:0.023948\n",
            "[23]\tTest-mae:0.023693\n",
            "[24]\tTest-mae:0.023369\n",
            "[25]\tTest-mae:0.023192\n",
            "[26]\tTest-mae:0.022884\n",
            "[27]\tTest-mae:0.022695\n",
            "[28]\tTest-mae:0.022546\n",
            "[29]\tTest-mae:0.022383\n",
            "[30]\tTest-mae:0.022092\n",
            "[31]\tTest-mae:0.021948\n",
            "[32]\tTest-mae:0.021641\n",
            "[33]\tTest-mae:0.021407\n",
            "[34]\tTest-mae:0.021215\n",
            "[35]\tTest-mae:0.021052\n",
            "[36]\tTest-mae:0.020915\n",
            "[37]\tTest-mae:0.020655\n",
            "[38]\tTest-mae:0.020452\n",
            "[39]\tTest-mae:0.020239\n",
            "[40]\tTest-mae:0.020009\n",
            "[41]\tTest-mae:0.0199\n",
            "[42]\tTest-mae:0.019724\n",
            "[43]\tTest-mae:0.019632\n",
            "[44]\tTest-mae:0.019548\n",
            "[45]\tTest-mae:0.019407\n",
            "[46]\tTest-mae:0.019214\n",
            "[47]\tTest-mae:0.019074\n",
            "[48]\tTest-mae:0.018899\n",
            "[49]\tTest-mae:0.018767\n",
            "[50]\tTest-mae:0.018656\n",
            "[51]\tTest-mae:0.018585\n",
            "[52]\tTest-mae:0.01848\n",
            "[53]\tTest-mae:0.018381\n",
            "[54]\tTest-mae:0.018242\n",
            "[55]\tTest-mae:0.01816\n",
            "[56]\tTest-mae:0.018089\n",
            "[57]\tTest-mae:0.018026\n",
            "[58]\tTest-mae:0.017867\n",
            "[59]\tTest-mae:0.017775\n",
            "[60]\tTest-mae:0.017703\n",
            "[61]\tTest-mae:0.017599\n",
            "[62]\tTest-mae:0.01752\n",
            "[63]\tTest-mae:0.017488\n",
            "[64]\tTest-mae:0.017404\n",
            "[65]\tTest-mae:0.017321\n",
            "[66]\tTest-mae:0.017267\n",
            "[67]\tTest-mae:0.017184\n",
            "[68]\tTest-mae:0.017128\n",
            "[69]\tTest-mae:0.017085\n",
            "[70]\tTest-mae:0.017043\n",
            "[71]\tTest-mae:0.016998\n",
            "[72]\tTest-mae:0.016959\n",
            "[73]\tTest-mae:0.016893\n",
            "[74]\tTest-mae:0.016839\n",
            "[75]\tTest-mae:0.016796\n",
            "[76]\tTest-mae:0.016753\n",
            "[77]\tTest-mae:0.01668\n",
            "[78]\tTest-mae:0.016634\n",
            "[79]\tTest-mae:0.016588\n",
            "[80]\tTest-mae:0.01657\n",
            "[81]\tTest-mae:0.016546\n",
            "[82]\tTest-mae:0.016498\n",
            "[83]\tTest-mae:0.016461\n",
            "[84]\tTest-mae:0.016412\n",
            "[85]\tTest-mae:0.016363\n",
            "[86]\tTest-mae:0.016354\n",
            "[87]\tTest-mae:0.016313\n",
            "[88]\tTest-mae:0.016279\n",
            "[89]\tTest-mae:0.016262\n",
            "[90]\tTest-mae:0.016206\n",
            "[91]\tTest-mae:0.016186\n",
            "[92]\tTest-mae:0.016141\n",
            "[93]\tTest-mae:0.016104\n",
            "[94]\tTest-mae:0.016086\n",
            "[95]\tTest-mae:0.016071\n",
            "[96]\tTest-mae:0.016023\n",
            "[97]\tTest-mae:0.015967\n",
            "[98]\tTest-mae:0.015945\n",
            "[99]\tTest-mae:0.015922\n",
            "[100]\tTest-mae:0.015885\n",
            "[101]\tTest-mae:0.015865\n",
            "[102]\tTest-mae:0.015843\n",
            "[103]\tTest-mae:0.015811\n",
            "[104]\tTest-mae:0.015785\n",
            "[105]\tTest-mae:0.015764\n",
            "[106]\tTest-mae:0.015752\n",
            "[107]\tTest-mae:0.015734\n",
            "[108]\tTest-mae:0.015718\n",
            "[109]\tTest-mae:0.015708\n",
            "[110]\tTest-mae:0.015688\n",
            "[111]\tTest-mae:0.015662\n",
            "[112]\tTest-mae:0.01564\n",
            "[113]\tTest-mae:0.015617\n",
            "[114]\tTest-mae:0.015596\n",
            "[115]\tTest-mae:0.015557\n",
            "[116]\tTest-mae:0.015534\n",
            "[117]\tTest-mae:0.015499\n",
            "[118]\tTest-mae:0.015488\n",
            "[119]\tTest-mae:0.015467\n",
            "[120]\tTest-mae:0.015453\n",
            "[121]\tTest-mae:0.015448\n",
            "[122]\tTest-mae:0.015428\n",
            "[123]\tTest-mae:0.015414\n",
            "[124]\tTest-mae:0.015401\n",
            "[125]\tTest-mae:0.015391\n",
            "[126]\tTest-mae:0.015378\n",
            "[127]\tTest-mae:0.015367\n",
            "[128]\tTest-mae:0.015352\n",
            "[129]\tTest-mae:0.015339\n",
            "[130]\tTest-mae:0.015333\n",
            "[131]\tTest-mae:0.015321\n",
            "[132]\tTest-mae:0.015317\n",
            "[133]\tTest-mae:0.015314\n",
            "[134]\tTest-mae:0.015295\n",
            "[135]\tTest-mae:0.01528\n",
            "[136]\tTest-mae:0.015257\n",
            "[137]\tTest-mae:0.015248\n",
            "[138]\tTest-mae:0.01524\n",
            "[139]\tTest-mae:0.015238\n",
            "[140]\tTest-mae:0.015223\n",
            "[141]\tTest-mae:0.015214\n",
            "[142]\tTest-mae:0.0152\n",
            "[143]\tTest-mae:0.015189\n",
            "[144]\tTest-mae:0.015185\n",
            "[145]\tTest-mae:0.015179\n",
            "[146]\tTest-mae:0.015173\n",
            "[147]\tTest-mae:0.015168\n",
            "[148]\tTest-mae:0.015163\n",
            "[149]\tTest-mae:0.015155\n",
            "[150]\tTest-mae:0.015147\n",
            "[151]\tTest-mae:0.015137\n",
            "[152]\tTest-mae:0.015131\n",
            "[153]\tTest-mae:0.01513\n",
            "[154]\tTest-mae:0.015119\n",
            "[155]\tTest-mae:0.015112\n",
            "[156]\tTest-mae:0.015101\n",
            "[157]\tTest-mae:0.015096\n",
            "[158]\tTest-mae:0.015094\n",
            "[159]\tTest-mae:0.015091\n",
            "[160]\tTest-mae:0.015082\n",
            "[161]\tTest-mae:0.015076\n",
            "[162]\tTest-mae:0.015071\n",
            "[163]\tTest-mae:0.01507\n",
            "[164]\tTest-mae:0.015064\n",
            "[165]\tTest-mae:0.015058\n",
            "[166]\tTest-mae:0.015055\n",
            "[167]\tTest-mae:0.015053\n",
            "[168]\tTest-mae:0.015042\n",
            "[169]\tTest-mae:0.015036\n",
            "[170]\tTest-mae:0.015027\n",
            "[171]\tTest-mae:0.01502\n",
            "[172]\tTest-mae:0.015014\n",
            "[173]\tTest-mae:0.015013\n",
            "[174]\tTest-mae:0.015008\n",
            "[175]\tTest-mae:0.015002\n",
            "[176]\tTest-mae:0.014997\n",
            "[177]\tTest-mae:0.014991\n",
            "[178]\tTest-mae:0.014984\n",
            "[179]\tTest-mae:0.014976\n",
            "[180]\tTest-mae:0.014974\n",
            "[181]\tTest-mae:0.014971\n",
            "[182]\tTest-mae:0.014967\n",
            "[183]\tTest-mae:0.014965\n",
            "[184]\tTest-mae:0.014957\n",
            "[185]\tTest-mae:0.014954\n",
            "[186]\tTest-mae:0.014948\n",
            "[187]\tTest-mae:0.014945\n",
            "[188]\tTest-mae:0.014943\n",
            "[189]\tTest-mae:0.014938\n",
            "[190]\tTest-mae:0.014933\n",
            "[191]\tTest-mae:0.014922\n",
            "[192]\tTest-mae:0.014919\n",
            "[193]\tTest-mae:0.014918\n",
            "[194]\tTest-mae:0.014915\n",
            "[195]\tTest-mae:0.014908\n",
            "[196]\tTest-mae:0.014899\n",
            "[197]\tTest-mae:0.014894\n",
            "[198]\tTest-mae:0.01489\n",
            "[199]\tTest-mae:0.014889\n",
            "[200]\tTest-mae:0.014881\n",
            "[201]\tTest-mae:0.014874\n",
            "[202]\tTest-mae:0.014872\n",
            "[203]\tTest-mae:0.014867\n",
            "[204]\tTest-mae:0.014862\n",
            "[205]\tTest-mae:0.014856\n",
            "[206]\tTest-mae:0.014856\n",
            "[207]\tTest-mae:0.014851\n",
            "[208]\tTest-mae:0.014846\n",
            "[209]\tTest-mae:0.014846\n",
            "[210]\tTest-mae:0.014841\n",
            "[211]\tTest-mae:0.01484\n",
            "[212]\tTest-mae:0.014838\n",
            "[213]\tTest-mae:0.014836\n",
            "[214]\tTest-mae:0.014836\n",
            "[215]\tTest-mae:0.014829\n",
            "[216]\tTest-mae:0.014826\n",
            "[217]\tTest-mae:0.014825\n",
            "[218]\tTest-mae:0.014822\n",
            "[219]\tTest-mae:0.014814\n",
            "[220]\tTest-mae:0.014812\n",
            "[221]\tTest-mae:0.01481\n",
            "[222]\tTest-mae:0.014802\n",
            "[223]\tTest-mae:0.014795\n",
            "[224]\tTest-mae:0.014794\n",
            "[225]\tTest-mae:0.014792\n",
            "[226]\tTest-mae:0.014789\n",
            "[227]\tTest-mae:0.014787\n",
            "[228]\tTest-mae:0.014785\n",
            "[229]\tTest-mae:0.014784\n",
            "[230]\tTest-mae:0.014779\n",
            "[231]\tTest-mae:0.014775\n",
            "[232]\tTest-mae:0.014771\n",
            "[233]\tTest-mae:0.014771\n",
            "[234]\tTest-mae:0.014768\n",
            "[235]\tTest-mae:0.014766\n",
            "[236]\tTest-mae:0.014764\n",
            "[237]\tTest-mae:0.014763\n",
            "[238]\tTest-mae:0.014762\n",
            "[239]\tTest-mae:0.014759\n",
            "[240]\tTest-mae:0.014753\n",
            "[241]\tTest-mae:0.014752\n",
            "[242]\tTest-mae:0.014748\n",
            "[243]\tTest-mae:0.014747\n",
            "[244]\tTest-mae:0.014744\n",
            "[245]\tTest-mae:0.014742\n",
            "[246]\tTest-mae:0.014738\n",
            "[247]\tTest-mae:0.014739\n",
            "[248]\tTest-mae:0.014735\n",
            "[249]\tTest-mae:0.014733\n",
            "[250]\tTest-mae:0.014732\n",
            "[251]\tTest-mae:0.014732\n",
            "[252]\tTest-mae:0.014723\n",
            "[253]\tTest-mae:0.014723\n",
            "[254]\tTest-mae:0.014722\n",
            "[255]\tTest-mae:0.014718\n",
            "[256]\tTest-mae:0.014716\n",
            "[257]\tTest-mae:0.014714\n",
            "[258]\tTest-mae:0.01471\n",
            "[259]\tTest-mae:0.014709\n",
            "[260]\tTest-mae:0.014709\n",
            "[261]\tTest-mae:0.014709\n",
            "[262]\tTest-mae:0.014706\n",
            "[263]\tTest-mae:0.014705\n",
            "[264]\tTest-mae:0.014703\n",
            "[265]\tTest-mae:0.014703\n",
            "[266]\tTest-mae:0.0147\n",
            "[267]\tTest-mae:0.014701\n",
            "[268]\tTest-mae:0.014698\n",
            "[269]\tTest-mae:0.014698\n",
            "[270]\tTest-mae:0.014695\n",
            "[271]\tTest-mae:0.014693\n",
            "[272]\tTest-mae:0.014693\n",
            "[273]\tTest-mae:0.014688\n",
            "[274]\tTest-mae:0.014686\n",
            "[275]\tTest-mae:0.014684\n",
            "[276]\tTest-mae:0.014683\n",
            "[277]\tTest-mae:0.014681\n",
            "[278]\tTest-mae:0.01468\n",
            "[279]\tTest-mae:0.014677\n",
            "[280]\tTest-mae:0.014675\n",
            "[281]\tTest-mae:0.014674\n",
            "[282]\tTest-mae:0.014673\n",
            "[283]\tTest-mae:0.014672\n",
            "[284]\tTest-mae:0.014672\n",
            "[285]\tTest-mae:0.014671\n",
            "[286]\tTest-mae:0.014672\n",
            "[287]\tTest-mae:0.014669\n",
            "[288]\tTest-mae:0.014667\n",
            "[289]\tTest-mae:0.014664\n",
            "[290]\tTest-mae:0.014663\n",
            "[291]\tTest-mae:0.014661\n",
            "[292]\tTest-mae:0.014661\n",
            "[293]\tTest-mae:0.014662\n",
            "[294]\tTest-mae:0.01466\n",
            "[295]\tTest-mae:0.014657\n",
            "[296]\tTest-mae:0.014656\n",
            "[297]\tTest-mae:0.014654\n",
            "[298]\tTest-mae:0.014655\n",
            "[299]\tTest-mae:0.014655\n",
            "[300]\tTest-mae:0.014656\n",
            "Stopping. Best iteration:\n",
            "[297]\tTest-mae:0.014654\n",
            "\n",
            "CPU times: user 3min 31s, sys: 704 ms, total: 3min 31s\n",
            "Wall time: 1min 52s\n"
          ],
          "name": "stdout"
        }
      ]
    },
    {
      "cell_type": "code",
      "metadata": {
        "id": "y_X-Brff7W1A",
        "outputId": "64aafd4c-432c-4034-e560-f339bd466996",
        "colab": {
          "base_uri": "https://localhost:8080/",
          "height": 34
        }
      },
      "source": [
        "print(\"Best MAE: {:.2f} with {} rounds\".format(\n",
        "                 model.best_score,\n",
        "                 model.best_iteration+1))\n"
      ],
      "execution_count": 36,
      "outputs": [
        {
          "output_type": "stream",
          "text": [
            "Best MAE: 0.01 with 298 rounds\n"
          ],
          "name": "stdout"
        }
      ]
    },
    {
      "cell_type": "code",
      "metadata": {
        "id": "YhH0n5ksYD1N"
      },
      "source": [
        "num_boost_round = 238"
      ],
      "execution_count": 37,
      "outputs": []
    },
    {
      "cell_type": "code",
      "metadata": {
        "id": "q4XNsC0L7ZjE",
        "outputId": "f9d96135-888a-4bde-a78c-3bd685c933d7",
        "colab": {
          "base_uri": "https://localhost:8080/",
          "height": 289
        }
      },
      "source": [
        "%%time\n",
        "cv_results = xgb.cv(\n",
        "    params,\n",
        "    dtrain,\n",
        "    num_boost_round=num_boost_round,\n",
        "    seed=42,\n",
        "    nfold=5,\n",
        "    metrics={'mae'},\n",
        "    early_stopping_rounds=3\n",
        ")\n",
        "print(cv_results)"
      ],
      "execution_count": 38,
      "outputs": [
        {
          "output_type": "stream",
          "text": [
            "     train-mae-mean  train-mae-std  test-mae-mean  test-mae-std\n",
            "0          0.361196       0.000144       0.361254      0.000272\n",
            "1          0.267648       0.000272       0.267764      0.000445\n",
            "2          0.201462       0.000359       0.201704      0.000566\n",
            "3          0.153770       0.000411       0.154085      0.000654\n",
            "4          0.119079       0.000443       0.119428      0.000759\n",
            "..              ...            ...            ...           ...\n",
            "233        0.003670       0.000224       0.014588      0.001183\n",
            "234        0.003667       0.000223       0.014584      0.001184\n",
            "235        0.003661       0.000222       0.014580      0.001185\n",
            "236        0.003658       0.000224       0.014579      0.001184\n",
            "237        0.003654       0.000221       0.014575      0.001184\n",
            "\n",
            "[238 rows x 4 columns]\n",
            "CPU times: user 10min 53s, sys: 1.21 s, total: 10min 54s\n",
            "Wall time: 5min 37s\n"
          ],
          "name": "stdout"
        }
      ]
    },
    {
      "cell_type": "code",
      "metadata": {
        "id": "pFQ3CA7f7kzU",
        "outputId": "802ce1c6-3ef9-49c0-f0ae-df40c302fa30",
        "colab": {
          "base_uri": "https://localhost:8080/",
          "height": 34
        }
      },
      "source": [
        "cv_results['test-mae-mean'].min()"
      ],
      "execution_count": 39,
      "outputs": [
        {
          "output_type": "execute_result",
          "data": {
            "text/plain": [
              "0.014574600000000002"
            ]
          },
          "metadata": {
            "tags": []
          },
          "execution_count": 39
        }
      ]
    },
    {
      "cell_type": "markdown",
      "metadata": {
        "id": "lVPjAtdA8Xkh"
      },
      "source": [
        "Best value of max_depth, min_child_weight"
      ]
    },
    {
      "cell_type": "code",
      "metadata": {
        "id": "AGgx1TnwACED"
      },
      "source": [
        "# following ranges.\n",
        "gridsearch_params = [\n",
        "    (max_depth, min_child_weight)\n",
        "    for max_depth in range(9,12)\n",
        "    for min_child_weight in range(5,8)\n",
        "]"
      ],
      "execution_count": 40,
      "outputs": []
    },
    {
      "cell_type": "code",
      "metadata": {
        "id": "WCPHdFg276LY",
        "outputId": "243c7543-9550-455d-a244-17fe60cfaccd",
        "colab": {
          "base_uri": "https://localhost:8080/",
          "height": 374
        }
      },
      "source": [
        "%%time\n",
        "# Define initial best params and MAE\n",
        "min_mae = float(\"Inf\")\n",
        "best_params = None\n",
        "for max_depth, min_child_weight in gridsearch_params:\n",
        "    print(\"CV with max_depth={}, min_child_weight={}\".format(\n",
        "                             max_depth,\n",
        "                             min_child_weight))\n",
        "    # Update our parameters\n",
        "    params['max_depth'] = max_depth\n",
        "    params['min_child_weight'] = min_child_weight\n",
        "    # Run CV\n",
        "    cv_results = xgb.cv(\n",
        "        params,\n",
        "        dtrain,\n",
        "        num_boost_round=num_boost_round,\n",
        "        seed=42,\n",
        "        nfold=5,\n",
        "        metrics={'mae'},\n",
        "        early_stopping_rounds=3\n",
        "    )\n",
        "    # Update best MAE\n",
        "    mean_mae = cv_results['test-mae-mean'].min()\n",
        "    boost_rounds = cv_results['test-mae-mean'].argmin()\n",
        "    print(\"\\tMAE {} for {} rounds\".format(mean_mae, boost_rounds))\n",
        "    if mean_mae < min_mae:\n",
        "        min_mae = mean_mae\n",
        "        best_params = (max_depth,min_child_weight)\n",
        "print(\"Best params: {}, {}, MAE: {}\".format(best_params[0], best_params[1], min_mae))"
      ],
      "execution_count": 41,
      "outputs": [
        {
          "output_type": "stream",
          "text": [
            "CV with max_depth=9, min_child_weight=5\n",
            "\tMAE 0.015446400000000002 for 237 rounds\n",
            "CV with max_depth=9, min_child_weight=6\n",
            "\tMAE 0.0157752 for 237 rounds\n",
            "CV with max_depth=9, min_child_weight=7\n",
            "\tMAE 0.015898600000000002 for 237 rounds\n",
            "CV with max_depth=10, min_child_weight=5\n",
            "\tMAE 0.0153522 for 237 rounds\n",
            "CV with max_depth=10, min_child_weight=6\n",
            "\tMAE 0.015586 for 237 rounds\n",
            "CV with max_depth=10, min_child_weight=7\n",
            "\tMAE 0.0158994 for 237 rounds\n",
            "CV with max_depth=11, min_child_weight=5\n",
            "\tMAE 0.015434599999999998 for 237 rounds\n",
            "CV with max_depth=11, min_child_weight=6\n",
            "\tMAE 0.015586800000000001 for 237 rounds\n",
            "CV with max_depth=11, min_child_weight=7\n",
            "\tMAE 0.015826600000000003 for 237 rounds\n",
            "Best params: 10, 5, MAE: 0.0153522\n",
            "CPU times: user 2h 19min 9s, sys: 5.2 s, total: 2h 19min 15s\n",
            "Wall time: 1h 12min 6s\n"
          ],
          "name": "stdout"
        }
      ]
    },
    {
      "cell_type": "code",
      "metadata": {
        "id": "1lIaxLqD8Eop"
      },
      "source": [
        "params['max_depth'] = 10\n",
        "params['min_child_weight'] = 5"
      ],
      "execution_count": 42,
      "outputs": []
    },
    {
      "cell_type": "markdown",
      "metadata": {
        "id": "Pimuy9eTDWFI"
      },
      "source": [
        "subsample, colsample"
      ]
    },
    {
      "cell_type": "code",
      "metadata": {
        "id": "3yWMm-8DDBOL"
      },
      "source": [
        "gridsearch_params = [\n",
        "    (subsample, colsample)\n",
        "    for subsample in [i/10. for i in range(7,11)]\n",
        "    for colsample in [i/10. for i in range(7,11)]\n",
        "]"
      ],
      "execution_count": 43,
      "outputs": []
    },
    {
      "cell_type": "code",
      "metadata": {
        "id": "edCo4MevDFQj",
        "outputId": "5922089b-21ac-4c49-dcfc-6a388d3c6776",
        "colab": {
          "base_uri": "https://localhost:8080/",
          "height": 578
        }
      },
      "source": [
        "min_mae = float(\"Inf\")\n",
        "best_params = None\n",
        "# We start by the largest values and go down to the smallest\n",
        "for subsample, colsample in reversed(gridsearch_params):\n",
        "    print(\"CV with subsample={}, colsample={}\".format(\n",
        "                             subsample,\n",
        "                             colsample))\n",
        "    # We update our parameters\n",
        "    params['subsample'] = subsample\n",
        "    params['colsample_bytree'] = colsample\n",
        "    # Run CV\n",
        "    cv_results = xgb.cv(\n",
        "        params,\n",
        "        dtrain,\n",
        "        num_boost_round=num_boost_round,\n",
        "        seed=42,\n",
        "        nfold=5,\n",
        "        metrics={'mae'},\n",
        "        early_stopping_rounds=3\n",
        "    )\n",
        "    # Update best score\n",
        "    mean_mae = cv_results['test-mae-mean'].min()\n",
        "    boost_rounds = cv_results['test-mae-mean'].argmin()\n",
        "    print(\"\\tMAE {} for {} rounds\".format(mean_mae, boost_rounds))\n",
        "    if mean_mae < min_mae:\n",
        "        min_mae = mean_mae\n",
        "        best_params = (subsample,colsample)\n",
        "print(\"Best params: {}, {}, MAE: {}\".format(best_params[0], best_params[1], min_mae))"
      ],
      "execution_count": 44,
      "outputs": [
        {
          "output_type": "stream",
          "text": [
            "CV with subsample=1.0, colsample=1.0\n",
            "\tMAE 0.0153522 for 237 rounds\n",
            "CV with subsample=1.0, colsample=0.9\n",
            "\tMAE 0.0154638 for 237 rounds\n",
            "CV with subsample=1.0, colsample=0.8\n",
            "\tMAE 0.015340799999999998 for 237 rounds\n",
            "CV with subsample=1.0, colsample=0.7\n",
            "\tMAE 0.015496199999999998 for 237 rounds\n",
            "CV with subsample=0.9, colsample=1.0\n",
            "\tMAE 0.015928599999999998 for 141 rounds\n",
            "CV with subsample=0.9, colsample=0.9\n",
            "\tMAE 0.0159438 for 156 rounds\n",
            "CV with subsample=0.9, colsample=0.8\n",
            "\tMAE 0.016194800000000002 for 141 rounds\n",
            "CV with subsample=0.9, colsample=0.7\n",
            "\tMAE 0.0161162 for 141 rounds\n",
            "CV with subsample=0.8, colsample=1.0\n",
            "\tMAE 0.0165172 for 127 rounds\n",
            "CV with subsample=0.8, colsample=0.9\n",
            "\tMAE 0.016274 for 135 rounds\n",
            "CV with subsample=0.8, colsample=0.8\n",
            "\tMAE 0.0163154 for 135 rounds\n",
            "CV with subsample=0.8, colsample=0.7\n",
            "\tMAE 0.016534399999999998 for 135 rounds\n",
            "CV with subsample=0.7, colsample=1.0\n",
            "\tMAE 0.0170596 for 116 rounds\n",
            "CV with subsample=0.7, colsample=0.9\n",
            "\tMAE 0.0169582 for 129 rounds\n",
            "CV with subsample=0.7, colsample=0.8\n",
            "\tMAE 0.0174886 for 102 rounds\n",
            "CV with subsample=0.7, colsample=0.7\n",
            "\tMAE 0.0168546 for 142 rounds\n",
            "Best params: 1.0, 0.8, MAE: 0.015340799999999998\n"
          ],
          "name": "stdout"
        }
      ]
    },
    {
      "cell_type": "code",
      "metadata": {
        "id": "ksJVPuLkDPyh"
      },
      "source": [
        "params['subsample'] = 1\n",
        "params['colsample_bytree'] = 0.8"
      ],
      "execution_count": 47,
      "outputs": []
    },
    {
      "cell_type": "code",
      "metadata": {
        "id": "dGdYJJK5DT4h"
      },
      "source": [
        ""
      ],
      "execution_count": 45,
      "outputs": []
    },
    {
      "cell_type": "markdown",
      "metadata": {
        "id": "2ScQ0_PjDSXp"
      },
      "source": [
        "ETA"
      ]
    },
    {
      "cell_type": "code",
      "metadata": {
        "id": "DV_gs1PSDQLl",
        "outputId": "e1f10a0c-4f02-446b-e453-851e0b3b3c41",
        "colab": {
          "base_uri": "https://localhost:8080/",
          "height": 578
        }
      },
      "source": [
        "%time\n",
        "# This can take some time…\n",
        "min_mae = float(\"Inf\")\n",
        "best_params = None\n",
        "for eta in [.3, .2, .1, .05, .01, .005]:\n",
        "    print(\"CV with eta={}\".format(eta))\n",
        "    # We update our parameters\n",
        "    params['eta'] = eta\n",
        "    # Run and time CV\n",
        "    %time \n",
        "    cv_results = xgb.cv(params,\n",
        "                              dtrain,\n",
        "                              num_boost_round=num_boost_round,\n",
        "                              seed=42,\n",
        "                              nfold=5,\n",
        "                              metrics=['mae'],\n",
        "                              early_stopping_rounds=10\n",
        "                              )\n",
        "    # Update best score\n",
        "    mean_mae = cv_results['test-mae-mean'].min()\n",
        "    boost_rounds = cv_results['test-mae-mean'].argmin()\n",
        "    print(\"\\tMAE {} for {} rounds\\n\".format(mean_mae, boost_rounds))\n",
        "    if mean_mae < min_mae:\n",
        "        min_mae = mean_mae\n",
        "        best_params = eta\n",
        "print(\"Best params: {}, MAE: {}\".format(best_params, min_mae))"
      ],
      "execution_count": 51,
      "outputs": [
        {
          "output_type": "stream",
          "text": [
            "CPU times: user 5 µs, sys: 0 ns, total: 5 µs\n",
            "Wall time: 20.7 µs\n",
            "CV with eta=0.3\n",
            "CPU times: user 3 µs, sys: 0 ns, total: 3 µs\n",
            "Wall time: 5.25 µs\n",
            "\tMAE 0.015340799999999998 for 237 rounds\n",
            "\n",
            "CV with eta=0.2\n",
            "CPU times: user 4 µs, sys: 0 ns, total: 4 µs\n",
            "Wall time: 7.15 µs\n",
            "\tMAE 0.015634199999999997 for 237 rounds\n",
            "\n",
            "CV with eta=0.1\n",
            "CPU times: user 3 µs, sys: 0 ns, total: 3 µs\n",
            "Wall time: 6.44 µs\n",
            "\tMAE 0.016583999999999998 for 237 rounds\n",
            "\n",
            "CV with eta=0.05\n",
            "CPU times: user 2 µs, sys: 0 ns, total: 2 µs\n",
            "Wall time: 6.44 µs\n",
            "\tMAE 0.019128399999999997 for 237 rounds\n",
            "\n",
            "CV with eta=0.01\n",
            "CPU times: user 3 µs, sys: 0 ns, total: 3 µs\n",
            "Wall time: 6.2 µs\n",
            "\tMAE 0.06837259999999999 for 237 rounds\n",
            "\n",
            "CV with eta=0.005\n",
            "CPU times: user 3 µs, sys: 0 ns, total: 3 µs\n",
            "Wall time: 28.1 µs\n",
            "\tMAE 0.1690218 for 237 rounds\n",
            "\n",
            "Best params: 0.3, MAE: 0.015340799999999998\n"
          ],
          "name": "stdout"
        }
      ]
    },
    {
      "cell_type": "code",
      "metadata": {
        "id": "8VXwyQDZSWYl",
        "outputId": "1738e8f1-c7e6-4e73-f914-9a74d579c041",
        "colab": {
          "base_uri": "https://localhost:8080/",
          "height": 34
        }
      },
      "source": [
        "params['eta'] = .3\n",
        "print(params)"
      ],
      "execution_count": 57,
      "outputs": [
        {
          "output_type": "stream",
          "text": [
            "{'max_depth': 10, 'min_child_weight': 5, 'eta': 0.3, 'subsample': 1, 'colsample_bytree': 0.8, 'objective': 'binary:logistic', 'eval_metric': 'mae'}\n"
          ],
          "name": "stdout"
        }
      ]
    },
    {
      "cell_type": "code",
      "metadata": {
        "id": "FNT8uJJ-StuB"
      },
      "source": [
        "classifier_2_XGB = XGBClassifier(max_depth = 10,\n",
        "                                 eta = 0.3,\n",
        "                                 subsample= 1, \n",
        "                                 colsample_bytree= 0.8,\n",
        "                                 objective= 'binary:logistic',\n",
        "                                 learning_rate=0.01,\n",
        "                                 n_estimators=500,\n",
        "                                 min_child_weight=10,\n",
        "                                 gamma=0.2,\n",
        "                                 random_state=123,\n",
        "                                 scale_pos_weight=1,\n",
        "                                 n_jobs=3)"
      ],
      "execution_count": 76,
      "outputs": []
    },
    {
      "cell_type": "code",
      "metadata": {
        "id": "1AwK9kTttr2w",
        "outputId": "2396698b-e9bd-46ea-95b8-83bd0b00e6ef",
        "colab": {
          "base_uri": "https://localhost:8080/",
          "height": 68
        }
      },
      "source": [
        "classifier_2_XGB.fit(X_train,y_train)"
      ],
      "execution_count": 79,
      "outputs": [
        {
          "output_type": "execute_result",
          "data": {
            "text/plain": [
              "XGBClassifier(colsample_bytree=0.8, eta=0.3, gamma=0.2, learning_rate=0.01,\n",
              "              max_depth=10, min_child_weight=10, n_estimators=500, n_jobs=3,\n",
              "              random_state=123)"
            ]
          },
          "metadata": {
            "tags": []
          },
          "execution_count": 79
        }
      ]
    },
    {
      "cell_type": "code",
      "metadata": {
        "id": "LG9i42Ner_jv"
      },
      "source": [
        "y_pred = classifier_2_XGB.predict(X_test)"
      ],
      "execution_count": 105,
      "outputs": []
    },
    {
      "cell_type": "code",
      "metadata": {
        "id": "j3OXOxeD4Kla",
        "outputId": "b220b8bf-454d-471d-9541-ada69a580129",
        "colab": {
          "base_uri": "https://localhost:8080/",
          "height": 221
        }
      },
      "source": [
        "y_test"
      ],
      "execution_count": 99,
      "outputs": [
        {
          "output_type": "execute_result",
          "data": {
            "text/plain": [
              "20218    0.0\n",
              "7886     0.0\n",
              "7685     0.0\n",
              "7487     0.0\n",
              "25213    0.0\n",
              "        ... \n",
              "32403    0.0\n",
              "35211    0.0\n",
              "42284    0.0\n",
              "32418    0.0\n",
              "12868    0.0\n",
              "Name: RESPONSE, Length: 14178, dtype: float64"
            ]
          },
          "metadata": {
            "tags": []
          },
          "execution_count": 99
        }
      ]
    },
    {
      "cell_type": "code",
      "metadata": {
        "id": "r5F1y0lg4qVn",
        "outputId": "98317edf-bd84-4bab-ef5f-02bfadd87270",
        "colab": {
          "base_uri": "https://localhost:8080/",
          "height": 34
        }
      },
      "source": [
        "y_pred"
      ],
      "execution_count": 101,
      "outputs": [
        {
          "output_type": "execute_result",
          "data": {
            "text/plain": [
              "array([0., 0., 0., ..., 0., 0., 0.])"
            ]
          },
          "metadata": {
            "tags": []
          },
          "execution_count": 101
        }
      ]
    },
    {
      "cell_type": "code",
      "metadata": {
        "id": "1y94YpLz4ELR",
        "outputId": "4e694077-b0eb-44b9-ae1a-1a2a48e966aa",
        "colab": {
          "base_uri": "https://localhost:8080/",
          "height": 34
        }
      },
      "source": [
        "y_pred"
      ],
      "execution_count": 106,
      "outputs": [
        {
          "output_type": "execute_result",
          "data": {
            "text/plain": [
              "array([0., 0., 0., ..., 0., 0., 0.])"
            ]
          },
          "metadata": {
            "tags": []
          },
          "execution_count": 106
        }
      ]
    },
    {
      "cell_type": "code",
      "metadata": {
        "id": "42uGKf86r_jy",
        "outputId": "35b986f5-2252-4ff2-9c1c-385c14e4b161",
        "colab": {
          "base_uri": "https://localhost:8080/",
          "height": 34
        }
      },
      "source": [
        "roc_auc_score(y_test, y_pred)"
      ],
      "execution_count": 107,
      "outputs": [
        {
          "output_type": "execute_result",
          "data": {
            "text/plain": [
              "0.5"
            ]
          },
          "metadata": {
            "tags": []
          },
          "execution_count": 107
        }
      ]
    },
    {
      "cell_type": "code",
      "metadata": {
        "id": "Vj8i-Rqtr_j1",
        "outputId": "49cadc69-75e8-48cc-b8aa-557fe400359c",
        "colab": {
          "base_uri": "https://localhost:8080/",
          "height": 296
        }
      },
      "source": [
        "metrics.plot_roc_curve(classifier_2_XGB, X_test, y_test) "
      ],
      "execution_count": 108,
      "outputs": [
        {
          "output_type": "execute_result",
          "data": {
            "text/plain": [
              "<sklearn.metrics._plot.roc_curve.RocCurveDisplay at 0x7f60dfed3a90>"
            ]
          },
          "metadata": {
            "tags": []
          },
          "execution_count": 108
        },
        {
          "output_type": "display_data",
          "data": {
            "image/png": "[encoded data removed]",
            "text/plain": [
              "<Figure size 432x288 with 1 Axes>"
            ]
          },
          "metadata": {
            "tags": [],
            "needs_background": "light"
          }
        }
      ]
    },
    {
      "cell_type": "code",
      "metadata": {
        "id": "SGdMFlBrStuG",
        "outputId": "7b8a5370-1e13-497a-9bff-b1f439a6fe3a",
        "colab": {
          "base_uri": "https://localhost:8080/",
          "height": 34
        }
      },
      "source": [
        "regressor = cross_val_score(classifier_2_XGB,X_train,y_train,cv=cv,n_jobs=-1)\n",
        "print(regressor.mean())"
      ],
      "execution_count": 110,
      "outputs": [
        {
          "output_type": "stream",
          "text": [
            "0.987736242356865\n"
          ],
          "name": "stdout"
        }
      ]
    },
    {
      "cell_type": "code",
      "metadata": {
        "id": "TOVHF_bEStuJ"
      },
      "source": [
        ""
      ],
      "execution_count": null,
      "outputs": []
    },
    {
      "cell_type": "markdown",
      "metadata": {
        "id": "IwmJRT2jfJSc"
      },
      "source": [
        "\n",
        "\n",
        "## Part 3: Kaggle Competition\n",
        "\n",
        "Now that you've created a model to predict which individuals are most likely to respond to a mailout campaign, it's time to test that model in competition through Kaggle. If you click on the link [here](http://www.kaggle.com/t/21e6d45d4c574c7fa2d868f0e8c83140), you'll be taken to the competition page where, if you have a Kaggle account, you can enter. If you're one of the top performers, you may have the chance to be contacted by a hiring manager from Arvato or Bertelsmann for an interview!\n",
        "\n",
        "Your entry to the competition should be a CSV file with two columns. The first column should be a copy of \"LNR\", which acts as an ID number for each individual in the \"TEST\" partition. The second column, \"RESPONSE\", should be some measure of how likely each individual became a customer – this might not be a straightforward probability. As you should have found in Part 2, there is a large output class imbalance, where most individuals did not respond to the mailout. Thus, predicting individual classes and using accuracy does not seem to be an appropriate performance evaluation method. Instead, the competition will be using AUC to evaluate performance. The exact values of the \"RESPONSE\" column do not matter as much: only that the higher values try to capture as many of the actual customers as possible, early in the ROC curve sweep."
      ]
    },
    {
      "cell_type": "code",
      "metadata": {
        "id": "gywGE0DFfJSc"
      },
      "source": [
        "#mailout_test = pd.read_csv('../../data/Term2/capstone/arvato_data/Udacity_MAILOUT_052018_TEST.csv', sep=';')\n",
        "mailout_test = pd.read_csv('/content/drive/My Drive/zzzz_Capstone/mailout_test.csv', sep=',')"
      ],
      "execution_count": null,
      "outputs": []
    },
    {
      "cell_type": "code",
      "metadata": {
        "id": "4rWOzBH4wFXO"
      },
      "source": [
        "X_test = data_cleaning(mailout_test)\n",
        "X_test.head()"
      ],
      "execution_count": null,
      "outputs": []
    },
    {
      "cell_type": "code",
      "metadata": {
        "id": "5PQrQUbwxcgW"
      },
      "source": [
        "X.shape"
      ],
      "execution_count": null,
      "outputs": []
    },
    {
      "cell_type": "code",
      "metadata": {
        "id": "A_huszqwfJSi"
      },
      "source": [
        "y_test = classifier_2_XGB.predict_proba(X_test)"
      ],
      "execution_count": null,
      "outputs": []
    },
    {
      "cell_type": "code",
      "metadata": {
        "id": "VQJTh_EnzT1s"
      },
      "source": [
        "y_test[:,1]"
      ],
      "execution_count": null,
      "outputs": []
    },
    {
      "cell_type": "code",
      "metadata": {
        "id": "Ha4vZtPSzmuR"
      },
      "source": [
        "pd.DataFrame(index=mailout_test.LNR, data = y_test[:,1],columns=['RESPONSE']).to_csv(\"kaggle_predictions.csv\")"
      ],
      "execution_count": null,
      "outputs": []
    },
    {
      "cell_type": "markdown",
      "metadata": {
        "id": "_OwBTkh6QKoe"
      },
      "source": [
        "## Grabbed 24th place in leadershipboard as on 20-09-2020\n",
        "![Screenshot 2020-09-20 at 9.35.17 PM.png](data:image/png;base64,iVBORw0KGgoAAAANSUhEUgAAA/EAAADXCAYAAABS3NEjAAAK3WlDQ1BJQ0MgUHJvZmlsZQAASImVlwdQk9kWgO//p4eEQAIRkBJ6RzoBpIQeQEE6iEpIAgklhISgIDZkcQVXBRERLCu4KqLg6grIWhALFkSxYV8QUVDXxYINlf0Dj7C7b957887Mzf3m5NzT5t6Z8wNADuKIxRmwCgCZohxJRKAPIy4+gYF7AgiACugAA9AcrlTMCg8PBYhM7X+X97cBJN9vWMt9/fv//1WoPL6UCwCUiHAyT8rNRLgdWc+5YkkOAKgDiN5wcY5YztcQVpMgCSL8RM6pk/xRzskTjCZN2ERF+CLMAABP4nAkqQCQrBA9I5ebivghyWuwFfGEIoQLEPbkCjg8hI8jbJWZmSXnIYTNEHsxAGSkO4CZ/BefqX/zn6zwz+GkKniyrgnB+wml4gxO3v/Zmv8tmRmyqRgmyCIJJEER8p4i/buTnhWiYFHy3LApFvIm+y5ngSwoeoq5Ut+EKeZx/EIUZzPmhk5xijCArfCTw46aYr7UP3KKJVkRilgpEl/WFHMk03Fl6dEKvYDPVvjPF0TFTnGuMGbuFEvTI0OmbXwVeoksQpE/XxToMx03QFF7pvQv9QrZirM5gqggRe2c6fz5Ita0T2mcIjce389/2iZaYS/O8VHEEmeEK+z5GYEKvTQ3UnE2B7mc02fDFT1M4wSHTzEIAuGAAUIBC9gDB2ALnAHI4S/JkRfimyXOkwhTBTkMFvLa+Ay2iGtjxbC3tbcFQP52J6/D24iJNwnRT07rsnYj1/g98l7KpnXJFQC0FAOgcW9aZ7QDAEoRAM0dXJkkd1KHlv9gABFQgBrQBLrAEJgBayQ7Z+AOvIE/CAZhIArEg4WACwQgE0jAYlAAVoFiUAo2gs2gGuwEdWAfOAgOgxZwHJwG58FlcA3cAvdBHxgEL8AIeA/GIAjCQWSIBmlCepAxZAnZQ0zIE/KHQqEIKB5KglIhESSDCqDVUClUDlVDu6B66GfoGHQaugj1QHehfmgYegN9hlEwCVaDdWATeBbMhFlwCBwFL4BT4Ww4Hy6C18NVcC18AG6GT8OX4VtwH/wCHkUBlBKKjtJHWaOYKF9UGCoBlYKSoJajSlCVqFpUI6oN1Ym6gepDvUR9QmPRNDQDbY12Rweho9FcdDZ6OXoduhq9D92MPou+ge5Hj6C/YcgYbYwlxg3DxsRhUjGLMcWYSswezFHMOcwtzCDmPRaLpWNNsS7YIGw8Ng27FLsOux3bhG3H9mAHsKM4HE4TZ4nzwIXhOLgcXDFuK+4A7hTuOm4Q9xGvhNfD2+MD8Al4Eb4QX4nfjz+Jv45/hh8jqBCMCW6EMAKPkEfYQNhNaCNcJQwSxoiqRFOiBzGKmEZcRawiNhLPER8Q3yopKRkouSrNUxIqrVSqUjqkdEGpX+kTiUqyIPmSEkky0nrSXlI76S7pLZlMNiF7kxPIOeT15HryGfIj8kdlmrKNMluZp7xCuUa5Wfm68isKgWJMYVEWUvIplZQjlKuUlyoEFRMVXxWOynKVGpVjKr0qo6o0VTvVMNVM1XWq+1Uvqg5RcVQTqj+VRy2i1lHPUAdoKJohzZfGpa2m7aadow2qYdVM1dhqaWqlagfVutVG1Knqjuox6kvUa9RPqPfRUXQTOpueQd9AP0y/Tf88Q2cGawZ/xtoZjTOuz/igMVPDW4OvUaLRpHFL47MmQ9NfM12zTLNF86EWWstCa57WYq0dWue0Xs5Um+k+kzuzZObhmfe0YW0L7Qjtpdp12l3aozq6OoE6Yp2tOmd0XurSdb1103QrdE/qDuvR9Dz1hHoVeqf0njPUGSxGBqOKcZYxoq+tH6Qv09+l360/ZmBqEG1QaNBk8NCQaMg0TDGsMOwwHDHSM5pjVGDUYHTPmGDMNBYYbzHuNP5gYmoSa7LGpMVkyFTDlG2ab9pg+sCMbOZllm1Wa3bTHGvONE83325+zQK2cLIQWNRYXLWELZ0thZbbLXusMFauViKrWqtea5I1yzrXusG634ZuE2pTaNNi82qW0ayEWWWzOmd9s3WyzbDdbXvfjmoXbFdo12b3xt7CnmtfY3/TgewQ4LDCodXhtaOlI99xh+MdJ5rTHKc1Th1OX51dnCXOjc7DLkYuSS7bXHqZasxw5jrmBVeMq4/rCtfjrp/cnN1y3A67/eFu7Z7uvt99aLbpbP7s3bMHPAw8OB67PPo8GZ5Jnj969nnpe3G8ar0eext687z3eD9jmbPSWAdYr3xsfSQ+R30++Lr5LvNt90P5BfqV+HX7U/2j/av9HwUYBKQGNASMBDoFLg1sD8IEhQSVBfWyddhcdj17JNgleFnw2RBSSGRIdcjjUItQSWjbHHhO8JxNcx7MNZ4rmtsSBsLYYZvCHoabhmeH/zoPOy98Xs28pxF2EQURnZG0yEWR+yPfR/lEbYi6H20WLYvuiKHEJMbUx3yI9Ystj+2LmxW3LO5yvFa8ML41AZcQk7AnYXS+//zN8wcTnRKLE28vMF2wZMHFhVoLMxaeWERZxFl0JAmTFJu0P+kLJ4xTyxlNZidvSx7h+nK3cF/wvHkVvGG+B7+c/yzFI6U8ZSjVI3VT6rDAS1ApeCn0FVYLX6cFpe1M+5Aelr43fTwjNqMpE5+ZlHlMRBWli85m6WYtyeoRW4qLxX3Zbtmbs0ckIZI9Uki6QNqao4YMSV0yM9l3sv5cz9ya3I+LYxYfWaK6RLSkK88ib23es/yA/J+Wopdyl3YU6BesKuhfxlq2azm0PHl5xwrDFUUrBlcGrty3irgqfdWVQtvC8sJ3q2NXtxXpFK0sGvgu8LuGYuViSXHvGvc1O79Hfy/8vnutw9qta7+V8EouldqWVpZ+Wcddd+kHux+qfhhfn7K+e4Pzhh0bsRtFG2+XeZXtK1ctzy8f2DRnU3MFo6Kk4t3mRZsvVjpW7txC3CLb0lcVWtW61Wjrxq1fqgXVt2p8apq2aW9bu+3Ddt726zu8dzTu1NlZuvPzj8If7+wK3NVca1JbWYety617ujtmd+dPzJ/q92jtKd3zda9ob9++iH1n613q6/dr79/QADfIGoYPJB64dtDvYGujdeOuJnpT6SFwSHbo+c9JP98+HHK44wjzSOMvxr9sO0o7WtIMNec1j7QIWvpa41t7jgUf62hzbzv6q82ve4/rH685oX5iw0niyaKT46fyT422i9tfnk49PdCxqOP+mbgzN8/OO9t9LuTchfMB5890sjpPXfC4cPyi28Vjl5iXWi47X27ucuo6esXpytFu5+7mqy5XW6+5Xmvrmd1z8rrX9dM3/G6cv8m+efnW3Fs9t6Nv3+lN7O27w7szdDfj7ut7uffG7q98gHlQ8lDlYeUj7Ue1v5n/1tTn3Hei36+/63Hk4/sD3IEXT6RPvgwWPSU/rXym96x+yH7o+HDA8LXn858PvhC/GHtZ/Lvq79temb365Q/vP7pG4kYGX0tej79Z91bz7d53ju86RsNHH73PfD/2oeSj5sd9n5ifOj/Hfn42tvgL7kvVV/Ovbd9Cvj0YzxwfF3MknIlRAIUsOCUFgDd7kdk4HgAaMpcT50/O1hMCTX4PTBD4Tzw5f08IMt3U9QIQtRSA0CsAbK1GxlnEPwX5JginIHp3ADs4KNa/RJriYD/pi+SFjCYPx8ffmgGAKwPga9n4+Fjd+PjXOiTZ+wC0503O9HIxGAHAPFhOXdklU/EVMjnv/6XGf+5AnoEj+Of+J+38GYtqQE5BAAAAVmVYSWZNTQAqAAAACAABh2kABAAAAAEAAAAaAAAAAAADkoYABwAAABIAAABEoAIABAAAAAEAAAPxoAMABAAAAAEAAADXAAAAAEFTQ0lJAAAAU2NyZWVuc2hvdI29OEkAAAHXaVRYdFhNTDpjb20uYWRvYmUueG1wAAAAAAA8eDp4bXBtZXRhIHhtbG5zOng9ImFkb2JlOm5zOm1ldGEvIiB4OnhtcHRrPSJYTVAgQ29yZSA1LjQuMCI+CiAgIDxyZGY6UkRGIHhtbG5zOnJkZj0iaHR0cDovL3d3dy53My5vcmcvMTk5OS8wMi8yMi1yZGYtc3ludGF4LW5zIyI+CiAgICAgIDxyZGY6RGVzY3JpcHRpb24gcmRmOmFib3V0PSIiCiAgICAgICAgICAgIHhtbG5zOmV4aWY9Imh0dHA6Ly9ucy5hZG9iZS5jb20vZXhpZi8xLjAvIj4KICAgICAgICAgPGV4aWY6UGl4ZWxYRGltZW5zaW9uPjEwMDk8L2V4aWY6UGl4ZWxYRGltZW5zaW9uPgogICAgICAgICA8ZXhpZjpVc2VyQ29tbWVudD5TY3JlZW5zaG90PC9leGlmOlVzZXJDb21tZW50PgogICAgICAgICA8ZXhpZjpQaXhlbFlEaW1lbnNpb24+MjE1PC9leGlmOlBpeGVsWURpbWVuc2lvbj4KICAgICAgPC9yZGY6RGVzY3JpcHRpb24+CiAgIDwvcmRmOlJERj4KPC94OnhtcG1ldGE+CtE6Y4IAAEAASURBVHgB7J0HfBTFF8dfeidA6L33XqWoCAIC/hUFG9jFjr1X7L333rsioiCggIIUAekivbdQA+k9//ebMMfmuCQXSOCS/B6fcHe7s7Oz392dnVfmrV+OipSAbNy0WRo2qF8CNbNKEiABEiABEiABEiABEiABEiABEihZAr6q0waW7GGzdhIgARIgARIgARIgARIoOoGExESJizsgQYEBRd+4kC0yMrOkUqWKEhUZWUhJriYBEiAB3yPg73tNYotIgARIgARIgARIgATKO4GSUuDBFYYB1E8hARIggdJIgEp8aTxrbDMJkAAJkAAJkAAJlHECJeGBdyIr6fqd++J3EiABEihOAlTii5Mm6yIBEiABEiABEiABEiABEiABEiCBEiTAOfElCJdVkwAJkAAJkAAJkAAJlBwB5GfeunWrJCUlSUREhPnMzMyUpk2bSmhoaMntmDWTAAmQwAkkQCX+BMLnrkmABEiABEiABEiABI6OQFZWlmzevFlatGgh4eHhsn//ftmxY4cEBwfLzJkzpVOnTlKlSpWjq5xbkQAJkIAPE2A4vQ+fHDaNBEiABEiABEiABEjAM4FZs2ZJ7dq1JTs7W/777z+ZOnWqwAufnp4uzZo1k3nz5nnekEtJgARIoJQToBJfyk8gm08CJEACJEACJEAC5YkAFPV///1XunXrJlOmTJHFixfLwYMHJTY21oTTwyuP7xs3bjQKfXliw2MlARIoHwQYTl8+zjOPkgRIgARIgARIgARKPQGEz+/atUvatWsnVatWNUr7gQMHpEOHDtK2bVuJj4+XGjVqSEpKiuzbt08WLlwoPXr0KPXHzQMgARIgAScBeuKdNPidBEiABEiABEiABEjA5wggRH758uXSuHFjad26tZkLn5iYKCeffLLxtiOJXVRUlNSqVUsCAgLMH0LtV69eTW+8z51NNogESOBYCZR7T/yWLVtMSBYymsKqW6lSpSOYbtq0SVatWiVBQUHGylutWrUjyvj6AmRvXbBggbFII+FL165dzfHadk+fPt1Ys//3v//ZRcf0iTC2P//8UypXriwDBgzwWNf48eONpXzgwIGG+3PPPSdg/dZbb3ksX9IL161bJ//884+cfvrpTIRT0rBZPwmQAAmQAAkUgcD69eulV69esnLlSsHzGuM2jGug2EOBh4d++/btZjyBhHcZGRkSEhIiYWFhRpGHl74sC44ZUwwwjqpbt64Z4wUGFjzMB6MVK1YYdnXq1JE2bdoYZk5O3taL84O8BBhHt2/f3hhUjqYeuw2OA2N0RFhUqFDBLi73n4g6wXmOi4szeR+aN2+eh8nevXvNecizUH9g6klpeFvDnj17TDRNo0aNxM/Pz3UYMNghaSXyX8BQ57wmoHOgbPXq1V3ly8OXgu/uMk7ghx9+kE8//VQqVqwoycnJgs5uzJgx0qpVK9eRf/zxx/Ljjz+aCwY3DOZh3XfffUYJdhXy8S+YJzZy5EiZOHFinpZed9118vrrr5vjfvzxx2XDhg1SXEo8wtcuuugiY/hAJ4zQNqfgoTt06FCzCGXR6X/55Zdm/toLL7xgssw6yxf1+5o1a+Spp56SSy+9VPr27evV5r/99pvceOONgkQ5zGbrFTIWIgESIAESIIHjQiAmJkbmzp1r9gVnChR5PLcxhsM6ZKNv2bKlWQ/lHZKWlib+/v5G4TELyuh/UMafffZZmT9/vhmvQqlBtMJDDz2Ur+IGpeiRRx4xBg4oP7t375aGDRvKo48+apgClbf1fvbZZ/L9998LzgumMERHR5t6GjRoYIh7W48prP9hTI7xON42gONyjsttmfL4uWTJEnnmmWdMlAmucSi8Z5xxhhm7Wh64Bt555508Si7WIdGj+1jcbuMLn9CvkIgSRiVIvXr1jA6B7zDO4V5HhA3u59TUVOnXr5+5XrEeOkV5VOLLbTg9LFlQ4KFo4hMKJDqvjz76CNeDEVh1ocDfcsst8u6778oXX3xhPPEffvihLVIqPnEzQ4GH0g7lFglg4P3GciSEKUlBx/3BBx8csQvs213mzJljrMFISHOsgocRzivC6CgkQAIkQAIkQAKlmwAURCim+IOyDqfDE088Id27dzfeYySxmzZtmvn79ttvZezYsWawj4E/vHdlWZCVf9GiRUbBw/jqpZdeMuO9n3/+Od/DRrQkxoSvvvqqGae9/fbbxvPtHBd6U++yZcsM6wceeEAwPoZCD48vnGBWvKnHlsUnxm+YPkHJSwC6CCJKwAf6Csb1kydPNg4wWxKKff369Y3OAr3F/vmyAo+241pF9AVeF+kU3LszZsyQmjVryiWXXCIXX3yxNGnSxCyD4l+epdwq8bjIkegEDwFYddDh9OnTx3ij7QWBZXfccYex9mAZwtARIgQFEeFFpUVmz55tmgpve9OmTU1oEhRrWFvdFWZYUk899VQTsoawdli7IIha6NKliyxdutT8xn8If8cyePoLkvfeey8PL1h/P//88yM2uf32241RBStgZDj77LPzlMHDGvvDQweC9g0ePNgYXxCyjwcS5Pfff5dRo0aZ77BYnnTSSeY7/gMLeOcRftSxY0eB1z8/QWhY7969ZciQIYI2Y0rCK6+8YsLtMfXimmuuMcl18tuey0mABEiABEiABEqOADy+Z555plx//fVywQUXmMhCTH2EZxljOyi2GLPZsUzJteTE1gzFG2Na67FGKDKiEOG9zE8QmozEgCgLQf4AeD/h9bTiTb2TJk0yodp2rIUwZ0SsOqMgvanH7hPTV1HnVVddZRfxUwlAmT3//PPl6quvNtc5oCBEHrJz507zif+Q9BHntbQJojbOO+88cx06275t2zYzBsf1ZcPrYbiDkxARxE7B/Q7jHa4f93XOcmXle7lV4qHM3n///Xnm7CBMxYb+4ATjIQDF3l40a9euNR0iFHlYdkuL2LB1KLa4wCGY+/Twww/Laaed5joMPOhQBqHtsIYhtBw3AwTrEPYOZdbK1q1bzbKCLGGDBg0SlHOG8iPqISEhQbDOKVDOYdGF4EECqxzmvkGgQMNKjAgKhARBOUf7UA8e4AilgUKPfSGsDucIgugKnEMIzi/2CWUfSj9Cke666y5Tryng+A8PMcyNx/yup59+WiIjI+Xuu++W2267zXSesBTCEoq6Mc2CQgIkQAIkQAIkcOIIYD43xjadOnUyhnootPBawoOHTPVlWTBmgXPBKfiNsVt+Y7TOnTub9VB4MLbD2AiKD5wlVrypFw4PsP/mm2/k3nvvleeff14wLxsOISve1IOyaOsbb7xhkhXiPFIOE4BRCmN2m5cL0xa++uorMya1Y16UxjnHuPSxxx4z41Y4zfDGBl8XnG84S90F4344HDFtxgryXEBXwTormLqLP+h30BkQ/QEdoSxLuVXi3U8qQrDgpUWYhrvACgTrFzzFuIluuukm9yI+/RtTBmClRkeNThshNddee+0RVipYqn/66SfzB4UXhorvvvvumI7twgsvNDeeM3weyjiUa3jb8xOEzECsEQHz4GA1tucHx/Hyyy+bcBrM60dnhYc0QvLREdhzBMs8FH4IkuBg/tdff/1lcgGABww0uNGdgiiN/v37m4cQyuBBCMsmvPYwciB0CVygxMNi7L69sy5+JwESIAESIAESOD4EYHCHQoqpdBjHYBCP+dWYI15WBceH8ZtTycGx4jeUGcwr9yQYRyEaFVGNGCe++OKLJnIR2f4h3taL+jEmQsgzpjlAYcSYDPmFilIPymIKK+pDpCMlfwJwQF1xxRXG8AKHJMa3VuCxR4Qskr9hrP3rr78ap11pNWThOoTS7i5YlpSU5FqM8TycehizI08ADAKYYlOWJbAsH5y3x4Y54rD8oRPzZPlDhvXRo0cbrywUfShzTz75pMtD7+1+TlQ5XOjopGEhxTyxCRMmyPvvv28seDgea71Fhw/PMgShOLCsWk+4WXgU/8F6hvB18MXNhAcpQvLh3YZBJD/BQwRzehDG/+CDD5pPlLVKPKyRuLHvuecegRXYJrtxWuXc64Z1DokwYJWE8o3kGXjAuW+DEC48RDDlACE7ECQKgWAbJAmE2A7x77//NiFAZiH/IwESIAESIAESOCEEoLjgNXPwyMMbiXEClEqnknNCGlaCO8X0AQjCi51if3vybqIclLtffvnFKD6IWkC0KRw5cJ4MHz7clVTM1mPrtr9RL8ZQ8J5jnIyxMThjGRILY3ompiR62z44ajBGxTxvTJPIz/hg21GePzEORfQqxr4YX8NBBYUdgnwITkHkKaJI8fYla6Bxrvf173AoeprCjGXOty/g3re/oV9AjynrkbL5a1G+flaLqX24CdDZIOxnxIgRHmuFInrKKaeYjgU3AkK3j1W59bijEl6IEHVY72AtHTdunLFWOz3kUPbt1AE0xd4Mzmahc7aSX4iWXW8/0SHDMoiEHNgfOv4rr7zSrvb4iXagk4LCjwy0sM5ivheSWUAwbwbTBPAAQvg8rG+FCcL4MQ8eHRwy1mJ7T9Y9HDc6Dcx/xwAA4pz3j/X4w0ABBgr3JByFtYPrSYAESIAESIAEip8Ans0I5cZ0OeQ1wvgACj3GP2VVoCRjHjqiCJ2C3xjLQCH2JFDW4bFEZCaUO4zLzj33XDPewljPm3oxVsPbfPDaYmsowTKM1+C4QXI6b+pB+zBGxJgM5w5vGoCDBIJpoExSbFC4/sNr9xAhjMz9UGaRCyo/ady4sfHK23xS+ZXz1eW4ruBxhx7hFETcOPN64Vp3ilOfcS4vS9/LtRKPMHkkd4Nid/PNNx9xXnFT4AZxZsi0ySIwF6U0CDpizJ/BA8w5nx1WU4jz2Ao6Hswpg+D1DxDUa7+bBQX8h/AqGEng2UbIFR4Sdk5PAZu5vO6IIMCbAmyIPazqeMc8vOrwqCOqwDn3ylknlHUryNCJBzwMMLAQI2khDBHuNzo89UgCiPdwYt49BA8oCKIWEEaPvzfffFMuu+wyY7E2K/kfCZAACZAACZDACSNglU94laFcQpHHc760jNmOFhzGWTZ83daBSEsk8XUf49j1cFJYL7ldht8IzbdOGm/qxTvpMRfZKRizwYBiowC8qcdGRSIZMv7geIEgpxKmQZZ3QaQCdBanExHnC0Yae31D0UUSaJx7KxjnY70dx9vlpeUT+ckQ/QGdzQoMVNBpsK48S7kNp8cFjcRu6GAwNxsKmxUkTkPHj4sDnSLCMjBHGpYghBrBUugp7N5u70uf6LyR5R0KNEJq4H3GxY8EJBCb9K6wNoMRLF7oHDZp0jtY9DANwVuBNx7TFSCYn++NoNMHZ1iLcZ4wvx2COW94OMAyCw89wtrvvPPOPFVaqztewQGPOULkEZ6PjgCvP8ErajCXHr/x0HcKrH4wHMAS/Mknn5gojMsvv9yEhWFbGAJgtQZT5FLAHHmwpZAACZAACZAACZw4AvDi4vmPufBQeqDkQLHBmK4sy1lnnSV4xRuiHeHgQH4gJCNGlngrmMYIB4rN+o7pgnBWwTmFcHqM66AwY668Ve69qReh9xgzQfGGQwXOFThazjnnHLtr8aYevOrOKQinh6ME77q3Wfed68vbd+gkiEzF2BX5puCMg3EDBhQ7Poa+gnEtohqgvON8w2mF5c6EhaWJHcb7CJXHmBxR0TgW6GZIbIcom/Is5VaJx9wQG3r0yCOP5LkGXnvtNTO3BF5XeGuhuOHiwYWDsBS8Ws2GDeXZ0Ed/4HigeEKhtXPHG+irHOBxtmHoODZPYpdDgUc9SBKHzgFK6w033GDm2nvazn0ZvO+wAuJmxE3oSey+nOvgfUcoFTLP2+gBlMMcfzyIhg0bZm5khBWhXVbwEMfUB3R2eB0H1mP+PB5syDIPHgjJRwdg92s/UQeMH+CDKA144/FqC4Tu44ECxR5eeBh78NChAm+p85MESIAESIAEThwBKOxw0sDYDwUGRnp4Kq1n+cS1rGT3jPHqLbfcYt7NDkUcx4+xT8+ePc2OwQGZ5+0UQSzEGA7jHsxDh5MKhg4o9sgBZaWwelEOThHsG2NMjJOwb4zZMN3Qijf12LL89EwA4eIYg2PciWmhCKNHtAnOo3NcDacW1mPMjjJwYMGD700ErOc9n/ileFsUnGZ4VSGuZRg0sMwKxuyeIk48LbPblIVPP4WR1w1ZTEe1cdNmadigfjHVduKrQdgGFL/SbM3FQwyvYIP1yj2LqbeEcbnA8+2ch+LttkdTDhlOx4wZY7zxMAQ4BZ0TwmsQyuVUwJ1lEE6P0DDnnDAk18NDBn9HI7ByIllGae4Qj+a4uQ0JkAAJkAAJHE8CzvdfF7Zf5K6BBx7jFIx1EMGHMQLGAIjIGzJkiMcqSmuYsceD0YUIS8eYx12BgYEDy9yXgxe2wbjQfZ1zH/nVa8ugHoyNMMY8lnpsffzMnwDGoRiLIxdCfgJPPMqVJqdjfsdil+N4cJ3ZaRp2eUl/+qpOW2498UU94Uer8BV1PyVZHkYIm73yaPeDjvl4KPAIx8K8dMyhx3x0hGK5C6ySsDAWJAitw59T8Iq9YxGEmVGBPxaC3JYESIAESIAEipcA3kUOjyTmw2OgD+UFfxi32LfJFO8efbO2/Jw0+Tk7wAeKd2GSX712O9RjIybtMk+fhdXjaRsuy0sA41A75SHvmsO/oOgeb2X38N5L5lthx1wye/XdWj3HUPtue9myckIAbwBAZnqEr3/99dcmCqKcHDoPkwRIgARIgARIQAlkZGZ5xcEq7VAkYahHdnSbKA2fDXQKoSfxtn5P23IZCZAACZxIAvTEn0j63He+BDBfHX8UEiABEiABEiCB8kmgUqWKGqJ9QIIC874+yp0GvPDIhYP58IjSw9RHJENbsmSJ8cQ7XxNrt4UCj/opJEACJFAaCVCJL41njW0mARIgARIgARIggTJOIEpz1+CvMPE0rx2JdFu0aFHYplxPAiRAAqWSAMPpS+VpY6NJgARIgARIgARIgARIgARIgATKIwEq8eXxrPOYSYAESIAESIAESIAESIAESIAESiUBhtOXytPGRpMACZAACZAACZBA2Sbw/c5/5MfYRdI4oqrc22iQRAaGlu0D5tGRAAmQgJcE6In3EhSLkQAJkAAJkAAJkAAJHD8CP6kCn5KVLv/Gb5cVCTuO3465JxIgARLwcQJU4n38BLF5JEACJEACJEACJFAeCQyt0UnCAoKlTYXa0jqqVnlEwGMmARIgAY8EGE7vEQsXkgAJkAAJkAAJkAAJnEgC59XsIvijkAAJkAAJ5CVAT3xeHvxFAiRAAiRAAiRAAiRAAiRAAiRAAj5LgEq8z54aNowESIAESIAESIAESIAESIAESIAE8hIosXD6Rt+v0z3hj0ICJEACJEACJEACJEACJEACJEACpY9Azl31fa7R9MT73Clhg0iABEiABEiABEiABEiABEiABEjAM4ES88Tb3W2/vrf9yk8SIAESIAESIAESIAESIAESIAES8HkCtd+e5bNtpCfeZ08NG0YCJEACJEACJEACJEACJEACJEACeQlQic/Lg79IgARIgARIgARIgARIgARIgARIwGcJUIn32VPDhpEACZAACZAACZAACZAACZAACZBAXgJU4vPy4C8SIAESIAESIAESIAESIAESIAES8FkCJZ7YzmePnA0jARIgARIgARIgARLwSQJZqXFycMMMSYjdIOGVYyTAT8TPL0iycwIk299PcvR3ZFCUZAZHSVBAjoSGROr6HEnK9BO/hFgJCg6TnJAwSU9Nk8Agf/HPyJDg4GDJycnU5THiV6mR+AWF++Sxs1EkQAIkUBgBKvGFEeJ6EiABEiABEiABEiCB40og8cBByYmoItG1Q6RWza6SqQp6dmaSJKelSHpmpqQk7pOMgHTJCawjB9PiVTGPkkhV3P390iRNYsU/rLrkBFWWyMhAycjUbVLiJEv8JTAkUMLCY1SpT5Z0KvHH9ZxyZyRAAsVHgOH0xceSNZEACZAACZAACZAACRQDgYAAf4kIqiLBOf6SnrZD0nNS9S9TQkJCJTqqmlSLqSMBAQGq0CdItqRIUsoe8ffPlEA/PwkKDJbAQD8JNKPcZPFT9V0CRL33OZKRkSbBus4/M7kYWskqSIAESODEEKAn/sRw515JgARIgARIgARIgATyIZCcnChRqmxrrLzkBESrBh6ofvQA9aRrmLxftirjSRoeX0nSJVh2bdkrWVkZkp6YLRWrVZMsv2Dx07D7nJwM2b1rvSr9tSQ7y0+3DpDMrEzJVE8+vPIUEiABEiitBKjEl9Yzx3aTAAmQAAmQAAmQQFklkJUtmUFZOre9soSER0taZpYq3qqopyaoB95P4uMz5M+Zf8nGTTv0d4Ts3RcrlSpFS1iIv4RFRkuTxnWkU4dOEhJYQTJSD0pIaKRUrFRDcrJ1br1/tgSHRkhiWWXH4yIBEijzBKjEl/lTzAMkARIgARIgARIggdJFICQkRIKCMiQt5aAkJqkSHhap3vdsnc8eKStXLJfX335LtsXultTUdA2Nz5DUzHQJj6ooAVlpUiEiXJYsjJbQgFDp1bOn8dLDC5+asE9CggLVEJAhQVpWtC4KCZAACZRGAlTiS+NZY5tJgARIgARIgARIoAwTyMnJUeVb/7JTNCw+R1KSEsU/UBXw9HT56JPPZP3mraJx8RIBr3pgltTSBHb7k+Jkf1y87AuKlCbBIbJt2w715IdKVrKfpGUla2K8FA2rF507H2jqLMP4eGgkQAJlnACV+DJ+gnl4JEACJEACJEACJFDaCJjXwen89bS0VAkMCJHM7CTJSEuTlRs3yfQ/pkrtmIpy4cDe0rxudaldp47Omw+Rg3tj5e/5c+X3Bask4UCc/D1vlvTo0V1atGgjSWmquKfr6+iCQnTOvOr/miSPQgIkQAKllQCV+NJ65thuEiABEiABEiABEiijBFLVax7sH6radpYq3NmaqE7f9a656DRdnS7PkfNPbS0DevVQBd9P58yH6bvjgyQyurIMioqUmOhKMvG/3bJ2zUaJP5AgOTq/PiQoTFLTD6hRIEkV+Qpan7rkKSRAAiRQSglQiS+lJ47NJgESIAESIAESIIGySiAoWzPMB+jr4CKixD8gTBLTk8QvO8co9ZUjI+TULu0lQJPVhYWHi1+gznjPCZaskApSOTxKasdul6T5m6V6rZpSrXKIpGckSrYmtAsMDJcgf50/n7BHMgN0gVQrq/h4XCRAAmWcAJV4PcHbt26V1StX6IMgQlq1aSvRFTXZST6ydfNm2bFtq7Rq106ioirkU8r3F//y4w9SvWYt6dajZ4k2Njk5SX7/daLOSQuWwWcNPWJfE3/6UapWr1Gs7cCrY34dP04aN20mrdu1P2KfXEACJEACJEACJODbBDL3/qqvkIuRqOAoid/2u3rOgzRD/X7x0/e7x1SKksyQaNmXki5ZaQclPDREdu9YJSu3J0j1GvWkTuWKcmbXxvLbZs1kn7hSdq9ZKQHB4ToP3l8SD+6SzLRkHZcESLWerXwbQhFah7Hpqv90LBsWrmOfdlIhOv+xrK12y+ZNsnbVKt0mTFq0biOVY2LsKtdnYfWuXb1K9u/d6yqPL+ERkdK2QwfXMuQ02Kr7Wr1ypa6LkPYdO0lkVJRrvf1yIG6/rFi+XNJSU6VFq1ZSq05du4qfXhJIiI+Xlf8uF3w2bdlS6tVv4OWWvlksNTVFYnfsPKJxNWvXFiS/3LN7l1lXtVr1I8qU9QXlXomf+NM4+e7Lz43inpKcLAFqzb39vgelWYuWR5z7lJRkefGpxyVu/3554PEnJapF6VTi0Zled9nFMnDI/4pVeT4CmC6YOG6c3HrdKLNq2ryF2im3zlPs5muukj79+hdrOw4eOCDXX36JXHvzrVTi89DmDxIgARIgARIoHQQqVu6srvMcSVflPdBPlfFAfwnKrCgx1aKlY/e1snvrWlmnievStv4rA4acK4m7YyV29TrJ1sR39VvUlh6dO0l01W1SsUoryYmsoontssU/7YBERNeSnKBKpQOCl638c+pv8un770qlyjGSkpKir9wLkDsfeEgaNGqcbw1jv/lafh77vRn/QlGC3HTHPXmUb2/qHfvNV7Jh7Vp9hZ9OfTgkderVy1MP2vbH779p+ypLUmKihKrR4LZ775dGTZraTYwB4pVnn5IA/wCzDE6gEZdfJf0HDXaV4ZeCCWxcv15eePIxk0ciQg0pB+Li5Ozh58m5F1xU8IY+vHbXzliZNeMPCXVcX2hu3wEDjRK/8t9/9ZWRfkIl3odPYkk0Lf7gAaPADz3vAnORI+PpS089Id9+/qk89OQzR+zy+y+/MFlRj1jBBfkSGPvtVzqHzV/D2LLlR31g3P/YE/mW5QoSIAESIAESIAESAIH9gTESHRahr49LksCg6hpSnyHJezdKZGRNaddCvbRBe+W/zbslvHI9qdZ6gFRpuFeCqq6Rei06SMXKVWXPugXSMSpb9m6PlbAWzSRd0iQnM1X8UmIloloDTYQXKGXBkwVF7bMP35cz/ne2XHDxpWac+txjj8hH77wljz33oseLCc4ORGRCwTvn/AslQ8e/Lz6t498vPnUp397Wu3fPbjnznHPlrGHnedzXgr/nyp9Tf5drbrpFep1yqlEwX3r6SfnkvXfk0WdfED8/P30LQZa8/cpL0qX7SXLV9aPNmPGrTz6Sbz77RE7q3btUR756hFJCC7/+7GOpUbOm3HH/Q2aaya/jfzJ6Tp/T+2uURZUS2mvJVpuUmCDhOmWmNBsiSoqQpggpv7JPw386d+8uAwYPMYomrDw9Tj5FNm/ceASUdWtWqxVxilx06eVHrCsLC3bt3CmP3He39O/ZTc4d2E9efe5pyczIyHNos2f8KaOvulx6d2gjV110vsz68488691/oE5sc+Y5w4y1ddz333h8pQsU/JefeVL6duskwwcPkC8+/tBVFcLtB53SU3789msZPqi/+cNKPFwevf8eGdKnt2nP7ddfoyE1u13b4Uu2PhQef/A+6de9s1xzyQj564/pedbDMnzJsLPlpDbN5aKzh8jcv2a61t9z841mm6/1AYL9nzOgr0z/bYosXbRQLj9/mOEEi3GSvvKGQgIkQAIkQAIkULwEMtMz5GB8kiSmqCIeHydJyVmqAMbJweQDErp9hVSt1VxGXX6NXHjFrRIRVVkiK9WSDl1Plui6rSQjST33OSESUrGGBDfoIAf01XNJ8fty58ZLlnr3M/TVdZqivgwIxllBgUFGGcfhIKv/8ItGmLHspg3rPR7h7l2xZjzWsUs3o0QHa1hy2/YdZHds7nJs5E29iOzcv2+fxFSp6nE/WPjf8mVSr0EDo8Djd0hIqLZvpGnfzh3bsUgWLZgviIYdqZ53KPWIJBg+YqRcef2NamDIOxY1G/C/IwjgXFSsVEn+d+5wM2UBHKG8QzzpNUdU4KMLMM6OiIwsuHWaKmP5ksVmKi10tS2bjtTjCq6gdK4t10p8w8ZN5OY778lzcaxYvlQQBuQUWAg/fvdt6dazt1ooOzpXlYnviEgYMfRM+eyD98w8coREPff4oxoGf7VL6Z43Z7ZcrAovlNieauhYtGCe+T1z+rR8GYz77htjTR163vlq7T1fcwlsk79n/XVE+RnTp8qrzz8rTZq3MGWgQH/x0Qem3N49e2TZ4kVyx43XmWkMbZQ/5kpddt45xoqLUKwOnbvID19/KTdccUmeuj/XOhAqVq9BQ/l90kS5VLdJSIg3Zd546Xm5//ZbJDEhQU4/Y7CsWvGvOR60EbJ+3VqZNmWSPPnQ/VKrdh1ZvnSJXHfpSLPfrKxMydJ5988/8Zhassea8vyPBEiABEiABEig+AgEqKc8S/9l5uinKigZ/plSUd/5HqzvgK/U7iTZtH2jJMf+J9s2/iuLJ30o86f+KIlpGeK3c5mkq8c+UT34Ea1P1dfS6avpUjMkSefPh2riu8wMPwn0j5C4A3kN/8XX8uNb084d23T81Nwo73bPzXXqIhThndtzlWS73H5i7BSpihHyB+3ft1eg7P+ljpk2Oo8dyh/Em3oxvTQrM0sW/7NAnnz4AYFzA173PKL12TrtcoyrITAaQDZv2GCcPf/pXO5Xn3tGnn1sjAm/P6lXb4/z9M1G/C8PATC+4dY7zJjYrlixbKlhX6duXr3Gri8Nn4kJiSa6ZKbqClMm/mIMPslJSXmavn3bVqM/QK+DMWOmOu0wbaOsS7lW4t1P7l9/TpcFc+fKsAtH5lmFcJQD2lGNvPzKPMvLyo8fvv7KzEV66qVX5Z1Pv5Cvx0+UCy+5TKCEowOAPPvowzrfpJr8OmOWPPf6W/LXkn81y2ugfKnhTvnJWPWeI7FK3/4DTcgWymHulLtAKf99znx57/OvZPJfcwTJKqBkO+WCkZcI5tQ/8vRz+raZTLn4ilHy/hdfy+sffCxvfPiJ9NQQrflqaEjXd8haqVChgsxdvko+/vYHeVxDyrAOSfYg7Tp0kkeeeV7GTp4qT7zwstz54BhJ1Xlk/8ybazc3v8Hiw6+/M3O3YA1EuNjnY8fLj1OmmWR9E/UBSCEBEiABEiABEiheApnqgM3OSVPvearEVKgsEQHBkqDvdk/Wee01Wp4ksbt3yrr/lsmsRStlx+49kqwvf589faL8veBviY+LlT36arldu7fK/tR0nU+fo3PhK0iO6qd4TV1KcoJEhJfOvEbulOP2x0mFCtF5FkOhQ+K4OE0U50mg4I++825ZOH+e3HbdNTLmnrvMmGfEZVe4intTb6I6RqJ0rHXgQJzmPGqjbAOM0wuOFStIGA1P8JyZM8wijKW+++Iz8x1OJAjauXXLZnn/zdd0KkRlqaYJjxGB+e7rr5j1/K/oBJDwDc6sU/r20wTSpTfpW46+XhLTPcLDI0zEx8b162Tq5EnGoWepwOzU74xB0lKvtT6nDzAGrc3lwBtfFqYD2XN4TJ//qqcV3nbMj3dm1ERI+Pix38mlV12jCmm0CeM+ph354MZLFi4w0wnO0WO3MuzCEfKN5gZYsvAfc1MsX7JEKlSMlvtuu8UWMSFR8Mh7EmRIRQjVaf0HmI4ZDwxkyJygiQSffPGVPAlQmqoHHn8Qq/TDOICQeSvOuVZI1oGbFaH2994yWjaqBXn+3DmCrPTJGo5lpe+AM4yhAb97ndrHLF67erX5hNKPRIWwHMMCvHD+32Z5/MGD5hP/xVSp4oq8aN4yN4Ntp67dzHqELMGyuU8jBSgkQAIkQAIkQALFSyAp+aBEaqZ1TLlLSddXzQWkq1c9U8J0N2lZORJep43ELhkvWzcmSrPmbTQLfabEh/jL9p3bNNFVDdmdIJIelSCz5q6QM/r0ksBQrcs/S3Ky1bufoeH2/nkV3+Jt/fGrLSg4SDJg8XATjImCgoLdlub+3BW7U15Tj3eTZs3l1H6nm7ETxlRvvfyiJm7W5HI6ZvOmXkQ6wpHiFCjwk34ebyIwg4KCzDx3hHW/+/qrZlyZqHOcW7dtZ8adUYeMD8hJhcjIex95TFpqlnwIsuW/8+rL6lgboW8cqOncBb8XQgAsX9QcXxjHXnzFVYWU9u3VGMs7pZlm3EdScijpNgk53rYFxyIEebhw3PGa96GsC5V4PcMbNHT6tReeNWHi55x/WJHFyf/8o/c1I2KYserMmz1LEg+FZ0CpRSeH15iVNkGoiVMS4pH1VRO8aGdrBZlDIQg/hwc7LS1VH6RRJnu/LXP6oEGuLKJ2mf1EEjsIspGe3LGtXWw+p07+VYYMPde1LDIy72tGbIZTzI+yglfUWYndsUPOOPkkE17f9aQeGv7V0VjpEPLvFOccGhyfU67VOfKTJ/xszl/3nr1MSP1Xn37sLGKY5FmgP9xDwtzX8zcJkAAJkAAJkMCxEwgJC5G09GRVutMlOTNeAjT8288vR18zlyH+QdHS/KQB8t3iJZIVvFbmbt0o+9Wr26Nra1m1O1lmr/hHGjaqI6effZXMWrpZQqs2kIT9OyQ0PFDC1KufGRJ+RN6fY2/xiakBGek3qXfSKXBSIJwY2eA9CULeMa66++FHXMpPUw3Jh0ceThgo2UdTL/aFEHhMNcS8ZIyRMW667Oprpe/AM2Sdvo4OUxShdN167ShX+xDpibZaBR71dO7WHR+yfs0aKvGGhHf/YbyOJIWY9nnbvQ8I8h2UJUHUCV6FaJxoh94khjeLOaW8jNXzajZOAuXkO+YLIUtmG03oceV1Nx5x1PDM4mKwYeNWAcZ86TR9JUdpUOIRLo9oggcefcJYNuEhh9i2d+zSRX77dYIggyg6X8jsmX+azw6du5oMl031RtmroTkvvvmuq8OH0lyjVi1TzvkfGCGJXZWqVeX5N952rYJl8KZRV2hI/dd5lPhlSxYJQqrghcc8qbk6bx43KMLqPQnm0COJ3bOvviEXXznKFLniguGeinpcBsME5tX07nOafPvLJFMGbXJX4j1uzIUkQAIkQAIkQAIlTiAtNVMiQsJUGU2XVH2ve5h+z8zMlqyUNAkJyJEQ8ZMeZ46UiV+8onnns6V2gwhZujVOlm3YJ9Fp+6Tv/wZKVI1acsm1V0ukn9azL1b8/YIlR181FxKgb83Rz7IgTdWb/ocm3kWW+CpVq5lDwtRQeCSdr3BzHqt5pbI6opzKjnXk2PnG3tSLd8RPGDdWrrj2BpNUDfvYdWieu33lF8LoEbZ//a23u95ZPvmX8UZpr6sRmhAo9hhvY3wWFZU7zWH71q1mXXXNtk7xjgDG0K+/8JzEabJBvAo7umJF7zb04VJ4vVzNWrVdOgt0DBiocM2UdynXSjwScjz/xKMabhQkp+kcitUr/3NdD0iOgGz17q/nQIj3Lfpu81vvuc8VxuHayEe/RGsY/PQpk2XPrl2CkPnxmuwNcuGll5lPeMXfeuVltYpeJdfdfJvExx80iUUQytSpS1dTBln5x9xzp1w6fKjJGbBGWWHeOvIEYI68U5C8DgniLr/mOs38f6ZzlZmyMF0zR4IjQtIh6HSG9DlZpyxcbcLiV2pikyuuvT7Pds4ftevUNT+RLb5OvfrG+AAjhLeCcHxYfNevXSO//vyTmQf2+AP3eLs5y5EACZAACZAACZQwgezsVJ0PnyUh+sxGKHyyRgWGBoVIsEYK+ut7oVM1n05kdKQMHTpUZnzyquzYcFAz2KdJ21CRAQN6SbOWLWTN5n3iHxWt22jW9kq1JS0jWVX/UH3vfKiq/XmTY5Xw4ZRY9d169DSvEYPydpHOaU+Ijxe8Wadrjx6upHAzpk3VZF/T5I77HjSZyzvq2A6RkphGiumFcLL8NnGCTnUMMV54NNabeuHI+XfpUnnvjVdl8FlDzTlBkuRWbduaKaiop3W79iYR8Ydvv2ne7b1tyxb5QfMjDbtghIloRRk4kMZ9/628rE61YReNNNGVcJ7BmVPQu+6xLSWXAJTb9954TbO0LzEOLiSGxh+kSpWqpXZevKZFNEYgHB+MEqtWrNDo4DQz/s898vL7f7lW4pFpHa+Zg7zw5ON5roLHX3jJZTHMs6IU/ug/aIi+M/JBee/11+SxB+41oTW33nO/y6oFjzySvz189x3y4J23mbB6dN6vvfeRa+76qBtGq+UrwbyL9Oarr1AFvLJ5Z6O7kQN4ftKOGIL8Au6CLPV4lcgEnXuFeTr+fv6C9iUnJ5lX3CGMH9shgR0ElmR3Oan3yeZVf99qYhR41DGffpC+H3WSWnbxYFebgBHnttiPFSx/+uXX5I4brpOrR16onUIlOevcYSYBiLOM/Y5P5/bO5fxOAiRAAiRAAiRQ/AQCszNFdPZfkkbqBUdES5CfJreKCpfUgzs0Y/1uCYuuJAcTMuS1z36VaxpXl8B6EeKXqUp6ZFWJiY6S1bsSJKtphFTROfB7tFx6ms6tzwiQg5l1JURfVBOqSfPKgsCDfs+YR8189qfHPGSmPXbUKMqrrj8cXRq7c4ds3bzJKNnhERHSvlNnGXXjaBn37Tfm9bsYF+E1cA889pRR8sHFm3rhNb/roTHysb6THm/swevt8Banq0ff5EILxevq0TfLlAm/6Bt/HpAwHecN+t9QGXTW2a4y2Ndt6hx7/603BO+4R3g0xnbX3nSrS9F3FeYXjwRSNTrYvgHKvuHJFjxr2HCTW8D+Lk2f3Xr20uOaaRKPZ+m9HK1Ru3369XdNxUA0Cf4dIbq8rIufWjbyTpAupiP2e36aqWn79bnh2cVULas5BgI41QhDR6i6TQDhXt1BzTAaHBxiQujd19nfeCVIFZ2/5FSS7bpj+UTbojSbqp2PX1hdyHCalJikWUyrF1bU43pEAGA6Ra06dYr9WDzukAtJgARIgARIgAS8IrBn0UeqwAWZXETBgTogz9EBfJVGEpSZItvidsnc1ZmybFOaTPj2U7nzjFoytHUNScj0k+D0A7Isq65kdrhUOjapJ6mB/pJ2IEviUxPMa9Vy1DiQnZkqflp3qxYNvGpLaSmEMGPMdYcy7S4Y8yCXk7vAC4/yBc2dLqheWx9C4cM0EWF+40uUw7gNWcadYfx2e/uJfQUGBZrkyXYZP0kACS4zMzIKvE5LglLtt2eZanPu6lcS1R9TneXaE39M5Erhxug0C1N44ZUuTKrVqFFYkaNaj8QmRRGExePvaAUPszr16h3t5tyOBEiABEiABEighAhUrN1LwjQOvop/gOzZslhDgmuoYhcim3brK8oWZUt2YJAk+W1QxdxfYmPjJbF9PQlVHTUltKH41R0uIUH++m75CpKSsEdW7dwudWKqSqpmQQ/SZ39EtCa3Sz8yo3sJHcpxq9aZ0Nd9p54UeJTBq+gKk4Lqtdvauez2t6dPb8Zs3uzLU91cVrYJwHFYkKGpbB+956OjEu+ZC5eSAAmQAAmQAAmQAAmcIAKBUdU0hN5fErM0sV3Kfgmr3FHWboyXr2bHSraG1h/cs10OrF8hUdWaSlDVHAmu1laCdKb7+zM3yh+f3i01q9aS6FoxMnjwKKmq7zJPSEg0UXf+GnqL+fR1ahTNcXCCMHC3JEACJOCRwOGJwh5XcyEJkAAJkAAJkAAJkAAJHGcCIZH6arksCczJUK97uOa7CZDJyzbqK+cyBalvgvQ1cXv27pAaNSrJjrCWJnHd+NWJMnn6bKkUU03SdH1k5QYSEJwj+xIOGi+8ZOfI7v379D3yORIVXbZevXWczw53RwIkcIIJcE78CT4B3D0JkAAJkAAJkAAJkAAJkAAJkIBvEfDlOfH0xPvWtcLWkAAJkAAJkAAJkAAJkAAJkAAJkEC+BKjE54uGK0iABEiABEiABEiABEiABEiABEjAtwgwsZ1vnQ+2hgRIgARIgARIgATKPYHJ+xbLb/uWSb2wGLmmVn8JD+Ac9nJ/URAACZCAiwA98S4U/EICJEACJEACJEACJOALBH5XBT41O13WJO2Utck7faFJbAMJkAAJ+AwBKvE+cyrYEBIgARIgARIgARIgARDoH9NOQv2DpVlETWkaXpNQSIAESIAEHAQYTu+Awa8kQAIkQAIkQAIkQAInnsAZMR0FfxQSIAESIIEjCdATfyQTLiEBEiABEiABEiABEiABEiABEiABnyRAJd4nTwsbRQIkQAIkQAIkQAIkQAIkQAIkQAJHEvDLUTly8bEt8Xt+2rFVwK1JgARIgARIgARIgARIgARIgARIwAcI5NzVzwdacbgJ9MQfZsFvJEACJEACJEACJEACJEACJEACJODTBKjE+/TpYeNIgARIgARIgARIgARIgARIgARI4DABKvGHWfAbCZAACZAACZAACZAACZAACZAACfg0ASrxPn162DgSIAESIAESIAESIAESIAESIAESOEyASvxhFvxGAiRAAiRAAiRAAiRAAiRAAiRAAj5NgEq8T58eNo4ESIAESIAESIAESIAESIAESIAEDhOgEn+YBb+RAAmQAAmQAAmQAAmQAAmQAAmQgE8ToBLv06eHjSMBEiABEiABEiABEiABEiABEiCBwwSoxB9mwW8kQAIkQAIkQAIkQAIkQAIkQAIk4NMEqMT79Olh40iABEiABEiABEiABEiABEiABEjgMAEq8YdZ8BsJkAAJkAAJkAAJkAAJkAAJkAAJ+DQBKvE+fXrYOBIgARIgARIgARIgARIgARIgARI4TIBK/GEW/EYCJEACJEACJEACJEACJEACJEACPk2ASrxPnx42jgRIgARIgARIgARIgARIgARIgAQOE6ASf5gFv5EACZAACZAACZAACZAACZAACZCATxOgEu/Tp4eNIwESIAESIAESIAESIAESIAESIIHDBKjEH2bBbyRAAiRAAiRAAiRAAiRAAiRAAiTg0wSoxPv06WHjSIAESIAESIAESIAESIAESIAESOAwASrxh1nwGwmQAAmQAAmQAAmQAAmQAAmQAAn4NIFAn27dUTbu9i71pG3VSBm7ZrdMWL/XVYuffnvhtKZSOTRIvlu1SyZt3OdaVxJfKoYEyst9m+Wpel9KhszfGW/alpWTk2ddSf3o36CyjGhZw2P1Hy/fITO3HfC47kQtxPkZ1qya/Lh2t4AXhQRIgARIgARIgARIgARIgARIIJdAmVTiwwL95fI2NWWAKq/NP5wrielZ5mhHtqohUPCTMrLkoVnrS/waCA8KMO3wtKMf1cAwbPxyT6uKvOyFPk3lYj22wWOXyKJdCUds3yomIt92/LElzislPsjfTxZf1l3SsrKl82fzj9hHcS2oGh4sf1zQSVpXiZBbu9SV075ZJLuT04uretZDAiRAAiRAAiRAAiRAAiRAAqWaQJkMp39hwRZZF5citSJD5L7uDcwJilCF+plTm5jvT8zdJNsS0sz3QFVOW1SOkOCAvChQvkpYkIQ4llcIDjTLsA0Envao4ACzbTv1/OO7J9memCYN35stLT/8W27/Y63A/36uepobVwzLU9y2xblPZ4EaEcHSIDrUuci0oXvNClJd19WMCJFobVN+8vmKWGn6wZw8f99qRAIE3u8YPV4IFGnUZSXAz8+whGKNNoALlHrLCOywDRiADNZjnVNQN5bnknOuOfzdqcBjKYwPf1zYSapp3RQSIAESIAESIAESIAESIAESIAGR/DW+UkwH3uKbp62WX4d3MJ7395dtlyvb1pLaqtSv3p8sL/2zRaCYvjuwhZzXvJpAOU9W7zzC6y+ZuEJSMrPl8d6N5Db12l8+6T/59N+dhsa3Z7WRMxrGyElfLJAE9e4vv6K7xCalm+0jVYE/e9xS+Xnd4fB9izAzO0c2HUw1P1ftT5K7utUzSnJNbc/6AymmLe8MaCHnt8htC9r/9cpdcvWUlYJtoaR/eWYbl9KPuh6evV6glM8a0cV4rVH5hGHtTah+d22fJ4lNSjPGDU/rll7eXepEhchvm/YLwu9zNNR/6uY4ueH3VcZI8d+VJ5nNYBjZM/oUGT11tWkPGMFg0qhiqGkreH2lbZ26Wev5brHZpkmlMFk7qqfx4ld+faZh7d4GdwXerreKPD3ylgg/SYAESIAESIAESIAESIAEyjOBvO7nMkQCCvn4dXskVEPrvzurrdzZtb45Oij36aokv9qvmVylin1GVo6Zn34gLdPMw4ay7I1UUI+3/yEPtX7IxA17ZcOBXEXdfXt41k+qFS3nN68ub/dvYRT4PRoiPnf7QVP05b5NZVS7Wibs//vVuyVVjQiYDvDyabnz6d8b2NIozNM19P2zFTultirbqAdecfy2BoJv1Kv+okYh5Cc11LveuXpUnj8cg1NOq1dJZukc+aSMbDMdAe3an5ohbyza5ir2shpBVuxNcv2Gkr4lPk1+0fwDCM/HXP8+dSu5PPuY3w5BfgIYS9wlPwXelrOKPD3ylgg/SYAESIAESIAESIAESIAEyiuBMumJtyfz1ulrVBGNka41KphFmIcOTzMU18ta1zTK5hk/LJF/YuPVkxwmy9QbPbRpVROibuso7BNe8ybvzzEe+fzKQtmeO7JLntWvLNxq9o+2XN6mllFue3z5jyrDqdK8crisuqqHDGkcIzdNE2lyKOz+zcXbBMcwbu0eE7qPaIDn5m+WU1VhRpj9q1rn3ztyDQN5dnboxyWtawj+nBL96gyJT890Lbrut1XykSa7Qz6BKed1lHOaVpP7Zq6Xe2euk9Gd6sjWhFQzJQAbnNWkitnud2U68PvFZpoAFuA3IhbOblLV1DX8kBKPyAF3QYi9nQOPdZj/7lTW7W+ryPfROfIwgFBIgARIgARIgARIgARIgARIoDwSKLOeeJxMeKifmbfJnFd4gG/T+eiQljHhgvB3hNZDgYds0LB2KMDwS3c5pPSbFYX895d6rRFSX5DAk43wcxgV4I1GiPwTJzeWwY1idD5+uFHIkQRv8WXdZN9Np8icQwp/w+gw483+Tr3zkLFnt5XYG06WC1tUN21Hgr6iyEJNegfjgfMvPTs7TxU/a/QCBF5/SNXw3Hny5kc+/yF6wJln/4v/cpX14TpVoX6FUMMTWeZ/1WgFd7mmfW3XdAAo7H2/XZSnCH7bxHZQ5K/RyAAKCZAACZAACZAACZAACZAACZRXAmXaE4+T+ovOUX+0VyNZtifReLmxzL7ZLW8gOdbkilMhdSaZi3RL1obS6RqOX5jAYw4vOgTe8vd0Lv7V7WobT/Vri7a6Nne+Ds+1UL9gbvzMbXGagb6mmR9/gSrx52jEQIdP58vKfYfD2p3bePo+Xeep3z1jnadVrmXJGsoPgaHBW3E3BPykkQJ4I0A/Dc1HLgIIEuhleKjzu9W7jIcfZTCH3hmmj2X4DUX+9/M7qoHFT6xBA+soJEACJEACJEACJEACJEACJFDeCJR5Jd7TCV2lHngo1ghbR9K4eTvjBfO6e+i8daiu8M53rBZpNkXI+PtLt0vTSuFF8tB72i+WwShgM8gjlH7lvmSj8CIyAAn3lu5ONOuRWA+RBCg/pmdDMwWgnyqzKDf/4q4aTRAhJ9epmEeJR2h6SQvajiz6BSn5iBBAyD9C9x/WtkM+P+Sdd2+fSYr33hyzGLkAPAkU+UZaBkYXJB2kkAAJkAAJkAAJkAAJkAAJkEB5JVAulfhsdcVj3vctnevKZJ33vXR3glGKEdKO0PCDmuQOSujz+v71IY2qSPZd/YyijSR5RyMIKZ95UWej/LbX17BhP5Bf1u8RtOUTzX6P+ebzVDnHfHIYFPDaO4S0I7P+ZZrkrm5UqHTSpHQwPsCgALFTATCPHoJkd71rx5r562aB238j9F3yMFQ4BRECSIhXmGA6wl4NiYeh4G9t55hZGwrc5Iv/drrm36+NSy5wrn5+yrtzB96UcZbndxIgARIgARIgARIgARIgARIoiwSOTistAyTwvva3l2wzSvQpmhguLDBAvloZK5f+usIcHV799pAqqjv1tWxQtJfvTXTNE3cefoIjKZxzOb6nZGaZ5HX4Dq85FGhE38/efkAu1lfZ2dfRYa482gIFfUjjKkZhR2j9iAn/mmVXTFopmM+OZHN4JR4S0d2kWfYX6TIIQvTXqKKMV8Rd7Ja4DusR2g7BK/Z6azucf8iyD/F0HHY7rEeEwj0aig9lHhnuT9e2oL35yTR9PR3mwUM8JbTLbzsuJwESIAESIAESIAESIAESIAESyJ+An74P3PvJz/nXk2eN3/OaUr2UCELa4V1G8jlPIeIIHQ9XBd+Zwb2kDg3h4njdWpy2xdP88UqhgaYt2xPTPDYhRo8D4eaeXuPmcYOjWBgAXprsbm9yhstA4amadhpxMP+SrmY6AELhNx5M8VTM47JpF3SSvjqfHpEImEJAIQESIAESIAESIAESIAESIIETRSBHI7N9ScplOL3zBMDLbrOfO5fb71Dsj4cCj/3BmlJQW+JSMyVODr8OzrbRflrPt/1dEp94B/yuQrLxTxreQfC+ecznx7SFoijwaDMV95I4c6yTBEiABEiABEgn12S5AABAAElEQVSABEiABEigLBAo90p8WTiJvnYMUZp8D6H+c7YflMfmbPS15rE9JEACJEACJEACJEACJEACJFBqCVCJL7Wnzncb3vurhb7bOLaMBEiABEiABEiABEiABEiABEoxgXKb2K4UnzM2nQRIgARIgARIgARIgARIgARIoJwSoBJfTk88D5sESIAESIAESIAESIAESIAESKD0EaASX/rOGVtMAiRAAiRAAiRAAiRAAiRAAiRQTglQiS+nJ56HTQIkQAIkQAIkQAIkQAIkQAIkUPoIUIkvfeeMLSYBEiABEiABEiABEiABEiABEiinBKjEl9MTz8MmARIgARIgARIgARIgARIgARIofQSoxJe+c8YWkwAJkAAJkAAJkAAJkAAJkAAJlFMCVOLL6YnnYZMACZAACZAACZAACZAACZAACZQ+AlTiS985Y4tJgARIgARIgARIgARIgARIgATKKQEq8eX0xPOwSYAESIAESIAESIAESIAESIAESh+BwNLXZLaYBEiABEiABEiABEiABEggPwJtq0bKrZ3ryql1K0pYYEB+xYptea3IkGKrixWJJGdmyW8b98vjczfKol0JREICRxCgEn8EEi4gARIgARIgARIgARIggdJJAAr8uKFtj4vyXjoJ+X6rw9XwMrRpVRnQoLKc/PVCKvK+f8qOewsZTn/ckXOHJEACJEACJEACJEACJFAyBG7rUpcKfMmgPe61hgcFyMM9Gx73/XKHvk+ASrzvnyO2kARIgARIgARIgARIgAS8InBKnYpelWOh0kGgv3rjKSTgToBKvDsR/iYBEiABEiABEiABEiCBUkrgeMyBL6VoSmWzEVpPIQF3AlTi3YnwNwmQAAmQAAmQAAmQAAmQAAmQAAn4KAEq8T56YtgsEiABEiABEiABEiABEiABEiABEnAnQCXenQh/kwAJkAAJkAAJkAAJkAAJkAAJkICPEqAS76Mnhs0iARIgARIgARIgARIgARIgARIgAXcCVOLdifA3CZAACZAACZAACZAACZRTAgkZIsv25Uhsck45JcDDJgHfJxDo+01kC0mABEiABEiABEiABEiABI6FwOoDORITKlIl1C/faj5elSUf6l9mdm6Rk6r7y4im/vLXzhw5r7G/1IvMf9t8K+UKEiCBYidAJb7YkbJCEiABEiABEiABEiABEvAtAj9vypYZO7LluR6B0qrSkcr4xM3Z8u5/WXka/feubMHfxc0CZFNCzlEp8Tt27JB169blqdf5o1atWtKkSRPnIp/8npWVJXPmzJHatWtLo0aNPLZxxYoVMn78eLnyyiulRo0aHsvYhSkpKbJgwQKpWbOmNG3a1C7mJwl4RYBKvFeYWIgESIAESKC8EQgPCpAI/duTnF7eDp3HW8IE/P38pFp4kOxLyZCMbIYslzBuVn+IwN7UHMHftTMy5N6OgTKkft5ZtT9uzKvAO8H9tjVbzml4dGoDFN9PP/3UWV2e72eeeeZxV+JnzpwpixYtkuuuu05CQzU8wYN88MEHUrFiRRk+fLhZm5iYKM8995ycc845+Srxy5cvl7lz50qfPn0KVeL37t0rzz//vAwYMIBKvAf+XFQwgaO7Gwuu84SvvblTXelYPUoemrVetiWk5WnPc6c2karhwXLfzHUSm+TbA7MnTm4smw6myAfLduQ5hqP90a1mBfnpnHby9uLt8vjcjUdbjRRXPUfdAB/ZcGDDGLmwRXW5ctJ/kt8Q7NS6leSS1jWkYXSYLNmdIG8s2iYb9ZzmJ8ObV5P/Na4idaJCZfGuBHl36XZZG5fsKg67+Q0d68jp9StLoL+fzNgaJ68s3Kphb7ktiAwOkNf7NXeVt19Q12uLttqfcoG2e3CjGLOf5XsS5dl5m2VnUt575ewmVWVYs2pSMzJYFmF73c/2xLxlXBUew5fOeq+O1nv27hnrPCpLD/ZoqMdcW4aOWybzd8YXuKewQH95vk9T+XXDXv3bV2BZrPSla7kox1nogbHAMRHAffbBGS3lsjY1JUCVrYsnrpAv/4s9pjrLysa8To/9TJ6n/TyurwrBgfLzur1y9rilR1RaWF/v3OCOrvWkTZVI5yLX95unrZaE9CypGBIoV7evLafWrSg5+riYunm/eR5l4cchidYy95/UQI0LwXL7H2skLjXTrnJ9DtLn3vn6/PgnNl7eXLzNtdz5xZsyzvLO7w2iQ+VMfQbiGQdBn/+F3ntb4lOdxY779561o2Xs2e3Mc/TpvzcVun/7XHtl4RZZujvRY3lcB4MbVZHbpq+RA2lHsva40TEu7FhFxw06pMzQUPnHF2bKTxv95KwGAdK9up9UDfPTOfD57+DODgFSOwJXZtFl0KBB0qtXL7MhlNzXX39dRo4cKaeeeqpZFhERUfRKj3GLVatWybRp04zHPD8lHop+3bp1XUq8N7u88MILpX///hITE1No8YCAAFPGfha6AQuQgINAmVTiA1S5uVwHXxjQX/jLv67DHdGyhtzVrb78qYqPryvwaPR93evL5ytii02Jx4AhJjRIFbcQF5Oj+VJc9RzNvn1pm2HNqprrbNTkleIcCNk2YiDy49B2opej7FZPXt96leSiltWl55f/qHHmyAEJBmIvqAKKIdVBfaCjPK7jHlreKvLv68Dvqra1JFEHZdgn9nFynUquQSCMBdgG65MzD1vUoYhYGdOzoTzSq5HZHro/9gNDQ5uP5rkUeRjCXu3XTNKzsiUtK8cMqHD/dP18frHfO2fooBBthmFpj4cBRC01IuC6xSC0MIHx40Y1cmxNSPVKifela7kox1kYh/K8/jW9bmF8qv32rKPG0L5alFyp99mq/UlGyfp90/6jrqusbcjr9NjP6FMnN5Egf3+jEE5cv9djhYX19c6N0De7P9ehiEPuUeMonimTz+so3dWQj+cG+n08O/rWq+x6dsCo+97AllI7Mnd88KoabeNSE0wd9r9KoYHy8aBWUj0iWCI1QsWTEu9NGVuf+2fbqpEya0RnY9xAOxGtAGPybV3qybCflsnMbQfcNym234X1G3hWVNbjrxXh3fip/qFn8Q+rd+erxA9okPvse2HB5uOmxPes4S/Tt2ebpHWAt3x/jv7lGhDC9BGrQ4d85WgVeFQIJd0q6tu2bTP7gIcbYeSQH374QWbPni0PPvigUX537txpPN4IMb/hhhvylLn//vulatWqsmzZMvntt99k7dq1Uq9ePYE3v3379qYs/tu/f7+MGzdOlixZIuHh4dKtWzc599xzxU+vq48++kj+/PNPU/aBBx6Q7t27y8UXX2x+4z+Ezd95551y4MABSU1Nldtuu02uuuoqo9BjfXZ2tqkDnvw6derIGWecIR06dMAqcxw4nptvvlkaNmwou3btks8++0zWr18vVapUkc6dO8vQoUNNOwIDc8c19tNUwP9IwEsCeeNovNzI14vBYwjLJ7yNp6mCAoGH8vk+TYxScv1vq12HgAcOFB93gcLgrjRUCQsy9aAsVCL8xmf9CqHSrFI4FnsUhGO2qBxhPDrOArB6w9DglMqqrARB63MIFLDmlcNNWKdjsfmKOkK1DtSDNji3bFIpTBAOagWW9zrvzJbb/lhrF5nPmvpQqqvKjyfx1Pb86oFnGMfp3n4nKzDFw9Ab8bRv53aop5YOOJzH7Fxf0LkFN3DFoAGRGVZwDC1jIlzn2S63n+DZukqEhATkPW92vfPz6VMaS5aOlnp/tVBqvTXLWNvB+o4u9Z3FXN+v71BHFeZsafr+HKn82gx54K/1EqPXGLz9kFbaLijw8IrXevsvqf7mX/LHljg5q0kVOaVORVMG1yLkxqmrzXqUwd+lv64wy3HcD6sSD69GE91P8IvT5Sb11OC6e7R3Q1MGXJ/UKJA1GgHQ4F1ty+sz5KV/tphBIhSbwiRY2aDdVsAZ9wrOpxV8xzIM0pyC9sET45TRU9dIo/fmqOcozrnYXEcFnX+cSwxI8Zmf5HctF3RPuNcVpX0Lzg3a4hTs1fYR3lz37sdZlHsb+8U+sA32iz7NeQ6w3tkeT30Wtsc94xQcG/6cgnsAx+WU/O4bZ5uaav/kvAZw34FzfoLrwH298xg8MUVfCOUF5wJtRL9fkHjqI3BNdqiW69WEkgKvG4xw7oL6ca07BfW5M/S0D2yD9uPPKc42W3ae+im7jZMHznejikc+y+x1hPu6k0a9OPtntA3nxXmPuN+/2Je9h7HO/Tq1bTna47TbF9bf23L4LKzsiXg2ONuH72Dq/jzEMpxjPJtnbz8gj8/ZqNFURyqm3vT1zv11/mx+nv7+pC/+MSH6GAdhKgg8vlDgv1m1S0Jf+kOiX/1TflPDFJ4d/RtUNmOIicM6GK6IGMtPnju1qVHg81uP5d6U8bQ9nkETh7U3/fqt6pmuqM9APLvGzN5gmH0yuJVrDFXUa9ruD9d+Y71H3K95b/qNyRv3SV0dP92jUZxO8XSenevxHX0oxnC4X51iI+j0sX/c5O0VWbL2IMw6R0qK6vJqs/coaHvdo/TCe6zQbSHmjmPOPBRuyOLFi83vP/74QzIzc40MM2bMMEo1FHjMO3/kkUdMmbZt28rq1avNb7t9cnKyjBkzRiZPniyNGzeWjIwM+eSTT+S9994z9cO7jnogLVu2NEYA8+PQf1D0W7duLcHBwRIWFma+R0VFuYpMmjRJ/vrrLxMuP3/+fHnssccE+4QcPHjQtAvKf44ao+6++25ZuHChUd5RFwwIEyZMMGX91ZgHsZ/mB/8jAS8J5B1BeLmRrxeDBfe631fJnJFdTGhxh0/nycMakouB3VM6IIN3pZ4qO9/8r40Jp8UAZbMqNVCabMjknxd2NhZrPByt7Bl9iny0fIdcpZ7X69Xb9+bpzeW/fUlmAP/3joPGY2rL4hMDjQ/Vc4oHKAaGCE17VUOrHtUHN9qy6dpeJuQfocwQPEx/U2v5oB+WCB4YkJNVOds9+mSjZMEr+ota7UdOWGGUPVvHOlW2MHiDYrlLpwjcr8cBJayGWsvj0zPlxQVb5DEP+2ynCux3Z7U1DxfsC95eeJVh7S5K23Fsb/VvLvAG4GEFLzAGC9f9tsowtKxQby8NScvQpwQUUSiangYMBe0b7cS5+/rMNtK9VgXzUAfX0VrXVytzw129ObdQEDAPEQOqO9SogZB0nM8RraqbQQSeYx/qNIYb9DpCOTz8Px/SWoY2rWo4w1O+J1nfwZKPYBCG8EZEUuDagMCzAY/CBS2qGcXZfVMMYqAsrD+QG24/71DoeGVtIwTXEeQRHdQgPBKCcz1Xr3MYrMDXKsBQ0qEk7df5lrgfrGAgh/P19pLtrmgAhPjf1bW+hlnmGryGNa9qlJ8HJq837cGA6aFZG8y52nCobbY+T59v67UAZR+GC4Tow+ODaRwTNcT9zLG5YaNjz25rrveY12e6qvh8cGs5Sc8p2rdQrw8M5GbpMV3XobY5N43V6ID9F3b+USGuxQdPamiOA/cEjBDPzc+9z1w71C/2HsLUG9yHBd0Tzu3wHdcEPFeIYkAfAvlL23vWj0uNV6Wo173zOFM1LTD6B2/vbewbfVYVnWObonGSUBKy9bzP1Wtv2Pjlpl+w7XHvs3DtPHNKE9NfBAf4yYLYBLlII5jQJ268ppe5Blp99Dd2YeR77TPgtcP53aXXa0H3DdqEfgjXIFijD3t87iZjXEUECNo4TY0z545fZvoN7OD85tqeUxu7jKu4FkZO+FdW70929bv59SW/a//Z+5BBC/31h9pfo09zl4L6iDs1IuZZnXYFwdSUl05rJuEv60AS7stDYvtq9KtQMiBQYmNvOFmW702SLvrcKGgfKF/YMwbr3fspXMdOsecUxjxrsMZ5Qwg1wrTt9b1Dp8FYg1Y9VURwubr3oTDm4fn3xunN5Op2taXtx/Pk3725YcC4xuGBvWXaGsnUc4Zz7rwfj+VZWlh/7zzewsoW1jd4c07cmRf2bHC2D98Leh6if1l4aTezCcLFcY16mqrhTV/vvl/n7wd7NDD906NzNhgvfK/auUbe+2euN9cxrmX0eQN0zAEDMO5BHOfz2kei7+6gkSjugnJXtaslk3Rs0vtQfUdTxn0b+xth/nAmoA14VkIwlsA91qVGBTPNrIeOH/AMQN9YlGsadWFqDCLd8MyH4LlwgfZzmJLmTb8Bw+j6a3qaqZh4VhR0np3P3Md6NzJGQZSHQQX93+uHprbZcpk5x0+LH1zPX/5QT3xRpbZmpC/EJlrUKvOU79ixoyCkfOnSpdKvXz+jzCPEHYowwt7h7d60aZPxeGPDzz//3MxVf/HFF42HHwniLrnkEpkyZYrxiE+fPt2Uh3KNuiFPP/20UeqRcA7h7hs3bpQNGzYYD3yFChVMGfsflOpRo0YJwumxb3yHQEGHIKoA8+XRZhgK3nzzTYEy36dPH7Pe/gcvPCICTjvtNLn66qvNYoTwI5EfxHrg7adZyP9IwEsCuSYgLwuXpmJQnN7X+cTwmmLAcasqT5iL/ISG7MLqOml4B1UYouXj5TvNMgzIMUiB0uyNVDrkQamnD513VCFyzje221/auqZRrhCKicHPBt0/wpjxgMRgBPt0ivXKHB4qilHOofRCAYGCgDDR13WQBbF1wHP8/tId5lgQ5gbDAebS4+GHh+C93RuYsra83ecrfZsZBf6ZeZvkQVUGsS1C+CBFaftTajC4VufaYW416lmslvxR+rB/TiMfIJZVT+X9lnq2YIjA/LLRneqY9e7/FbRvnDtY67H9TPVg4GGaqWFNnw9pZSIivD23UEyRUAgK8bdqcHhcH7RQohaqAoNlK9U4g2O4W6dfQF5WVlB2oBRhnwhVh6KUn2CwCJm+5XAYLs4rBttQrtFOd8E8bgxicB3ep/MSXzqtqSky4VC45eE6D3ukcZ0nZ2QZhQGF61fIbdMfF3aS3TeeLHtvOsXMvbTXWvwh5d9ea9gGbQGPBtpmDDQaV8yNKsHc/P03nyL7tI5/LukqB9RYMnt77gMM2+Unf+/Inbc+sGHunEaEy0P6qJEAnjxEjcBggHLOeYA4p5+p0WPsmt3GYwhlCmKvH3wv7PyjDASD5WnKHgNCKCwYSLl7lFGuKPcEyjsF1wamASxRbxdCVnGe0H/c0rmuKWbb7e11b8tjY9sub+9t2y4oashhAA8yDGkYvP+kUzogtn5nn9VD78nP1MMFri+qgoj8G11rRJn+EcsQqYA2tD/kmYa3Fwos5qnCQFPYfYP9ol9ZpwNvTJdI1GsV27TWOtHvwAuJ+obovFAIjEy4l3Gd4D5EX9FR9/21GlxxbdpjyI/pE2qkheEHxgEoR+jv3QXHVVD/Dw8lDJ+Qr1fukis054VDfzfLcR+gb71Qp8dYObdpNdPur9WYWNg+7DaFfbr3U+7lLQ8o8MgBgecEtvlKjZzwAtvrCJEXOK5r1bC6LzVDJpzb3hjM0B/DiId7BP0OnpeTN+b2Wc5ju0iNYui/xq/b4zoHaEtxHGdB/b378RZUFm05Ec8G9zYW9DzENCpclzAM4zsM8j9qf+cu3vT17tvY3/A0gxMM5D+t3WMWw+gMQTi4FRjXIOjvcb9gXjYUY08CB8G7A1uYZw0M257EmzKetrPLoKhDcM+5Cwyjfs9PM/f20VzTMKp/oAZXGFuf1D4C9wmM4xgbQrzpN+Bxd47YCjrPzvYj+gWGUew3WY2zmKaGfDoQaxg8np74k2v6y6NdMbXSeTTOFnv+PrTBkWMWzyWPbimUYnjEocQjlB2h8giPRxg8vOtYDunatasJZUdoOkLa3377bXnhhReMEg2vORR+yJo1a8zn1KlTzXqUiY2NNV59KO7HKl26dDEKPOpp1y73Gbt1a67xyVk3IgwaNGggiCi4/fbbjfEBUQA4VoidC28/ndvyOwkURuBwj15YyVK4/j61Op+jntNrVMGEwFubop0oBtro1GENvVmVawgGQPDcw4MHZdlbuVdDqzzNC8P29Srkhoqibuzru9W7jOcfHm94SLwRPFzbfPy37FWFEwPbhZd2NcrktVMOP0i/1zlX8KJAetWJlib6EIf3DQ9keOJhfYYVHQNpp2CgAB7wVq2LS1GlJ871kCpK22Hhhve4//eLzUMe3qIll3eXy3QgAS+3FXiNoVRBVo/qIUN1rtso8eQly58bHvTwcH/67065XAfXECjKl7epZQaUXXW9N+cWD8++3y5yDVquaFvTGB8G6jFggIVj2H3jKer9rm4evghpRwQHoiTgJYUCAi8KHuyeBIoLBOfNKfZ3dVXk4TFzCgxBI1vVMIqhXY5wSIRdQmpo6DH2naSKkFNQp90f2gPlAtvA44qkOQjB18tIrp6y0iQjwjVxW5e65pzhmB5QgwEG/hAo2HZOJAaCMEAlaHko4j+o97yXTg1AQqOCBMosBvzY5hM9T1aZx+CrtyrqGOxhwP3z+twBpq0L9yu4QmaP6CIDdb6g+3STws6/VbYQ6YFEeBDcBzDCDGpYxdyDZmE+/xV0T7hv8rEeG9hDWcYg+QcdjCPqAPOpneLtde/cxn739t6Gd8zKYL1G4amGhCrrc9XwZ5UCLHP2WZgHin7l/J+Xu/o9KNq3q9ETCjXuMxivLmpRQ6corZPhWhcMQp+u2ImqpLD7BmVgZMJ9g08o4rjeMKBFnwjlcqN61XCuYUwbodd/kLZnwHeLzfWL7cepEQIRMFBOrOTHdIpyGKGKNTx2NqrKbmM/C+sjrlclBfOLkaPie+2zxx1ShOz2+MSx4HzDiINBOq435LuAZw37LWwf3j5j3PspZxuc36GI22cA2gLP+JmNY1Tpzp1vDW/jkLFLzCaIVMA0IkQQwNALgXHyyzNbm/nHL6gBY78q+ujzYJSF0bFf/UrGY+neZxXHcRb0rDGNc/xXUNnC+gZv2+rO3Jtr3NFE4/Et6HmI6+N9VSjB3EaPObfHd2/6evdt7O+HNOoQzwFE/KEfhkxXTzvuaUST3aRjHhg03x3Qwqyzfb/5kc9/MCrDKHTnn2tdEVzuRb0p476N8zeuScgKfW5ZQV8R5Zh+95MakWB8hxTlmoZR7iKN5tmshpMF+vwCn34aCQEDIfo/b/oN2yb76e24Z5oaQk/X/gyC+fGLLuum0UbVzD5dnnj74LKVl/Bn4wo6ZUgT3E3bZq+QgncYqcEL5zQseGpSwTV4txZz1hFqDi96UlKSmcO+fft2o8Tv27fPhLZjzjtC49PT042C71R+oeDbsHRsD8F6hMZDoEzjrzi83s5EeM42mB25/Yfs87/88ovMmzdPfvzxR/nuu+/ksssuM8ny7Lb2021T/iSBAgmUaSUeA5F7VTGAZxoeBJut2lp8v9MO1QoeqEiG1UW9UEWRKZsOD57dt/t21W7z4ITl9c5u9WTqpjhV+LceoYS5b+f8vUpDSK3ih1DUSWoQQHI+59xHeL6tIIwa8wGtRR0hqBAoTe7yuQ7EERmwZlRPMwhFCP+LmmAF4m3bofDBoo8BOQa2EBgGoMghwRgGgFacCXxmbztoFAB0re6PkYL2jYEYBB46K/Aw4Q8CpRVS2LldrmGilpHxXqqCjPm3a6/uabbHf2DWVL3t8I7DA4kMuVCiIfAgYzAAT6YngSINgeLqFPvbhsPbdRhIIeQcD/WXdMCB8waFHh6253UeIgboUKZDtE3wJtiHP7ZHnbY+eFPwZwUDOYRvnq8h/JjegAHqcDXw/HxOew0Fzx3EwVCEv2QNw4aBAOcEAqMCIkggUAQRAo9kfoUp8fDQLlBPLTys8OIiDBFGEUwlQCKf8KDcaxHhvk75We9RK7PUCAHPvHMAh3WFnX/MdYTkrSs3eqCqhpoXJgXdE+7b4r6scOi8Yb4jBt4QGCmc4u1179zGfi/qvY3zOEf7MitQ4nDuoGhacfZZ6AuR5NOpVMJwgAE/1uFaxHoo8lD+4Z1FP/SNessKu2/s/lar0dL2DTbDtD0uKIW4p2z/1KV6BXP9/aqRUlZsngdn3pFjYVpc/f9n2n9CiYeXGn1JH71Xp2zcb3hhGaSwfsgeY36fzn4qvzJYPmNbnGu1vfbxhharxE851D+iUJdD1wIUJIROQ2y/BMb2/OItGLjfuqoxB30OjtddioNlQf29+/4KKltY31ASzwb39nnzPPTmdYXe9PXu+8Zv9H8X69QH3F/jHcYnTGVCf46EpVPP72g2tc8/hJUXJOjDkWQXxqFX/jnS04htvSlT0D6wbuehKICaOp6wxiK8rcUZ2o/liA6CFOWaRq4Z9EH36HG0rxplHCxQ3iFQ6A89rs1vb/7z5jzbepx9K6Ij0Afi3oTgeQxxPs/NghL+r3G0nzp4vN/J5c3xqk3vyx9tSXi3ocR/8cUXJly9efPm0qlTJ+Nthxcdc99DQnKfs0hkFxcXZ5LHWQUY8+RtRngkxEN4O0LzbbI7GAQQdl+/fv08TYRRoCApbH1B28KYgKgBtOO8884zofVIeDdx4kSjxCPSAMeLufIUEigqgTKtxAPGwl25XkOESRdV0LlbsYMc+9t+FmRARYfd7IO5JrwWWWBh0R+pc66RndyGNSNDrRWrBNjfnj6ReR/iVHwxcD8agYKHAf8V6sWGsohB3bnq8Wqt81+9aXth+4QyY8O4UTZVH6RWCnpoFbRvuz0GlcciTmS2KigrNnTd1o1yOYdou+/TeX3Y8vbTvooN4alOwW8oLTAwOQW5AmBEQBIteBkh8HZu0Dl4dg496sRRY8Bk56rCgIKwwO1ur1I0Feh/8BDjbQzwxsMbiyklmP/Y8L3ZxhOB6/pPjcD4Sj13Ntx8kw4yIOPWHFaqEeoPsd4S86OA/6BI4BWJ8ApBMG0FIfTwymOfiPzAlAWnOK+Pwq5p93PhrAffi1KXc9uC7gn3uwzTHWCowqAMBsI1anixc6mddTrbUtB179zGfi+Mgy1nP3XmjfF22x7CdmHOegrqs2w99hPthecQXmlM5UFED0J0cf3abNj53Te2Due9Zpfl92nbC2OlOytc/zbh3LEwzW/fRV2O+wbnHvfnNjUA56foFlSvsw/x9Izxlp2/y/Smnif7jHBcsM7zj2gICIyQmAriFPu8RN8DJR7RBVCOTeSBw+jt3Mab7wUdZ0H9PfIhOKWgsrZcYX2DLZffp5N5Yc+G/OrwtNz9eeipjF12NH09tkXSUhz/o7MPe+GxHGf8tulrzXQZ3MPIZbFRo+f+UQPv9sS8EWEo7xRMf4HCi8sKr8WD4FmBpHgvah9495/rzBSZwsq438/OfeA7rkdETcJ4a5X4jp/ON8UwdQl96+b4w9GERbmmMZVrgibuw7N3kj7LvlkVa4xvzuge9/Yc7e/CzjM42j4YiW8hVpk/2n0WdTtcD091D5TJW7Lk1y3ZsjLO0Vm4VfY/DaO/uFleZ4RbkWL7iTDz6tWrm2zueB0dvOpQ4hE2j7no8LRbwZz2999/Xx599FEz33zLli0mw/3AgQNl9OjR0rt3b5OZ/o033pDBgwdLZGSkyRCPkPvXXnvNeONtYju8v36Avqe9TZs2tnrXJ8og+/3YsWPNfqzBwFWgkC/Ibo8EfE2aNJFhw4YJsu7Hx8e7Mtmj3XfddZeZo2/n3RdSJVeTgIvAYQ3Stajsf8HDAnKBhkpbwYMDHle7Dt7ENqpw2XljmB9cVMFD7pJDIeVIrof3YONBhzBjWOPRcZ+uYYpW+mhiF3eBwmZDpRFajHBdeIG9STDmXpfzNwaMmLsLT+cIDTOr984smaPzPLG/JmrNL6jtznow2MAgHnNa7SAU2avBC55Ka+13blPY94L2vfDQuUMZK9g3km2h7fb8FXRu7Xb2c5sqwPBGIKnX7Rr+j2kXmGaByIxJG/fqAD3NnC8k87LHCM883gObn0DJRtj6Ja1qujJkQwFGKCuiPiAwcNjs23a2ndOQg/MND70NBcP5geCd6Vau04z2eCDP2ZEbPo0w2qRb+5gwZZTBgKKbDsLhqcfxYKpB1p19TUI2KGfvad4ITO3AsVjvplWubRg86rFerH/35FW8sc6T/HwoUgJKAPiBByI94FWBt8g9lN5THZ6WFXb+PW3j7bLC7gn3ejAtB17L5h/ONcnTEF59ogXXlDOvB6aDQBbvyqus2XbifkEfh4G9FYR6QmzEhQ2dx3QKKID2d2H3ja2vKJ//HDK2wgiE+xB/mNKxQpPFrTuQG1XkTX1oJ659T3I0fYSnejDsRXQOnhvIL4J+GRFfEG/2URzPGLMz/a+v4zmCKQ8QeE49iT2va/anuBgjUgaeUNvHIOcBptogegZ91o9quLHRPs46i+M4C+rvnfvC94LKFtY3eNNW9/0V9RovruehPQ8F9fVIhGoNr2g3ooHQ3+K82+vQHs9Dqtyj32+vzyBM/0NYt43CmKgGs4IEUWVIuIrnBJ6B+MO1j7+LNVoM/aY3ZbAP3Ct4XnkSHDMU81f1XnIq19gGb27BuvxyshR2TcNIjv0ivwWmGo5RI4e7IR1tKqjfcLa5KOe576H33WN75GHC8Sw+dG++qtERp3y90BVt6dxHSX+PUBdeeKCf7C3AhtNb58/f27HkfH12bOM8VoTUQ/AaNki1atVcr3VzKvFnnXWWSUgHJfill14yCe2QVO6aa64x2yEZ3UMPPWRC7j/++GN56623TIK6e++91/WqOySbg7cf89XxSjhPgnfZw0uOzPZ4nZwVG7aP3+7H4fxdu3Ztufbaa43i/sQTT5hIg1atWsmNN95oqsL8f2TfPxZvv20TP8sfgZK7O32YJTp8KBU3amI1vIIIIcTnapgw5kJDsYHA2wRle+7IrmZ+McK6iipQfJDwrWVMuCzTpG944EH+1QEpBnyY04V5WX9qEjIo9PjuLnjwTBne0cy7xcMT4Y7/b+9MoOwoygVckIQ9koRVFiFARBBkB5H1EBRQlofKLptPHiI+ARFUQEEEFVQCwhEFhCMSQA4qoCyyyRL2LRIgKEJANlkTSNgSIK+/0prX0+m7ZGbuzL0933/OTN/bt7u6+qte6l/qrzMnPlPcrEff8a7REeDFjgJL8io6aniX+K1W3YsHOy8bU894OML0eMkSYo6ilsa/F7dv9L0et7uztiOBHqHmZBHmeHiZyQx9eDZeD09zo7YtO/55Dz0XEwBO2n+jbBzsi2HNbNw9HUaS7OBlvTBbYvRg9gA821wbyaNVVh6dGrLb0wkmyzRj1Olc056nZjMUIEzps3UWcj42G5tPmVHpz0IhMdqQN4HMwQyNINkYQseMZEh0aGg3rlc4MEYQZQLh2ib0+fpd182GHLyUeTX+Pf4VTzjXGOPkubYZY/ynLEEg7Y0RhCEQKbcDiZaYXo6EiHjvSWhH2DAKa1JUyTWBpx0li2R9RaGNqCttlGZawANydHadIMVQ+riyiX+N2r+W4tZE0XGTevdEsQxYkkCPceVPv/5OHAtb3GYgvpOo7oyso07YNM8MEr1hwCmTC7PrhvucWSpIKLjg0CFhvyxiCENOmh2BtsQDigEG4yNe8iSN7pu0XbNLxgj/z1rLxER25BDh2uO+ezVb8r0ZISqF+4zxvzzPiwpNM8//Zo7DNoSYH/Wfa/qSbEx/Gm7TzDH64h2T6kkbcg/j2cObyX2dH3KUtmPJPYRRZN81ls4Us/miUZFcBLxbuKbTECySTJK8CykLpWd9X5xnvec9x8hLvW0bPRta9W7I14/PffE+bPSs5x3xVJZLgplZljtzQoxa6fLCZxnpi8KznWfbGVkit80zZ8HI+YcF+jS8l9LsKcV90veUeyZ9Z/n6IVvGMd27ZLk0kGa2IVEsuQBIpsjMNEXh2iOHDvlLiBC4PjPekUCWfBmcL+PaiSxjCsmiNLqmJ/9nWOGh2bOE4V2bZrmD0vCLVFaj50baLi2bbWcMpDyLSDaM4QRjBPk/kHO3XT0+o8nFk4YEpvJbsXwzy2942ZT3wi3Pvx+mvD47vFYjpH6ZbCq5g9cYEsYuW24I7W3dUMYZI14mKOFJEU+/o4CXyW677Rb4I/v7yJEj51Cm8ayfdtppcXw9HvT8OHbKY556Et4R8o6HvkyIBBg/fnyYPn16YIo5FPRi3TE05Ndtt912gb8kRAfwR/g/4fNpSAC/jx49Olx88cVh2LB+GK+QKuSyMgQqr8Snsckka0pCR4tES+OzDL5YrhEs7nvf+HBUCvmOIkdmZ6Z6QeGhE7NXNs6xzBvB9mVCmNlK2QuDMFQS5tHJIitqCtkmdJdOM2HGHB/lifGrecGqTtgqc45Tb5JoHZqFxdWSdL7F34v1xnCx/9WTo9Wblz+CdfmAbDomxo/Vq3t+PD77MTUfHn0USizNGCgwNJCPoJbQHsUEbWnbescmJG/7LFMtL0USbzEmk3PbPZsqBuMD0qhtGW9YDO1j6h08CrQTiiZ1o5N94LWTY5kk9MH7TlsStYEyk5/WKW5U+EfGcsZMc93g6cbyj9KbFFgYvJX9wZvjbTL+vnDudqtF5X27TPl6PeOIpzwlX4yGnkvuj1EHu2aKOooKyhbnntr9lGzM4lJZWD6KEDMycK4o8Ok8qCLGDo63U5ZYECMWSZjwUKSp7TAOkBTu3Cx0Eh4ISv0R2X502hGSt+HVT0pLXFn4hxHhf7MxmCnpGtno6XQyPCEl6yvs0vWVNuV8i+XzvV77pzHxXQXNxQeY1LsnikWRPZ2x5kzHheC5pIM2Y9a/M0EXt+d7veu+bPv8utTG+XV8zt/bRL9w/x2TXcPkT8A4tOsVDxV36fqOok62bJQ1wqdhflum9LMujWNnYxLcrb3V8HBR9vzh+kjS6L4pu9fSvmk5I7tGkxClsuefHo5TZHLfMFb+gSzkm+kGU0KrtG1aFpme9eCzYYfMAMezm0iWohLPNdToGZEvO30uW6LwknwSA2iKUGC7Zo7R6B3TDLtUJwzCGDt4njyfRRUxxRyGwLL7gbpte+kD8RnKMCoyZfP+YRhPPonfBZkSf0IWSk15DMEpk744z3rP++Ix6207UO+GYh2bfR/We040etZjrOS+55nF3YgRm0SE9BfS+yVfL+6dfa58JCryPNOJ2MG4ShRefwn9H96B1LmWMM0d50Mdd84cK0yXSb+E8fxMD1xLGl3T8MJASK4K+ig82wjZT/k2KLfRc6N47EbtzP2LcE/Rz2SYA9E3GDDSuH6uAfoS1L8/ZKGsx7/HmCFh+Wy6uOufeT88PWN2eOaN2QFVfXSW7G6lD8wbVh0xT9gum4buP6lr+qNavT7GqFFzOsDyhZL5vp40+h3FvTgFXb3yav2GoaFMVODLqLiuGQLzzM6kmQ3nZhumAukUQXFjvF6agqVYb5ScmdlAU7yQPRXCouN8vZlnsqg8UiZe1bLQrnQ8Hv4ozoy75EXY14JlO0MQw+KLZTeqe3576sk81S9n86eXnWd+22Y+Nzo2bcfLuRa7Rm1bVgcU4yUzqz/KZlmbo1TgHUdZQmFrRhhCgTLxcvayzu/BsRi/SoctL5w3QxKY4737L/+/FZ02eFOPMiFKgOmEOI9abcExCMesl9iI45C3gXDKvBC2v2NmBBh1+s391gHJH5/Pjdq/uP3cfK93TxTLwUsUO2hZZ7NWexX3acX3iftuFNt6vWyOcuZC5rlFdEezwrSDXIpzs08qu9F9k7abmyXPXrjWejY3KgujG531es/Mnjwj8sflvn48S4bJfTbmnNvzP3V9bnSM3rxjMDgSEcOc7Rj9MLDMDS+eAQtlz5taz5Guk2jiQ2/Ps9HzPl+FRts2ejY0qmv+WOnz3F7jffU+rPWsT5Fgzb6H0nnADqUkb6RLv7V6SV+r+L6rdUzaiOfp3Naz3jXN/co776Wsj4LxvExqPTcweN2427rRoJjmsWf/ZtqZY/JOYRhk8R3B/rXe0WX1a3bdswdt2uymfbZds7Mu9dkBB1lBnaRbVbVpZh8xtq1OrfKe+Ea061mF2beW96tRufnf6UQmL2d+ffpcSwlNv/OAx6vSKikqaPnjNKp7flvqWU8hzG/bzOdGx6bt6rVfvd9qHZ8XbL1zwGL+9rvdFdpaZaX1GAOwtheFY5V1aDhv/uoJSkM9oWPXqGNO56hRB6nWcQitZmq//vIglJ1ro/Yv26fZdfXuiWIZ9a6X4rb99b1R25fVAw9+T6XRfdOTcnv77K3luc/XpSfPiLT/yVmiLSKn6PSTS6OWNDpGb88zHbcnbd7MMyCV32jZ2/Ns9LzPH7/Rto2eDY3qmj9W+jy313hfvQ9rPYPnVnlP59Ho3ZK2a8Wy7H1X6zg9aSPKqndNY+BqZOQqe24wtI3ITYQcHXlppp2Jmpg+8638bl2f2V+RgAQk0BMCg16J7wk095HAYCdw4p1TYob5wc6hnc5/chbOn7Idt1O9qloXhlIQ6nt2Fr5fa8x4q899aqaUYCCexbQEigQk0BICREs+mg1dY8gMY/cVCUhAAu1AYNCH07dDI1gHCUhAAhKQgAQkIAEJ9AUBw+n7gmJ7lWE4/cC3R7uF07cm9eTAc7YGEpCABCQgAQlIQAISkIAEJCCByhFQia9ck3pCEpCABCQgAQlIQAISkIAEJFBVAirxVW1Zz0sCEpCABCQgAQlIYNAReOvd2lP5DToYFTjhN23PCrRi35+CSnzfM7VECUhAAhKQgAQkIAEJDAiBW56ZNiDH9aCtIVCcFaE1R7HUTiOgEt9pLWZ9JSABCUhAAhKQgAQkUIPAuHufzqaq1RtfA09HrWbaxONvn9JRdbay/UNAJb5/OHsUCUhAAhKQgAQkIAEJtJzApJdmhJ0vmxSumfKKynzLabfmAITQX/bYS2Gzi+4L978wvTUHsdSOJuA88R3dfFZeAhKQgAQkIAEJSEAC3QmgyP/3NZO7r/SbBCRQGQJ64ivTlJ6IBCQgAQlIQAISkIAEJCABCVSdgEp81VvY85OABCQgAQlIQAISkIAEJCCByhBQia9MU3oiEpCABCQgAQlIQAISkIAEJFB1AirxVW9hz08CEpCABCQgAQlIQAISkIAEKkNAJb4yTemJSEACEpCABCQgAQlIQAISkEDVCajEV72FPT8JSEACEpCABCQgAQlIQAISqAwBlfjKNKUnIgEJSEACEpCABCQgAQlIQAJVJ6ASX/UW9vwkIAEJSEACEpCABCQgAQlIoDIEVOIr05SeiAQkIAEJSEACEpCABCQgAQlUnYBKfNVb2POTgAQkIAEJSEACEpCABCQggcoQUImvTFN6IhKQgAQkIAEJSEACEpCABCRQdQIq8VVvYc9PAhKQgAQkIAEJSEACEpCABCpDQCW+Mk3piUhAAhKQgAQkIAEJSEACEpBA1QmoxFe9hT0/CUhAAhKQgAQkIAEJSEACEqgMAZX4yjSlJyIBCUhAAhKQgAQkIAEJSEACVScwz+xMWnGSU558KoxecYVWFG2ZEpCABCQgAQlIQAISkIAEJCCBlhJoV51WT3xLm93CJSABCUhAAhKQgAQkIAEJSEACfUdAJb7vWFqSBCQgAQlIQAISkIAEJCABCUigpQRU4luK18IlIAEJSEACEpCABCQgAQlIQAJ9R2Bo3xVlSRKQgAQkIAEJSEACEugbAtNnzAhTp04Lw4YO6ZsCc6XMeve9MHLkiDB8kUVya/0oAQlIoDMI6InvjHaylhKQgAQkIAEJSGBQEWiVAg9EDAOUr0hAAhLoRAIq8Z3YatZZAhKQgAQkIAEJVJxAKzzweWStLj9/LD9LQAIS6EsCKvF9SdOyJCABCUhAAhKQgAQkIAEJSEACLSTgmPgWwrVoCUhAAhKQgAQkIIHWEZg9e3Z4+umnwxtvvBEWXnjhuHz33XfDmDFjwgILLNC6A1uyBCQggQEkoBI/gPA9tAQkIAEJSEACEpBAzwi899574amnngof+chHwkILLRReffXV8Nxzz4X55psv3HLLLWHdddcNiy++eM8Kdy8JSEACbUzAcPo2bhyrJgEJSEACEpCABCRQTmDChAlh2WWXDe+//3545JFHwvXXXx/wws+cOTN8+MMfDnfddVf5jq6VgAQk0OEEVOI7vAGtvgQkIAEJSEACEhhMBFDUH3roobDhhhuGP//5z+GBBx4Ir732WvjXv/4Vw+nxyvN5ypQpUaEfTGw8VwlIYHAQMJx+cLSzZykBCUhAAhKQgAQ6ngDh8y+88EL42Mc+FpZYYomotE+bNi2svfbaYc011wyvv/56WHrppcNbb70VXnnllXDfffeFjTfeuOPP2xOQgAQkkCegJz5Pw88SkIAEJCABCUhAAm1HgBD5SZMmhZVXXjl89KMfjWPhZ8yYETbbbLPobSeJ3fDhw8MyyywThgwZEv8Itf/b3/6mN77tWtMKSUACvSUw6D3x//znP2NIFhlNseqOHDmyG9PJkyeHl156qdu6RRZZJCZL6bayjb/ce++94R//+Ef47Gc/G5O9pKpeddVV0WKNhXrUqFHhgAMOCDvvvHPYbbfd0ibdltOnT++2zY033hgt4DvssEOYNWtW+N3vfhfHoJFIpkywjt9xxx3h4YcfDiuuuGL4xCc+Ea3lbEtoHPuvuuqq0Zpetv/JJ58cnnzyyfDzn/+87Oc51t16661h3Lhx4Sc/+UlYaaWV5vjdFRKQgAQkIAEJdAaBxx9/PGyyySaBfhl9Gvpt99xzT1TsUeDx0D/77LOxH0fCO/ol888/f1hwwQWjIo+XvsrCOTPEgH7S8ssvH/u0Q4fW7+bDiD4Z7JZbbrmwxhprRGZ5Ts2US3+LWQLyMnr06FgP1hENwewBRaEN11tvvW6rmWkAYw1DIoiuGDFiRLff/VKbAEat+++/v3SDfHuUbtDPK4meYcjLPPPMEz74wQ+GD3zgA/1cg84/XP27u/PPr+4ZXHrppeHXv/51fEC8+eabgYfdscceG1ZfffWu/S644IL48M9PU7LCCit0lBJ/+umnh/PPPz9mbSVjK3LqqaeGww47LGy++eZRcX/iiSfCJZdcEn+rpcQ/88wz3bb5/ve/H9mgxHMz7rHHHuFrX/taKRtetBgRKCMJD2/qxfqpU6eG3XffPRx++OE1lfjx48fH8W0o5TzcG8lNN90U/vCHP4S99torKvEXX3xxuOaaa8IZZ5wRMMQoEpCABCQgAQl0BoHFFlssOgKo7ZJLLhkV+WuvvTb24fiNbPSrrbZaPBmUd+Sdd94J8847b+xjxBUV/YcyftJJJ4W77747RiKgHBGt8J3vfKfmNHsofMcdd1zsxy211FLhxRdfDCh63/ve97oU52bKxcGDk4V+FREQSXbdddcuJZ7+G+XnBaUew0FeiaePhqOG9mQ4BOVRn1VWWSW/q59rEGB2hrPOOmuOX8kXsffee3e1xxwb9PMKklDedttt0bGI8QdHHvoIySiV5gkMWiUepRMFHsUT5ZEwLR5m5557bvTcJoSMu9pll11qeqfTdp20xOONsozF9fLLL49WV158zz//fHxw1jqXZrapte9BBx0ULW48yLfccsvw4IMPRuX6i1/8Yth+++1r7dZt/e233x7bqRkFnh15eVE+4XQIUQC0OUYAlfiIxH8SkIAEJCCBjiCA4s5fEvokdPzxAuO9JYkd08vh1UOxRD7+8Y9HRZDs9VUWsvLjgf3Rj34UHVE4Zr75zW+GK664IqBMlwmOjr///e/htNNOi44Oohi++tWvxkSByZnTTLn0kxH6Vqm/VTzeKaec0m3V22+/Hb70pS+FddZZp2s9Cugvf/nL6Fjaf//9Y3/vmGOOCTiiqKPSmMCHPvShgPMxL0TjYghZa6218qsH7DP3IrNGoLAzFAb5y1/+Eu68884wZsyY6JkfsMp12IEH7Zh4QuQJI8eLjJUWTzvKJQ++JFiHSIpC4pSqCIrwF77whfigvfrqq7usrYS6o0ynB+WBBx4YPeQ/+9nP4gvhpz/9aQy9z2/TLBOiHMgcu+mmm4Y999wzWom33XbbcNFFF4Wvf/3r3SzkhG0dccQRMTkNxhNeIEnYFqMLQn032GCDQL0OPfTQOEfspz/96UB0RRI+77TTTuGvf/1r+MY3vtH1YNtqq62igs92vPSpE3PMbr311rG8FBK2zTbbxP1TeSxPOOGEsP7668cXH+Xz+corrwyf+9znIideOHQiFAlIQAISkIAEWktg0UUXjX0XHAUonkRUDhs2LOBZpm+HYosHGKWxykKGfvq0KZKUIYT0dYhUqCX0VejfpuGGKOAogSjzSZopN3nY56avTL+JNqHvlIQhmrQf0ZMIkaN4j+mXM3xC6RmBCy+8MEY7MFy1HQSdgAgPopq5R/njM9cDkTMISj7GBxR7ooSJ0CCaAKMThikckHzOC45IrqHf/va3cTkY+uKDVonH2nPUUUfFJCjpIpg4cWIcq52+o8AT4sHFhEWT8HEeaJ0qJHfZcccd4/gwbgjCmJJw43DDkCMA4ebgIYvyy0OdG6y4Tdq30RLP+Sc/+ckYOnPiiSdGjzz7fOpTnwrf/e5348s2lYEVlhuQl8of//jH+HJGYUeoEx58JNWF/c8555wYgo+yzkuceiO8WBiHRcgYLzbOA2FMHWFmWAMxLJAbAKMCCXE4X6y+CNvzsGD8HYJyf+aZZ8ahA1gQU/kc8+WXX46GIM7v29/+dtzefxKQgAQkIAEJ9A8Bogvp15CXB4WF9z7j4PHME5pdZUHxJq9TXvhOP4V+bJkQxs7vOHToJ+GZR2HGOZGkmXIpA+X77LPPjlGeOH8effTRVMQcS5S13//+9wHHC0aYJAy3xKGShn2ynjYlpD4/FDNt77IxAYZXPPbYY10OsMZ7tH4LImHJP0b+BhRzIqPJy4ARKA1dpt9Pf5+IGq4JojTQCXAIoo8wHJfrlesWSdcxUdVcMxgJuK4ZVlJlGbRKfLFRb7jhhqhk4qVOwkVEogXGa/MiwFrEeOrf/OY3aZOOWjL2HMMEVs5kra13AtwM3AQo/J///Ofrbdrwtx//+MfRSoynmhcqyUpYV3yx8kDnJYKVjagAlHVu3HqCN53x7kQZcGNTblEIqyfsDsEYwxAKkr9gqcOwQY4Axs+fd955XeOzsAAjDD9ACMdn+/w1wvr99tsv3HzzzdHiT+cBxR92igQkIAEJSEAC/UcABYGOPU4LHDMoAXj+qtyZ5/xQjIsJ4PiO8wEFqExQ4olGZQw6UY5ENjL8IIU4N1su/R2UL+qA4QClkb5ecoAUj02fjr5d3gvPNtSzeA4kPcPBUuscimX7vTuBdvPCp9qNHTs2Jg3HaYenHUWedXmhP0+ELNcUhiWuRxJiMyxgyyxyGmMPCRkRIm4WX3zxQAQtTjqWROPUSvKXP04nf1aJz1oPyw7KOQ+xfGZ1vMGM4SZhB4rb0UcfHccWYUHsRCUNBX7FLCs83uQJEyY0vG5JLFK8qRruVGMDjCAouiSeISweA8mRRx4Zb9A8SyyzWHQRQsGQWi8CfkMxTyFcWOe4wWnPFBLPNrWE9uXhgFFmww03jO2LcQNPPcKLjDJTiH5aFpV4QvaTUGceRoT1KBKQgAQkIAEJ9B8BppfDGYBHnihAOv70N1AIqioMH0DwPuYlfc97tvO/E4WYIh7pjzE7EZGnyXHRbLmMuWd4JLmW9t133zg2nna47LLL8oeLn3Hc4DD5zGc+080Lz4/UM9U5vyORBKku+fV+rk+AUHRmdGDIaDsJxh4chBhn6MPT12YGCa7HvD6ADoIRB0l5rFiHoCewLjkC8cTTp0/bsw3fi7OLsb5KMuiVeEK0f/CDH4QtttiiqQudi40HCt7fThMyVhJqzoOSm7qRZbPWg7835w0/rL1YavfZZ5/oPceDniTdqHxPynz6rWxZTHKXrMGMrW9GyI5J+xNlgQd/o402ihle2ZeHAVELhOkzHgvjDWPOillS83VIdc4/SJqph9tIQAISkIAEJNA7AryDGd5Gdnr6A3T6UejTcLreld6ee6PgI80XgQAACEJJREFUEjVaVFj4Tih6PmQ9fwYo6wwlJAcSfTMiFonYpK+DI6Sn5cKevlRxzDLHJlIRRZ3jFIW2QhnLC0YYIiuS8pb/zc+1CdB+eOHxYLdbxncMCyjfRIEQKk+CSvJtETXTE92Kcy0z9HD9ogs049SrTbK9fxnUSjxjbMjYSHZMpkYrCh7g448/vpuymzysSy+9dHHztv9O2DieZrKEksmVB3Z/CIlVeKgzD30SXixpTkjCqnoqePfTDcqDHisy42GSMl1WbjoeHnPGCxEOj8WSsBy8+kRlJEle929961vx9xRin353KQEJSEACEpBAexCgP0DnHUcB4bUo8nTwiUSssqAIFSMscVKQG6CWUwEFGVZ54TueUpghzZRLlGJxWjOGHhb7yUwph3e+zAvPsVDocJjkFXnOASdLuymi1LedheGfKXFzu9WTPjhtmr8u0/fUP5+bOlMO93rSz9K+fB81alS346TfqrIctEo8D3SSouFtZuwECRZIosAfDzCETJ2EZo8bNy4u8RgTik4Idi3LZidcGF/+8pdj2BTjzlMSt1bWmxB3lONf/epXMdSKpCcowySx4wYjCqKnQjuSpZ4xXYS1M+6N8e5lkizxJJ4jrJ9pUQjfJws+1mHCwSgvny+AFxhDLLBYc62kaVfKynedBCQgAQlIQAIDRwCHwcorrxynoiOfEcZ6ktiizFdZcNLg+f7FL34RDRhMp0ti3/xwvx/+8IexH5Y44C2/7rrrYng7OQQIrSdak7HySblvplz6w+zL0ETKIUcR0/4V+3Zsg3GAsP0yIdEwCc+IjqRPjgJPv5EhjihpSnMEMGTRn6VvTBLvdhOGqeIhvylLTEcybf6YYg7ht54IxqqU/Jr7nuuH5IrtkpG/J+fUzD7/HnzczJYV24ZM7Cn06Ljjjut2diiZo0ePjp5ikqCh6CaFH4XusMMO67Z9p3zJW73I6H7PPffE6dxIEJEspljDkLQsO7f0W1rmtylbR4g8418OPvjgcP7558c/FGIeMCSS4+Wa5nTN75//XKtOKOBY3Cmb8TVEVDBFXdn2eNWxGPOiIdyO8Te0LXOb8qLjeLwseAnmBYMDyTFQ+DE6JCnWj/Vl69L2LiUgAQlIQAISaB0BFHaM8fQ7mFMehQYlM3mWW3fkgS0Z59IhhxwS+1Qo4pw/0Y84URA4kDQY73uSr3zlK7HPQnIxvOT0xVDsmSs+SaNy2Y7kY/SpcIaQpAxFnOGShOonIXwaLzxh07WcYBgOUOBPOumkOMsPEZXkKyqLlE3lupyTAF74J7PEzVwP7SgMjcB5Sj1JnI2Q0DA/WwH6Sl5naXQeKOtcYzhiiaxljD1DCXDEVVnmyW7s2a04wSlPPhVGr9gzi0or6tPbMkmMwtjnemHavT3GYNifkHe85XjFezPmHgMML2ge7mSxp0weDMl6XI8llnlucCz2Sdif8P78+Pb0G0Mqjj322OiNLxvHlbZzKQEJSEACEpBA3xEohsjWK5npqnAI0K1lyCB9DIZNEl2JkZ8w7jJhxpwqCX0cFOWiEoSBo0w5ghf7oEgV98lzqVVu2iaVgxLfW6Ed6aP1pp/Y2zq4f+sJpER2fdnOGKrK+vK9OZt21WkHrSd+bhszjd+e2/3cvjsBrMPFxHDdt+jZtxRJ0MzexSlM2Kdsf0JxiMTAskzUAGFligQkIAEJSEAC7UeAOc3Jdk10HgolGen5QzFNWazbr9Z9X6OyPg5HqRUpCJ9mFO9a5aYzaLactH29JUYXpfoE+lJ5T7T6WoFP5bbjctCOiW/HxrBOzRMgMV4a99b8XnO35aRJk2JmeqZMYXyRURhzx8+tJSABCUhAAr0hMOvd5maaSUo7iiRGeWaSwXOMsFwxm163TJotv2xf10lAAhIYSAKG0w8kfY8tAQlIQAISkIAEJFBKYHo2BG/q1Glh2NAhpb+nlYTNk4wYAz9/KPMMu5s4cWKcWYbfxo4dmzaPSxT4kSNHhOFZhKAiAQlIoBYBw+lrkXG9BCQgAQlIQAISkIAECgRQsJtRssvGtZMnh2nLFAlIQAJVJGA4fRVb1XOSgAQkIAEJSEACEpCABCQggUoSUImvZLN6UhKQgAQkIAEJSEACEpCABCRQRQJmp69iq3pOEpCABCQgAQlIoMMJ3HfpXeGBy+4JS6y0VNjmyB3CAossEF6e8mK4btxV4Z033glbHDg2jN5wlfDerPfCzWddH56447Gw0sZjwhb/s3UYMqz+OPoOR2P1JSCBQU5AJX6QXwCevgQkIAEJSEACEmhHAg9cfm+Y+dbM8OzDT4cbTrs6LLzY8KjET3321VjdCefdFJ66/8lsm3fC47dnU8tlc6E/duujYd3/2iCMWHZUO56SdZKABCTQJwRU4vsEo4VIQAISkIAEJCABCfQlgXV2Wr/LEz/2kO26PPHXZp74mZknftP9t+zyxA+db2iXJ374kov2ZTUsSwISkEDbEXCKubZrEiskAQlIQAISkIAEJCABCUhAAgNNoF2nmDOx3UBfGR5fAhKQgAQkIAEJSEACEpCABCTQJAGV+CZBuZkEJCABCUhAAhKQgAQkIAEJSGCgCbR0TPzUadMG+vw8vgQkIAEJSEACEpCABCQgAQlIoDIEWqrEjxwxojKgPBEJSEACEpCABCQgAQlIQAISGDwEpk17rS1P1nD6tmwWKyUBCUhAAhKQgAQkIAEJSEACEpiTgEr8nExcIwEJSEACEpCABCQgAQlIQAISaEsCKvFt2SxWSgISkIAEJCABCUhAAhKQgAQkMCcBlfg5mbhGAhKQgAQkIAEJSEACEpCABCTQlgT+D8krigUzcu3PAAAAAElFTkSuQmCC)"
      ]
    }
  ]
}