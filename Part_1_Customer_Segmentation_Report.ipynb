{
  "nbformat": 4,
  "nbformat_minor": 0,
  "metadata": {
    "colab": {
      "name": "Part 1: Customer Segmentation Report.ipynb",
      "provenance": [],
      "collapsed_sections": []
    },
    "kernelspec": {
      "display_name": "Python 3",
      "language": "python",
      "name": "python3"
    },
    "language_info": {
      "codemirror_mode": {
        "name": "ipython",
        "version": 3
      },
      "file_extension": ".py",
      "mimetype": "text/x-python",
      "name": "python",
      "nbconvert_exporter": "python",
      "pygments_lexer": "ipython3",
      "version": "3.6.3"
    }
  },
  "cells": [
    {
      "cell_type": "markdown",
      "metadata": {
        "colab_type": "text",
        "id": "HKmEEi_zfJN-"
      },
      "source": [
        "# Capstone Project: Create a Customer Segmentation Report for Arvato Financial Services\n",
        "\n",
        "In this project, you will analyze demographics data for customers of a mail-order sales company in Germany, comparing it against demographics information for the general population. You'll use unsupervised learning techniques to perform customer segmentation, identifying the parts of the population that best describe the core customer base of the company. Then, you'll apply what you've learned on a third dataset with demographics information for targets of a marketing campaign for the company, and use a model to predict which individuals are most likely to convert into becoming customers for the company. The data that you will use has been provided by our partners at Bertelsmann Arvato Analytics, and represents a real-life data science task.\n",
        "\n",
        "If you completed the first term of this program, you will be familiar with the first part of this project, from the unsupervised learning project. The versions of those two datasets used in this project will include many more features and has not been pre-cleaned. You are also free to choose whatever approach you'd like to analyzing the data rather than follow pre-determined steps. In your work on this project, make sure that you carefully document your steps and decisions, since your main deliverable for this project will be a blog post reporting your findings."
      ]
    },
    {
      "cell_type": "code",
      "metadata": {
        "colab_type": "code",
        "id": "4Kiw5SytfJOC",
        "colab": {
          "base_uri": "https://localhost:8080/",
          "height": 102
        },
        "outputId": "86ed4a04-ba60-4ed6-fecf-1d46ccb25f8f"
      },
      "source": [
        "!pip install -U scikit-learn"
      ],
      "execution_count": null,
      "outputs": [
        {
          "output_type": "stream",
          "text": [
            "Requirement already up-to-date: scikit-learn in /usr/local/lib/python3.6/dist-packages (0.23.2)\n",
            "Requirement already satisfied, skipping upgrade: scipy>=0.19.1 in /usr/local/lib/python3.6/dist-packages (from scikit-learn) (1.4.1)\n",
            "Requirement already satisfied, skipping upgrade: numpy>=1.13.3 in /usr/local/lib/python3.6/dist-packages (from scikit-learn) (1.18.5)\n",
            "Requirement already satisfied, skipping upgrade: joblib>=0.11 in /usr/local/lib/python3.6/dist-packages (from scikit-learn) (0.16.0)\n",
            "Requirement already satisfied, skipping upgrade: threadpoolctl>=2.0.0 in /usr/local/lib/python3.6/dist-packages (from scikit-learn) (2.1.0)\n"
          ],
          "name": "stdout"
        }
      ]
    },
    {
      "cell_type": "markdown",
      "metadata": {
        "colab_type": "text",
        "id": "NDK3FX6uFr-h"
      },
      "source": [
        "### Inclusion of all the necessary libraries"
      ]
    },
    {
      "cell_type": "code",
      "metadata": {
        "colab_type": "code",
        "id": "oCV3vjCsfJOX",
        "colab": {}
      },
      "source": [
        "# import libraries here; add more as necessary\n",
        "import numpy as np\n",
        "import pandas as pd\n",
        "import matplotlib.pyplot as plt\n",
        "import seaborn as sns\n",
        "\n",
        "from sklearn.preprocessing import StandardScaler\n",
        "from sklearn.preprocessing import MinMaxScaler\n",
        "from sklearn.decomposition import PCA\n",
        "from sklearn.cluster import KMeans\n",
        "from sklearn.ensemble import RandomForestClassifier\n",
        "from sklearn.ensemble import AdaBoostClassifier\n",
        "from sklearn.tree import DecisionTreeClassifier\n",
        "from sklearn.model_selection import cross_val_score, StratifiedKFold\n",
        "from sklearn.naive_bayes import GaussianNB\n",
        "from sklearn.svm import SVC\n",
        "from sklearn.datasets import load_digits\n",
        "from sklearn.model_selection import learning_curve\n",
        "from sklearn.model_selection import ShuffleSplit\n",
        "from sklearn.metrics import accuracy_score, roc_auc_score\n",
        "from sklearn.model_selection import GridSearchCV\n",
        "from sklearn.manifold import TSNE\n",
        "import sklearn\n",
        "\n",
        "#from xgboost import XGBClassifier\n",
        "from sklearn.impute import SimpleImputer\n",
        "from scipy import stats\n",
        "\n",
        "import datetime\n",
        "\n",
        "# magic word for producing visualizations in notebook\n",
        "%matplotlib inline"
      ],
      "execution_count": null,
      "outputs": []
    },
    {
      "cell_type": "code",
      "metadata": {
        "id": "m5sA7NEASBzH",
        "colab_type": "code",
        "colab": {}
      },
      "source": [
        ""
      ],
      "execution_count": null,
      "outputs": []
    },
    {
      "cell_type": "markdown",
      "metadata": {
        "colab_type": "text",
        "id": "MJrto_LrFPhc"
      },
      "source": [
        "### Cleaning functions\n",
        "\n"
      ]
    },
    {
      "cell_type": "code",
      "metadata": {
        "colab_type": "code",
        "id": "LtYmkLFOfJP0",
        "colab": {}
      },
      "source": [
        "#data cleaning\n",
        "def str2float(x):\n",
        "    if type(x)==str:\n",
        "        return eval(x)\n",
        "    else:\n",
        "        return x"
      ],
      "execution_count": null,
      "outputs": []
    },
    {
      "cell_type": "code",
      "metadata": {
        "colab_type": "code",
        "id": "KIluOT4xfJP3",
        "colab": {}
      },
      "source": [
        "def data_cleaning(df,clustering=False):\n",
        "    '''\n",
        "    Replace strings \n",
        "    Replace missing values to np.nan - data taken from the excel provided.\n",
        "    Replace na with mean\n",
        "    LNR set as index\n",
        "    Removal of outliers\n",
        "    Cleaning columns if it doesn't have enough data\n",
        "    '''\n",
        "    print(df.shape)\n",
        "        \n",
        "    for column in ['CAMEO_DEUG_2015', 'CAMEO_DEU_2015', 'CAMEO_INTL_2015']:\n",
        "        try:\n",
        "            df[column] = df[column].replace([\"X\",\"XX\"],np.nan)\n",
        "        except:\n",
        "            pass\n",
        "        \n",
        "    for column in ['CAMEO_DEUG_2015', 'CAMEO_INTL_2015']:\n",
        "        df[column]=df[column].apply(str2float)\n",
        "    \n",
        "    #change the catergory columns into numbertraining\n",
        "    for column in [\"CAMEO_DEU_2015\",\"D19_LETZTER_KAUF_BRANCHE\",\"OST_WEST_KZ\"]:\n",
        "        df[column] = pd.Categorical(df[column])\n",
        "        df[column] = df[column].cat.codes\n",
        "        \n",
        "    #extract the time,and keep the year   \n",
        "    df[\"EINGEFUEGT_AM\"]=pd.to_datetime(df[\"EINGEFUEGT_AM\"]).dt.year\n",
        "  \n",
        "    temp_col = [\"ALTERSKATEGORIE_GROB\",\"ANREDE_KZ\",\"GEBAEUDETYP\",\"GEOSCORE_KLS7\",\"HAUSHALTSSTRUKTUR\",\n",
        "            'HH_EINKOMMEN_SCORE',\"KBA05_BAUMAX\",\"KBA05_GBZ\",\"KKK\",\"NATIONALITAET_KZ\",\"PRAEGENDE_JUGENDJAHRE\",\n",
        "            \"REGIOTYP\",\"TITEL_KZ\",\"WOHNDAUER_2008\",\"WACHSTUMSGEBIET_NB\",\"W_KEIT_KIND_HH\"]\n",
        "    for column in temp_col:\n",
        "        try:\n",
        "            df[column] = df[column].replace([0,-1],np.nan)\n",
        "        except:\n",
        "            pass\n",
        "        \n",
        "    temp_col= ['KBA05_ALTER1','KBA05_ALTER2','KBA05_ALTER3','KBA05_ALTER4','KBA05_ANHANG','KBA05_AUTOQUOT',\n",
        "             'KBA05_CCM1','KBA05_CCM2','KBA05_CCM3','KBA05_CCM4','KBA05_DIESEL','KBA05_FRAU','KBA05_HERST1',\n",
        "             'KBA05_HERST2','KBA05_HERST3','KBA05_HERST4','KBA05_HERST5','KBA05_HERSTTEMP','KBA05_KRSAQUOT',\n",
        "             'KBA05_KRSHERST1','KBA05_KRSHERST2','KBA05_KRSHERST3','KBA05_KRSKLEIN','KBA05_KRSOBER','KBA05_KRSVAN',\n",
        "             'KBA05_KRSZUL','KBA05_KW1','KBA05_KW2','KBA05_KW3','KBA05_MAXAH','KBA05_MAXBJ','KBA05_MAXHERST',\n",
        "             'KBA05_MAXSEG','KBA05_MAXVORB','KBA05_MOD1','KBA05_MOD2','KBA05_MOD3','KBA05_MOD4','KBA05_MOD8',\n",
        "             'KBA05_MODTEMP','KBA05_MOTOR','KBA05_MOTRAD','KBA05_SEG1','KBA05_SEG10','KBA05_SEG2','KBA05_SEG3',\n",
        "             'KBA05_SEG4','KBA05_SEG5','KBA05_SEG6','KBA05_SEG7','KBA05_SEG8','KBA05_SEG9','KBA05_VORB0',\n",
        "             'KBA05_VORB1','KBA05_VORB2','KBA05_ZUL1','KBA05_ZUL2','KBA05_ZUL3','KBA05_ZUL4','RELAT_AB',\n",
        "             'SEMIO_DOM',\n",
        "             'SEMIO_ERL','SEMIO_FAM','SEMIO_KAEM','SEMIO_KRIT','SEMIO_KULT','SEMIO_LUST','SEMIO_MAT',\n",
        "             'SEMIO_PFLICHT',\n",
        "             'SEMIO_RAT','SEMIO_REL','SEMIO_SOZ','SEMIO_TRADV','SEMIO_VERT','ZABEOTYP']\n",
        "    for column in temp_col:\n",
        "        try:\n",
        "            df[column] = df[column].replace([9,-1],np.nan)\n",
        "        except:\n",
        "            pass\n",
        "\n",
        "    for column in df.columns.values:\n",
        "        try:\n",
        "            df[column] = df[column].replace([-1],np.nan)\n",
        "        except:\n",
        "            pass\n",
        "        \n",
        "    df['GEBURTSJAHR'] = df[\"GEBURTSJAHR\"].replace([0],np.nan)\n",
        "\n",
        "    #get rid of the rows which have the age is 0 which corresponds to NaN\n",
        "    df = df.drop(['Unnamed: 0'],axis = 1)\n",
        "    if clustering:\n",
        "      corr_matrix = df.corr().abs()\n",
        "      limit = corr_matrix.where(np.triu(np.ones(corr_matrix.shape),k=1).astype(np.bool))\n",
        "      drop_col = [column for column in limit.columns if any(limit[column] > 0.7)]\n",
        "      df = df.drop(drop_col,axis =1)\n",
        "    \n",
        "    df = df.set_index('LNR')\n",
        "    \n",
        "    df_columns = list(df.columns.values)\n",
        "    \n",
        "    imputer = SimpleImputer(missing_values = np.nan , strategy = 'most_frequent')\n",
        "    df = imputer.fit_transform(df)\n",
        "    df = pd.DataFrame(df, columns = df_columns)\n",
        "    print(df.shape)\n",
        "    \n",
        "    return df"
      ],
      "execution_count": null,
      "outputs": []
    },
    {
      "cell_type": "code",
      "metadata": {
        "colab_type": "code",
        "id": "PbKPPxJTfJO2",
        "colab": {}
      },
      "source": [
        "# load in the data\n",
        "azdias = pd.read_csv('../../data/Term2/capstone/arvato_data/Udacity_AZDIAS_052018.csv', sep=';')\n",
        "customers = pd.read_csv('../../data/Term2/capstone/arvato_data/Udacity_CUSTOMERS_052018.csv', sep=';')"
      ],
      "execution_count": null,
      "outputs": []
    },
    {
      "cell_type": "markdown",
      "metadata": {
        "colab_type": "text",
        "id": "dlduoXk3fJPv"
      },
      "source": [
        "## Part 1: Customer Segmentation Report\n"
      ]
    },
    {
      "cell_type": "markdown",
      "metadata": {
        "colab_type": "text",
        "id": "hpLZfjApMqlj"
      },
      "source": [
        "\n",
        "The main bulk of your analysis will come in this part of the project. Here, you should use unsupervised learning techniques to describe the relationship between the demographics of the company's existing customers and the general population of Germany. By the end of this part, you should be able to describe parts of the general population that are more likely to be part of the mail-order company's main customer base, and which parts of the general population are less so.\n"
      ]
    },
    {
      "cell_type": "markdown",
      "metadata": {
        "colab_type": "text",
        "id": "RweR_Fl8mNah"
      },
      "source": [
        "### Data Cleaning"
      ]
    },
    {
      "cell_type": "code",
      "metadata": {
        "colab_type": "code",
        "id": "v-k_HGt-fJP7",
        "colab": {
          "base_uri": "https://localhost:8080/",
          "height": 85
        },
        "outputId": "7387316d-c43f-4962-bfa7-3875a9f21bf2"
      },
      "source": [
        "%%time\n",
        "customers_cleaned = data_cleaning(customers,True)\n",
        "del customers"
      ],
      "execution_count": null,
      "outputs": [
        {
          "output_type": "stream",
          "text": [
            "(191652, 370)\n",
            "(191652, 262)\n",
            "CPU times: user 3min 16s, sys: 5.73 s, total: 3min 22s\n",
            "Wall time: 3min 22s\n"
          ],
          "name": "stdout"
        }
      ]
    },
    {
      "cell_type": "code",
      "metadata": {
        "colab_type": "code",
        "id": "4XDb_6MtfJQA",
        "colab": {}
      },
      "source": [
        "# Check out unique values of ordinal features\n",
        "# display([\"{}: {}\".format(col_name, customers_cleaned[col_name].unique()) for col_name in customers_cleaned.columns])"
      ],
      "execution_count": null,
      "outputs": []
    },
    {
      "cell_type": "code",
      "metadata": {
        "colab_type": "code",
        "id": "8PKovZGVfJQF",
        "colab": {
          "base_uri": "https://localhost:8080/",
          "height": 153
        },
        "outputId": "aad81b90-1dbf-4fff-d122-cf49c898708a"
      },
      "source": [
        "print(customers_cleaned.head())"
      ],
      "execution_count": null,
      "outputs": [
        {
          "output_type": "stream",
          "text": [
            "  AGER_TYP AKT_DAT_KL  ... CUSTOMER_GROUP ONLINE_PURCHASE\n",
            "0        2          1  ...    MULTI_BUYER               0\n",
            "1        2          9  ...   SINGLE_BUYER               0\n",
            "2        2          1  ...    MULTI_BUYER               0\n",
            "3        1          1  ...    MULTI_BUYER               0\n",
            "4        2          1  ...    MULTI_BUYER               0\n",
            "\n",
            "[5 rows x 262 columns]\n"
          ],
          "name": "stdout"
        }
      ]
    },
    {
      "cell_type": "code",
      "metadata": {
        "colab_type": "code",
        "id": "occCaI1QfJQL",
        "scrolled": true,
        "colab": {
          "base_uri": "https://localhost:8080/",
          "height": 85
        },
        "outputId": "f8b16464-53c0-492d-825b-0a31faf1d7f4"
      },
      "source": [
        "%%time\n",
        "azdias_cleaned = data_cleaning(azdias,True)\n",
        "del azdias"
      ],
      "execution_count": null,
      "outputs": [
        {
          "output_type": "stream",
          "text": [
            "(891221, 367)\n",
            "(891221, 254)\n",
            "CPU times: user 7min 32s, sys: 14.6 s, total: 7min 47s\n",
            "Wall time: 7min 48s\n"
          ],
          "name": "stdout"
        }
      ]
    },
    {
      "cell_type": "code",
      "metadata": {
        "colab_type": "code",
        "id": "RZKtHmj8fJQQ",
        "colab": {
          "base_uri": "https://localhost:8080/",
          "height": 153
        },
        "outputId": "971dab8b-d449-4b32-890a-6d1d8fbd7849"
      },
      "source": [
        "print(azdias_cleaned.head())"
      ],
      "execution_count": null,
      "outputs": [
        {
          "output_type": "stream",
          "text": [
            "   AGER_TYP  AKT_DAT_KL  ALTER_HH  ...  W_KEIT_KIND_HH  WOHNLAGE  ZABEOTYP\n",
            "0       2.0         1.0       0.0  ...             6.0       3.0       3.0\n",
            "1       2.0         9.0       0.0  ...             3.0       4.0       5.0\n",
            "2       2.0         9.0      17.0  ...             3.0       2.0       5.0\n",
            "3       2.0         1.0      13.0  ...             6.0       7.0       3.0\n",
            "4       2.0         1.0      20.0  ...             2.0       3.0       4.0\n",
            "\n",
            "[5 rows x 254 columns]\n"
          ],
          "name": "stdout"
        }
      ]
    },
    {
      "cell_type": "code",
      "metadata": {
        "colab_type": "code",
        "id": "YFyIvgydfJQU",
        "scrolled": false,
        "colab": {}
      },
      "source": [
        "# Check out unique values of ordinal features\n",
        "# display([\"{}: {}\".format(col_name, azdias_cleaned[col_name].unique()) for col_name in azdias_cleaned.columns])"
      ],
      "execution_count": null,
      "outputs": []
    },
    {
      "cell_type": "code",
      "metadata": {
        "colab_type": "code",
        "id": "RxmwAMJLfJQY",
        "colab": {}
      },
      "source": [
        "#Difference between customer and azdias dataset\n",
        "diff = np.setdiff1d(customers_cleaned.columns, azdias_cleaned.columns)\n",
        "customers_cleaned.drop(columns=diff, inplace=True, axis = 1)"
      ],
      "execution_count": null,
      "outputs": []
    },
    {
      "cell_type": "code",
      "metadata": {
        "colab_type": "code",
        "id": "nnLaoHCkfJQa",
        "colab": {}
      },
      "source": [
        "diff = np.setdiff1d(azdias_cleaned.columns, customers_cleaned.columns)\n",
        "azdias_cleaned.drop(columns=diff, inplace=True, axis = 1)"
      ],
      "execution_count": null,
      "outputs": []
    },
    {
      "cell_type": "markdown",
      "metadata": {
        "colab_type": "text",
        "id": "fFXqPzgbmWJa"
      },
      "source": [
        "### PCA"
      ]
    },
    {
      "cell_type": "code",
      "metadata": {
        "colab_type": "code",
        "id": "ANOZOKZ-fJQe",
        "colab": {}
      },
      "source": [
        "scaler = StandardScaler()"
      ],
      "execution_count": null,
      "outputs": []
    },
    {
      "cell_type": "code",
      "metadata": {
        "colab_type": "code",
        "id": "6FvFz1r4fJQj",
        "colab": {
          "base_uri": "https://localhost:8080/",
          "height": 34
        },
        "outputId": "3ec3e8e3-212f-435d-80b7-1e25ffe0dc86"
      },
      "source": [
        "customers_cleaned.shape"
      ],
      "execution_count": null,
      "outputs": [
        {
          "output_type": "execute_result",
          "data": {
            "text/plain": [
              "(191652, 246)"
            ]
          },
          "metadata": {
            "tags": []
          },
          "execution_count": 45
        }
      ]
    },
    {
      "cell_type": "code",
      "metadata": {
        "colab_type": "code",
        "id": "6s-JlIKwfJQo",
        "colab": {
          "base_uri": "https://localhost:8080/",
          "height": 34
        },
        "outputId": "b620b457-40bc-4d0c-8c2c-4b7186aa3040"
      },
      "source": [
        "azdias_cleaned.shape"
      ],
      "execution_count": null,
      "outputs": [
        {
          "output_type": "execute_result",
          "data": {
            "text/plain": [
              "(891221, 246)"
            ]
          },
          "metadata": {
            "tags": []
          },
          "execution_count": 46
        }
      ]
    },
    {
      "cell_type": "code",
      "metadata": {
        "colab_type": "code",
        "id": "tBuVvDkjfJQw",
        "colab": {}
      },
      "source": [
        "customers_cleaned=pd.DataFrame(scaler.fit_transform(customers_cleaned.astype(float)),columns=customers_cleaned.columns)\n",
        "azdias_cleaned=pd.DataFrame(scaler.fit_transform(azdias_cleaned.astype(float)),columns=azdias_cleaned.columns)"
      ],
      "execution_count": null,
      "outputs": []
    },
    {
      "cell_type": "code",
      "metadata": {
        "colab_type": "code",
        "id": "n7dhYTITfJQ0",
        "colab": {}
      },
      "source": [
        "#Fitting the PCA algorithm with our Data\n",
        "pca = PCA().fit(azdias_cleaned)"
      ],
      "execution_count": null,
      "outputs": []
    },
    {
      "cell_type": "code",
      "metadata": {
        "colab_type": "code",
        "id": "T35rRTrFfJQ4",
        "colab": {
          "base_uri": "https://localhost:8080/",
          "height": 295
        },
        "outputId": "81a4c7f4-910f-4a39-b5f8-4313666eca28"
      },
      "source": [
        "#Plotting the Cumulative Summation of the Explained Variance\n",
        "plt.figure()\n",
        "plt.plot(np.cumsum(pca.explained_variance_ratio_))\n",
        "plt.xlabel('Number of Components')\n",
        "plt.ylabel('Variance (%)') #for each component\n",
        "plt.title('Cumulative Variance')\n",
        "plt.grid()\n",
        "plt.show()"
      ],
      "execution_count": null,
      "outputs": [
        {
          "output_type": "display_data",
          "data": {
            "image/png": "[encoded data removed]",
            "text/plain": [
              "<Figure size 432x288 with 1 Axes>"
            ]
          },
          "metadata": {
            "tags": [],
            "needs_background": "light"
          }
        }
      ]
    },
    {
      "cell_type": "code",
      "metadata": {
        "colab_type": "code",
        "id": "KJd2EJECfJQ6",
        "colab": {
          "base_uri": "https://localhost:8080/",
          "height": 295
        },
        "outputId": "9e22bce9-167f-4d6e-8ea8-1296d5f0d469"
      },
      "source": [
        "#Plotting the Variance\n",
        "plt.figure()\n",
        "plt.plot(pca.explained_variance_ratio_)\n",
        "plt.xlabel('Number of Components')\n",
        "plt.ylabel('Variance (%)') #for each component\n",
        "plt.title('Variance')\n",
        "plt.grid()\n",
        "plt.show()"
      ],
      "execution_count": null,
      "outputs": [
        {
          "output_type": "display_data",
          "data": {
            "image/png": "[encoded data removed]",
            "text/plain": [
              "<Figure size 432x288 with 1 Axes>"
            ]
          },
          "metadata": {
            "tags": [],
            "needs_background": "light"
          }
        }
      ]
    },
    {
      "cell_type": "code",
      "metadata": {
        "colab_type": "code",
        "id": "Zg6_TWYmfJQ-",
        "colab": {}
      },
      "source": [
        "azdias_cleaned['real_class']= 0\n",
        "customers_cleaned['real_class'] = 1"
      ],
      "execution_count": null,
      "outputs": []
    },
    {
      "cell_type": "markdown",
      "metadata": {
        "colab_type": "text",
        "id": "3ake4D8Hmdh4"
      },
      "source": [
        "### K-Mean Clustering"
      ]
    },
    {
      "cell_type": "code",
      "metadata": {
        "colab_type": "code",
        "id": "uQHS1JH-fJRY",
        "colab": {}
      },
      "source": [
        "#K-Means Clustering\n",
        "def clustering(df,center):\n",
        "    print(center) #for monitoring purpose\n",
        "    kmeans = KMeans(center)\n",
        "    model = kmeans.fit(df)\n",
        "    score = np.abs(model.score(df))\n",
        "    return score"
      ],
      "execution_count": null,
      "outputs": []
    },
    {
      "cell_type": "code",
      "metadata": {
        "colab_type": "code",
        "id": "afwHQWJpfJRb",
        "colab": {
          "base_uri": "https://localhost:8080/",
          "height": 391
        },
        "outputId": "ecc4e716-55b1-4a71-a393-16446d63a70d"
      },
      "source": [
        "%%time\n",
        "pca_scores = []\n",
        "centeriods = range(1,21)\n",
        "\n",
        "for center in centeriods:\n",
        "    pca_scores.append(clustering(azdias_cleaned.sample(20000),center))"
      ],
      "execution_count": null,
      "outputs": [
        {
          "output_type": "stream",
          "text": [
            "1\n",
            "2\n",
            "3\n",
            "4\n",
            "5\n",
            "6\n",
            "7\n",
            "8\n",
            "9\n",
            "10\n",
            "11\n",
            "12\n",
            "13\n",
            "14\n",
            "15\n",
            "16\n",
            "17\n",
            "18\n",
            "19\n",
            "20\n",
            "CPU times: user 7min 30s, sys: 28.2 s, total: 7min 58s\n",
            "Wall time: 4min 3s\n"
          ],
          "name": "stdout"
        }
      ]
    },
    {
      "cell_type": "code",
      "metadata": {
        "colab_type": "code",
        "id": "LN3nYKXdfJRd",
        "colab": {
          "base_uri": "https://localhost:8080/",
          "height": 374
        },
        "outputId": "ed29b419-8eff-4146-864f-f8c479b00318"
      },
      "source": [
        "print(pd.DataFrame(sorted(zip(centeriods, pca_scores),key = lambda x:x[1]), columns = ['centeroids','score']))"
      ],
      "execution_count": null,
      "outputs": [
        {
          "output_type": "stream",
          "text": [
            "    centeroids         score\n",
            "0           20  4.066376e+06\n",
            "1           19  4.084936e+06\n",
            "2           16  4.096682e+06\n",
            "3           18  4.097949e+06\n",
            "4           17  4.111294e+06\n",
            "5           15  4.165664e+06\n",
            "6           14  4.181616e+06\n",
            "7           13  4.206332e+06\n",
            "8           12  4.209389e+06\n",
            "9           10  4.226990e+06\n",
            "10          11  4.230024e+06\n",
            "11           8  4.279058e+06\n",
            "12           9  4.299930e+06\n",
            "13           7  4.342256e+06\n",
            "14           6  4.396892e+06\n",
            "15           5  4.456978e+06\n",
            "16           4  4.522106e+06\n",
            "17           3  4.590756e+06\n",
            "18           2  4.660307e+06\n",
            "19           1  4.928520e+06\n"
          ],
          "name": "stdout"
        }
      ]
    },
    {
      "cell_type": "code",
      "metadata": {
        "colab_type": "code",
        "id": "aHR7CDN0fJRi",
        "colab": {
          "base_uri": "https://localhost:8080/",
          "height": 311
        },
        "outputId": "92fb220d-a2c7-4320-dfa4-6b1db8531acd"
      },
      "source": [
        "plt.figure(figsize=(30,6))\n",
        "plt.plot(centeriods,pca_scores,marker='o')"
      ],
      "execution_count": null,
      "outputs": [
        {
          "output_type": "execute_result",
          "data": {
            "text/plain": [
              "[<matplotlib.lines.Line2D at 0x7f73a4387240>]"
            ]
          },
          "metadata": {
            "tags": []
          },
          "execution_count": 55
        },
        {
          "output_type": "display_data",
          "data": {
            "image/png": "[encoded data removed]",
            "text/plain": [
              "<Figure size 2160x432 with 1 Axes>"
            ]
          },
          "metadata": {
            "tags": [],
            "needs_background": "light"
          }
        }
      ]
    },
    {
      "cell_type": "code",
      "metadata": {
        "id": "Xh0xvaTQa2rH",
        "colab_type": "code",
        "colab": {}
      },
      "source": [
        "pca = PCA().fit(azdias_cleaned)\n",
        "azdiaz_pca = pca.transform(azdias_cleaned)\n",
        "pca = PCA().fit(customers_cleaned)\n",
        "customers_pca = pca.transform(customers_cleaned)"
      ],
      "execution_count": null,
      "outputs": []
    },
    {
      "cell_type": "code",
      "metadata": {
        "colab_type": "code",
        "id": "-pCPbUT9fJRl",
        "colab": {}
      },
      "source": [
        "kmeans = KMeans(10,random_state=123)\n",
        "pop_cluster = kmeans.fit_predict(azdiaz_pca)\n",
        "cus_cluster = kmeans.predict(customers_pca)"
      ],
      "execution_count": null,
      "outputs": []
    },
    {
      "cell_type": "markdown",
      "metadata": {
        "colab_type": "text",
        "id": "59gAoCvcfJRr"
      },
      "source": [
        "#### Final Conclusion"
      ]
    },
    {
      "cell_type": "code",
      "metadata": {
        "colab_type": "code",
        "id": "RBYnpABbfJRs",
        "colab": {
          "base_uri": "https://localhost:8080/",
          "height": 369
        },
        "outputId": "eb34b3c2-d543-4969-f201-ba08bd378e9f"
      },
      "source": [
        "fig = plt.figure()\n",
        "ax = fig.add_axes([0,0,2,1], title = 'General Population V/S Customer Distribution')\n",
        "sns.distplot(pop_cluster, label = \"Customer\",ax=ax)\n",
        "sns.distplot(cus_cluster, label = \"General Population\",ax=ax)\n",
        "ax.legend()"
      ],
      "execution_count": null,
      "outputs": [
        {
          "output_type": "execute_result",
          "data": {
            "text/plain": [
              "<matplotlib.legend.Legend at 0x7f73a4cac198>"
            ]
          },
          "metadata": {
            "tags": []
          },
          "execution_count": 58
        },
        {
          "output_type": "display_data",
          "data": {
            "image/png": "[encoded data removed]",
            "text/plain": [
              "<Figure size 432x288 with 1 Axes>"
            ]
          },
          "metadata": {
            "tags": [],
            "needs_background": "light"
          }
        }
      ]
    },
    {
      "cell_type": "markdown",
      "metadata": {
        "id": "W6JoAW09b6Cl",
        "colab_type": "text"
      },
      "source": [
        "**The above graphs shows that K-Means clustering with K = 10 helps to find customer from general public, it has very small difference, compared to others**"
      ]
    }
  ]
}